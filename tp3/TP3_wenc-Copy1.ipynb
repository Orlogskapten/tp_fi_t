{
 "cells": [
  {
   "cell_type": "markdown",
   "metadata": {},
   "source": [
    "# Couvertures d'un portefeuille obligataire\n",
    "\n",
    "Voici le notebook du TP3 de finance et les liens correspondants aux questions:\n",
    "\n",
    "1.<a href='#p1'>Partie 1</a>\n",
    "\n",
    "- <a href='#p1e1'>Exercice 1</a>\n",
    "- <a href='#p1e2'>Exercice 2</a>\n",
    "- <a href='#p1e3'>Exercice 3</a>\n",
    "- <a href='#p1e4'>Exercice 4</a>\n",
    "- <a href='#p1e5'>Exercice 5</a>\n",
    "\n",
    "2.<a href='#p2'>Partie 2</a>\n",
    "\n",
    "- <a href='#p2e1'>Exercice 1</a>\n",
    "- <a href='#p2e2'>Exercice 2</a>\n",
    "- <a href='#p2e3'>Exercice 3</a>\n",
    "- <a href='#p2e4'>Exercice 4</a>\n",
    "- <a href='#p2e5'>Exercice 5</a>\n",
    "- <a href='#p2e6'>Exercice 6</a>"
   ]
  },
  {
   "cell_type": "code",
   "execution_count": 1,
   "metadata": {
    "ExecuteTime": {
     "end_time": "2019-11-22T19:17:47.718167Z",
     "start_time": "2019-11-22T19:17:46.256976Z"
    }
   },
   "outputs": [],
   "source": [
    "import pandas as pd\n",
    "import numpy as np\n",
    "import matplotlib as mpl\n",
    "import matplotlib.pyplot as plt\n",
    "import datetime as dt\n",
    "import time\n",
    "\n",
    "from scipy.optimize import newton\n",
    "\n",
    "import itertools #pour construire un iterator pour une def de matrice question 4 et 5"
   ]
  },
  {
   "cell_type": "code",
   "execution_count": 2,
   "metadata": {
    "ExecuteTime": {
     "end_time": "2019-11-22T19:17:47.753017Z",
     "start_time": "2019-11-22T19:17:47.721099Z"
    },
    "scrolled": false
   },
   "outputs": [
    {
     "data": {
      "text/html": [
       "<div>\n",
       "<style scoped>\n",
       "    .dataframe tbody tr th:only-of-type {\n",
       "        vertical-align: middle;\n",
       "    }\n",
       "\n",
       "    .dataframe tbody tr th {\n",
       "        vertical-align: top;\n",
       "    }\n",
       "\n",
       "    .dataframe thead th {\n",
       "        text-align: right;\n",
       "    }\n",
       "</style>\n",
       "<table border=\"1\" class=\"dataframe\">\n",
       "  <thead>\n",
       "    <tr style=\"text-align: right;\">\n",
       "      <th></th>\n",
       "      <th>Maturity</th>\n",
       "      <th>rates</th>\n",
       "      <th>underlying</th>\n",
       "      <th>country</th>\n",
       "      <th>coupon</th>\n",
       "    </tr>\n",
       "  </thead>\n",
       "  <tbody>\n",
       "    <tr>\n",
       "      <td>0</td>\n",
       "      <td>0.083333</td>\n",
       "      <td>-0.00597</td>\n",
       "      <td>AZ066741 Corp</td>\n",
       "      <td>Germany</td>\n",
       "      <td>0.0</td>\n",
       "    </tr>\n",
       "    <tr>\n",
       "      <td>1</td>\n",
       "      <td>0.250000</td>\n",
       "      <td>-0.00633</td>\n",
       "      <td>AZ923444 Corp</td>\n",
       "      <td>Germany</td>\n",
       "      <td>0.0</td>\n",
       "    </tr>\n",
       "    <tr>\n",
       "      <td>2</td>\n",
       "      <td>0.500000</td>\n",
       "      <td>-0.00617</td>\n",
       "      <td>ZR961307 Corp</td>\n",
       "      <td>Germany</td>\n",
       "      <td>0.0</td>\n",
       "    </tr>\n",
       "    <tr>\n",
       "      <td>3</td>\n",
       "      <td>1.000000</td>\n",
       "      <td>-0.00645</td>\n",
       "      <td>AU025425 Corp</td>\n",
       "      <td>Germany</td>\n",
       "      <td>0.0</td>\n",
       "    </tr>\n",
       "    <tr>\n",
       "      <td>4</td>\n",
       "      <td>2.000000</td>\n",
       "      <td>-0.00661</td>\n",
       "      <td>ZR204844 Corp</td>\n",
       "      <td>Germany</td>\n",
       "      <td>0.0</td>\n",
       "    </tr>\n",
       "  </tbody>\n",
       "</table>\n",
       "</div>"
      ],
      "text/plain": [
       "   Maturity    rates     underlying  country  coupon\n",
       "0  0.083333 -0.00597  AZ066741 Corp  Germany     0.0\n",
       "1  0.250000 -0.00633  AZ923444 Corp  Germany     0.0\n",
       "2  0.500000 -0.00617  ZR961307 Corp  Germany     0.0\n",
       "3  1.000000 -0.00645  AU025425 Corp  Germany     0.0\n",
       "4  2.000000 -0.00661  ZR204844 Corp  Germany     0.0"
      ]
     },
     "execution_count": 2,
     "metadata": {},
     "output_type": "execute_result"
    }
   ],
   "source": [
    "df= pd.read_csv(\"data_tp3.csv\", sep= ';')\n",
    "df.head()"
   ]
  },
  {
   "cell_type": "markdown",
   "metadata": {},
   "source": [
    "<a id='p1'></a>"
   ]
  },
  {
   "cell_type": "markdown",
   "metadata": {},
   "source": [
    "# Partie 1"
   ]
  },
  {
   "cell_type": "markdown",
   "metadata": {},
   "source": [
    "<a id='p1e1'></a>"
   ]
  },
  {
   "cell_type": "markdown",
   "metadata": {},
   "source": [
    "## 1)"
   ]
  },
  {
   "cell_type": "code",
   "execution_count": 3,
   "metadata": {
    "ExecuteTime": {
     "end_time": "2019-11-22T19:17:48.090727Z",
     "start_time": "2019-11-22T19:17:47.759004Z"
    },
    "scrolled": true
   },
   "outputs": [
    {
     "data": {
      "image/png": "[encoded data removed]",
      "text/plain": [
       "<Figure size 648x432 with 1 Axes>"
      ]
     },
     "metadata": {},
     "output_type": "display_data"
    }
   ],
   "source": [
    "germany_data= df[df[\"country\"] == \"Germany\"]\n",
    "french_data= df[df[\"country\"] != \"Germany\"]\n",
    "\n",
    "mpl.style.use('seaborn')\n",
    "fig, ax= plt.subplots(figsize= (9, 6))\n",
    "plt.grid(b= True)\n",
    "\n",
    "ax.plot(germany_data[\"Maturity\"]\n",
    "            ,germany_data[\"rates\"]\n",
    "            , marker= '.'\n",
    "            , markerfacecolor= 'black'\n",
    "            , markersize= 9\n",
    "            , c= 'blue'\n",
    "            , label= \"Courbe des Taux Allemande\")\n",
    "\n",
    "ax.plot(french_data[\"Maturity\"]\n",
    "            ,french_data[\"rates\"]\n",
    "            , marker= '.'\n",
    "            , markerfacecolor= 'black'\n",
    "            , markersize= 9\n",
    "            , c= 'orangered'\n",
    "            , label= \"Courbe des Taux Française\")\n",
    "\n",
    "ax.set_ylabel(\"Taux\", rotation= 0, fontsize= 12)\n",
    "ax.set_xlabel(\"Maturite\", fontsize= 12)\n",
    "ax.set_title(\"Courbe des taux pour les obligations \", fontsize= 18)\n",
    "ax.legend()\n",
    "\n",
    "plt.show()\n",
    "\n",
    "#explication courbe des taux !!!!!!!!!"
   ]
  },
  {
   "cell_type": "markdown",
   "metadata": {},
   "source": [
    "On constate que notre courbe zéro-coupons françaises est au dessus de notre courbe allemande (sauf au tout début).\n",
    "On remarque alors que le coût du financement pour la France est supérieure à celui de l'Allemagne, pour chaque maturité.\n",
    "\n",
    "Ainsi, pour chaque maturité, le taux français sera toujours au dessus du taux allemande. cela peut être lié à la confiance pour les titres souverains allemands par rapport aux titres français. En effet, l'obligation souveraine allemande est souvent utilisé en tant qu'actif sans risque sur le marché.\n",
    "\n",
    "Néanmoins, on observe que la maturité max pour les titres français est plus élevé que pour l'Allemagne. Je pense qu'il y a rien à interpréter. Je pense que c'est dû à la selection des données.\n",
    "\n",
    "Pour finir, les taux sont négatifs dans un premier temps. On constate une sorte de retournement de la courbe des taux de la maturite 0 à 5ans (plus la maturite augmente sur cette période, moins le taux est élevé). Ceci doit être dû au problème de conjoncture ==> Brexit, tension US-Chine, spectre de la déflation (fabile inflation), politiques monétaires \"mondiales\" expansionnistes."
   ]
  },
  {
   "cell_type": "markdown",
   "metadata": {},
   "source": [
    "<a id='p1e2'></a>"
   ]
  },
  {
   "cell_type": "markdown",
   "metadata": {},
   "source": [
    "## 2)"
   ]
  },
  {
   "cell_type": "code",
   "execution_count": 17,
   "metadata": {
    "ExecuteTime": {
     "end_time": "2019-11-22T19:22:23.596554Z",
     "start_time": "2019-11-22T19:22:23.574612Z"
    }
   },
   "outputs": [
    {
     "data": {
      "text/html": [
       "<div>\n",
       "<style scoped>\n",
       "    .dataframe tbody tr th:only-of-type {\n",
       "        vertical-align: middle;\n",
       "    }\n",
       "\n",
       "    .dataframe tbody tr th {\n",
       "        vertical-align: top;\n",
       "    }\n",
       "\n",
       "    .dataframe thead th {\n",
       "        text-align: right;\n",
       "    }\n",
       "</style>\n",
       "<table border=\"1\" class=\"dataframe\">\n",
       "  <thead>\n",
       "    <tr style=\"text-align: right;\">\n",
       "      <th></th>\n",
       "      <th>Titre</th>\n",
       "      <th>Coupon</th>\n",
       "      <th>Prix</th>\n",
       "      <th>Maturite</th>\n",
       "    </tr>\n",
       "  </thead>\n",
       "  <tbody>\n",
       "    <tr>\n",
       "      <td>0</td>\n",
       "      <td>Compagnie des Alpes</td>\n",
       "      <td>0.03504</td>\n",
       "      <td>113.00</td>\n",
       "      <td>8</td>\n",
       "    </tr>\n",
       "    <tr>\n",
       "      <td>1</td>\n",
       "      <td>Korian</td>\n",
       "      <td>0.03700</td>\n",
       "      <td>110.23</td>\n",
       "      <td>6</td>\n",
       "    </tr>\n",
       "    <tr>\n",
       "      <td>2</td>\n",
       "      <td>Carrefour</td>\n",
       "      <td>0.01000</td>\n",
       "      <td>102.22</td>\n",
       "      <td>8</td>\n",
       "    </tr>\n",
       "    <tr>\n",
       "      <td>3</td>\n",
       "      <td>Total</td>\n",
       "      <td>0.01023</td>\n",
       "      <td>106.57</td>\n",
       "      <td>8</td>\n",
       "    </tr>\n",
       "  </tbody>\n",
       "</table>\n",
       "</div>"
      ],
      "text/plain": [
       "                 Titre   Coupon    Prix  Maturite\n",
       "0  Compagnie des Alpes  0.03504  113.00         8\n",
       "1               Korian  0.03700  110.23         6\n",
       "2            Carrefour  0.01000  102.22         8\n",
       "3                Total  0.01023  106.57         8"
      ]
     },
     "execution_count": 17,
     "metadata": {},
     "output_type": "execute_result"
    }
   ],
   "source": [
    "securities= pd.DataFrame({\n",
    "    \"Titre\": [\"Compagnie des Alpes\", \"Korian\", \"Carrefour\", \"Total\"],\n",
    "    \"Coupon\": [0.03504, 0.037, 0.01, 0.01023],\n",
    "    \"Prix\": [113, 110.23, 102.22, 106.57],\n",
    "    \"Maturite\": pd.to_datetime([\"24/10/2027\", \"07/10/2025\", \"27/10/2027\", \"27/10/2027\"],\n",
    "                              format= '%d/%m/%Y')\n",
    "})\n",
    "\n",
    "date_aujourdhui= dt.datetime.strptime(\"25/10/2019\", '%d/%m/%Y')\n",
    "securities[\"Maturite\"]= securities[\"Maturite\"].apply(lambda x: (x.year - date_aujourdhui.year))\n",
    "\n",
    "securities"
   ]
  },
  {
   "cell_type": "code",
   "execution_count": 21,
   "metadata": {
    "ExecuteTime": {
     "end_time": "2019-11-22T19:23:01.003783Z",
     "start_time": "2019-11-22T19:23:00.972865Z"
    }
   },
   "outputs": [
    {
     "name": "stdout",
     "output_type": "stream",
     "text": [
      "432.02000000000004\n"
     ]
    },
    {
     "name": "stderr",
     "output_type": "stream",
     "text": [
      "C:\\Users\\Wenceslas\\Anaconda3\\envs\\cours\\lib\\site-packages\\ipykernel_launcher.py:9: SettingWithCopyWarning: \n",
      "A value is trying to be set on a copy of a slice from a DataFrame\n",
      "\n",
      "See the caveats in the documentation: http://pandas.pydata.org/pandas-docs/stable/user_guide/indexing.html#returning-a-view-versus-a-copy\n",
      "  if __name__ == '__main__':\n",
      "C:\\Users\\Wenceslas\\Anaconda3\\envs\\cours\\lib\\site-packages\\ipykernel_launcher.py:11: SettingWithCopyWarning: \n",
      "A value is trying to be set on a copy of a slice from a DataFrame\n",
      "\n",
      "See the caveats in the documentation: http://pandas.pydata.org/pandas-docs/stable/user_guide/indexing.html#returning-a-view-versus-a-copy\n",
      "  # This is added back by InteractiveShellApp.init_path()\n"
     ]
    },
    {
     "data": {
      "text/html": [
       "<div>\n",
       "<style scoped>\n",
       "    .dataframe tbody tr th:only-of-type {\n",
       "        vertical-align: middle;\n",
       "    }\n",
       "\n",
       "    .dataframe tbody tr th {\n",
       "        vertical-align: top;\n",
       "    }\n",
       "\n",
       "    .dataframe thead th {\n",
       "        text-align: right;\n",
       "    }\n",
       "</style>\n",
       "<table border=\"1\" class=\"dataframe\">\n",
       "  <thead>\n",
       "    <tr style=\"text-align: right;\">\n",
       "      <th></th>\n",
       "      <th>Maturite</th>\n",
       "      <th>cash_flow</th>\n",
       "    </tr>\n",
       "  </thead>\n",
       "  <tbody>\n",
       "    <tr>\n",
       "      <td>0</td>\n",
       "      <td>1</td>\n",
       "      <td>9.227</td>\n",
       "    </tr>\n",
       "    <tr>\n",
       "      <td>1</td>\n",
       "      <td>2</td>\n",
       "      <td>9.227</td>\n",
       "    </tr>\n",
       "    <tr>\n",
       "      <td>2</td>\n",
       "      <td>3</td>\n",
       "      <td>9.227</td>\n",
       "    </tr>\n",
       "    <tr>\n",
       "      <td>3</td>\n",
       "      <td>4</td>\n",
       "      <td>9.227</td>\n",
       "    </tr>\n",
       "    <tr>\n",
       "      <td>4</td>\n",
       "      <td>5</td>\n",
       "      <td>9.227</td>\n",
       "    </tr>\n",
       "    <tr>\n",
       "      <td>5</td>\n",
       "      <td>6</td>\n",
       "      <td>109.227</td>\n",
       "    </tr>\n",
       "    <tr>\n",
       "      <td>6</td>\n",
       "      <td>7</td>\n",
       "      <td>5.527</td>\n",
       "    </tr>\n",
       "    <tr>\n",
       "      <td>7</td>\n",
       "      <td>8</td>\n",
       "      <td>305.527</td>\n",
       "    </tr>\n",
       "  </tbody>\n",
       "</table>\n",
       "</div>"
      ],
      "text/plain": [
       "   Maturite  cash_flow\n",
       "0         1      9.227\n",
       "1         2      9.227\n",
       "2         3      9.227\n",
       "3         4      9.227\n",
       "4         5      9.227\n",
       "5         6    109.227\n",
       "6         7      5.527\n",
       "7         8    305.527"
      ]
     },
     "execution_count": 21,
     "metadata": {},
     "output_type": "execute_result"
    }
   ],
   "source": [
    "#construction du portefeuille CASH FLOW\n",
    "portefeuille_cashflow= pd.DataFrame({\n",
    "    \"Maturite\": [i for i in range(1, np.max(securities[\"Maturite\"].values) + 1)],\n",
    "    \"cash_flow\": np.zeros(np.max(securities[\"Maturite\"].values))\n",
    "})\n",
    "for i, val in securities.iterrows():\n",
    "    for mat in range(val[\"Maturite\"]):\n",
    "        if mat != val[\"Maturite\"] - 1:\n",
    "            portefeuille_cashflow[\"cash_flow\"][mat] += val[\"Coupon\"]*100\n",
    "        else:\n",
    "            portefeuille_cashflow[\"cash_flow\"][mat] += 100 + val[\"Coupon\"]*100\n",
    "portefeuille_cashflow\n",
    "\n",
    "#ce que nous a couter la construction de ce portefeuille, c'est la somme des prix de nos actifs\n",
    "prix_portefeuille= securities[\"Prix\"].sum()\n",
    "print(prix_portefeuille)\n",
    "portefeuille_cashflow"
   ]
  },
  {
   "cell_type": "markdown",
   "metadata": {},
   "source": [
    "### Calcul du yield de mon portefeuille (1 valeur donc)"
   ]
  },
  {
   "cell_type": "code",
   "execution_count": 18,
   "metadata": {
    "ExecuteTime": {
     "end_time": "2019-11-22T19:22:27.282806Z",
     "start_time": "2019-11-22T19:22:27.273830Z"
    }
   },
   "outputs": [],
   "source": [
    "#Yield to mat fonction pour le portefeuille cash flow\n",
    "def f_cashflow(x, df, p, n=100):\n",
    "    somme= 0\n",
    "    \n",
    "    for i in portefeuille_cashflow.index:\n",
    "        C= portefeuille_cashflow.loc[i, \"cash_flow\"]\n",
    "        somme += C*pow(x, i)\n",
    "    return p - somme \n",
    "\n",
    "\n",
    "def fprime_cashflow(x, df, p, n=100):\n",
    "    somme= 0\n",
    "    \n",
    "    for i in portefeuille_cashflow.index:\n",
    "        C= portefeuille_cashflow.loc[i, \"cash_flow\"]\n",
    "        somme += i*C*pow(x, i-1)\n",
    "    return - somme\n",
    "\n",
    "def yield_to_mat_cash_flow(f, x0, fprime, args):\n",
    "    new= newton(func= f,x0=x0, fprime=fprime, args= args)\n",
    "    return (1/new) - 1"
   ]
  },
  {
   "cell_type": "code",
   "execution_count": 19,
   "metadata": {
    "ExecuteTime": {
     "end_time": "2019-11-22T19:22:29.080855Z",
     "start_time": "2019-11-22T19:22:29.072608Z"
    }
   },
   "outputs": [
    {
     "data": {
      "text/plain": [
       "0.012832386354566516"
      ]
     },
     "execution_count": 19,
     "metadata": {},
     "output_type": "execute_result"
    }
   ],
   "source": [
    "portefeuille_y= yield_to_mat_cash_flow(f_cashflow, 1, fprime_cashflow, \\\n",
    "                                       (portefeuille_cashflow, prix_portefeuille))\n",
    "\n",
    "portefeuille_y"
   ]
  },
  {
   "cell_type": "markdown",
   "metadata": {},
   "source": [
    "### Calcul du yield pour les positions de mon portefeuille"
   ]
  },
  {
   "cell_type": "code",
   "execution_count": 22,
   "metadata": {
    "ExecuteTime": {
     "end_time": "2019-11-22T19:23:09.955112Z",
     "start_time": "2019-11-22T19:23:09.941185Z"
    }
   },
   "outputs": [],
   "source": [
    "from scipy.optimize import newton\n",
    "def yield_to_maturity(P,c,T,N):\n",
    "    \"\"\"\n",
    "    Renvoie le yield to maturity d'une obligation. Paramètres :\n",
    "        - P : le prix de l'obligation\n",
    "        - c : le taux de coupon de l'obligation\n",
    "        - T : la maturité de l'obligation\n",
    "        - N : le nominal de l'obligation\n",
    "    \"\"\"\n",
    "    def f(x,P,c,T,N):\n",
    "        \"\"\"\n",
    "        Approxime la fonction de cash flows. Paramètres :\n",
    "            - x : la variable permettant l'optimisation par Newton\n",
    "            - P : le prix de l'obligation\n",
    "            - c : le taux de coupon de l'obligation\n",
    "            - T : la maturité de l'obligation\n",
    "            - N : le nominal de l'obligation\n",
    "        \"\"\"\n",
    "        result = P\n",
    "        for i in range(1,int(T)):\n",
    "            result -= c*N*(x**i)\n",
    "        result -= N*(1+c)*(x**T)\n",
    "        return result\n",
    "    \n",
    "    def fprime(x,P,c,T,N):\n",
    "        \"\"\"\n",
    "        Dérivée de l'approximation de la fonction de cash flows. Paramètres :\n",
    "            - x : la variable permettant l'optimisation par Newton\n",
    "            - P : le prix de l'obligation\n",
    "            - c : le taux de coupon de l'obligation\n",
    "            - T : la maturité de l'obligation\n",
    "            - N : le nominal de l'obligation\n",
    "        \"\"\"\n",
    "        result = 0\n",
    "        for i in range(1,int(T)):\n",
    "            result -= i*c*N*(x**(i-1))\n",
    "        result -= T*N*(1+c)*(x**(T-1))\n",
    "        return result\n",
    "    \n",
    "    x = newton(func=f,\n",
    "           x0=1.1, # puisque y est de l'ordre 0.01 et que x = 1/(1+y) 1.1 semble etre un ordre de grandeur raisonable\n",
    "           fprime=fprime,\n",
    "           args=(P,c,T,N)\n",
    "        )\n",
    "    y = 1/x - 1\n",
    "    return y"
   ]
  },
  {
   "cell_type": "code",
   "execution_count": 23,
   "metadata": {
    "ExecuteTime": {
     "end_time": "2019-11-22T19:23:10.430496Z",
     "start_time": "2019-11-22T19:23:10.420530Z"
    }
   },
   "outputs": [],
   "source": [
    "securities[\"Yield\"]= securities.apply(lambda row: yield_to_maturity(row[2], row[1], row[3], 100), axis=1)"
   ]
  },
  {
   "cell_type": "code",
   "execution_count": 24,
   "metadata": {
    "ExecuteTime": {
     "end_time": "2019-11-22T19:23:11.129472Z",
     "start_time": "2019-11-22T19:23:11.118501Z"
    }
   },
   "outputs": [
    {
     "data": {
      "text/html": [
       "<div>\n",
       "<style scoped>\n",
       "    .dataframe tbody tr th:only-of-type {\n",
       "        vertical-align: middle;\n",
       "    }\n",
       "\n",
       "    .dataframe tbody tr th {\n",
       "        vertical-align: top;\n",
       "    }\n",
       "\n",
       "    .dataframe thead th {\n",
       "        text-align: right;\n",
       "    }\n",
       "</style>\n",
       "<table border=\"1\" class=\"dataframe\">\n",
       "  <thead>\n",
       "    <tr style=\"text-align: right;\">\n",
       "      <th></th>\n",
       "      <th>Titre</th>\n",
       "      <th>Coupon</th>\n",
       "      <th>Prix</th>\n",
       "      <th>Maturite</th>\n",
       "      <th>Yield</th>\n",
       "    </tr>\n",
       "  </thead>\n",
       "  <tbody>\n",
       "    <tr>\n",
       "      <td>0</td>\n",
       "      <td>Compagnie des Alpes</td>\n",
       "      <td>0.03504</td>\n",
       "      <td>113.00</td>\n",
       "      <td>8</td>\n",
       "      <td>0.017486</td>\n",
       "    </tr>\n",
       "    <tr>\n",
       "      <td>1</td>\n",
       "      <td>Korian</td>\n",
       "      <td>0.03700</td>\n",
       "      <td>110.23</td>\n",
       "      <td>6</td>\n",
       "      <td>0.018810</td>\n",
       "    </tr>\n",
       "    <tr>\n",
       "      <td>2</td>\n",
       "      <td>Carrefour</td>\n",
       "      <td>0.01000</td>\n",
       "      <td>102.22</td>\n",
       "      <td>8</td>\n",
       "      <td>0.007135</td>\n",
       "    </tr>\n",
       "    <tr>\n",
       "      <td>3</td>\n",
       "      <td>Total</td>\n",
       "      <td>0.01023</td>\n",
       "      <td>106.57</td>\n",
       "      <td>8</td>\n",
       "      <td>0.001945</td>\n",
       "    </tr>\n",
       "  </tbody>\n",
       "</table>\n",
       "</div>"
      ],
      "text/plain": [
       "                 Titre   Coupon    Prix  Maturite     Yield\n",
       "0  Compagnie des Alpes  0.03504  113.00         8  0.017486\n",
       "1               Korian  0.03700  110.23         6  0.018810\n",
       "2            Carrefour  0.01000  102.22         8  0.007135\n",
       "3                Total  0.01023  106.57         8  0.001945"
      ]
     },
     "execution_count": 24,
     "metadata": {},
     "output_type": "execute_result"
    }
   ],
   "source": [
    "#yield to mat de toutes nos positions\n",
    "securities"
   ]
  },
  {
   "cell_type": "code",
   "execution_count": 25,
   "metadata": {
    "ExecuteTime": {
     "end_time": "2019-11-22T19:23:15.670037Z",
     "start_time": "2019-11-22T19:23:15.660062Z"
    }
   },
   "outputs": [
    {
     "data": {
      "text/html": [
       "<div>\n",
       "<style scoped>\n",
       "    .dataframe tbody tr th:only-of-type {\n",
       "        vertical-align: middle;\n",
       "    }\n",
       "\n",
       "    .dataframe tbody tr th {\n",
       "        vertical-align: top;\n",
       "    }\n",
       "\n",
       "    .dataframe thead th {\n",
       "        text-align: right;\n",
       "    }\n",
       "</style>\n",
       "<table border=\"1\" class=\"dataframe\">\n",
       "  <thead>\n",
       "    <tr style=\"text-align: right;\">\n",
       "      <th></th>\n",
       "      <th>Maturite</th>\n",
       "      <th>cash_flow</th>\n",
       "    </tr>\n",
       "  </thead>\n",
       "  <tbody>\n",
       "    <tr>\n",
       "      <td>0</td>\n",
       "      <td>1</td>\n",
       "      <td>9.227</td>\n",
       "    </tr>\n",
       "    <tr>\n",
       "      <td>1</td>\n",
       "      <td>2</td>\n",
       "      <td>9.227</td>\n",
       "    </tr>\n",
       "    <tr>\n",
       "      <td>2</td>\n",
       "      <td>3</td>\n",
       "      <td>9.227</td>\n",
       "    </tr>\n",
       "    <tr>\n",
       "      <td>3</td>\n",
       "      <td>4</td>\n",
       "      <td>9.227</td>\n",
       "    </tr>\n",
       "    <tr>\n",
       "      <td>4</td>\n",
       "      <td>5</td>\n",
       "      <td>9.227</td>\n",
       "    </tr>\n",
       "    <tr>\n",
       "      <td>5</td>\n",
       "      <td>6</td>\n",
       "      <td>109.227</td>\n",
       "    </tr>\n",
       "    <tr>\n",
       "      <td>6</td>\n",
       "      <td>7</td>\n",
       "      <td>5.527</td>\n",
       "    </tr>\n",
       "    <tr>\n",
       "      <td>7</td>\n",
       "      <td>8</td>\n",
       "      <td>305.527</td>\n",
       "    </tr>\n",
       "  </tbody>\n",
       "</table>\n",
       "</div>"
      ],
      "text/plain": [
       "   Maturite  cash_flow\n",
       "0         1      9.227\n",
       "1         2      9.227\n",
       "2         3      9.227\n",
       "3         4      9.227\n",
       "4         5      9.227\n",
       "5         6    109.227\n",
       "6         7      5.527\n",
       "7         8    305.527"
      ]
     },
     "execution_count": 25,
     "metadata": {},
     "output_type": "execute_result"
    }
   ],
   "source": [
    "portefeuille_cashflow"
   ]
  },
  {
   "cell_type": "markdown",
   "metadata": {},
   "source": [
    "### Calcul duration du portefeuille"
   ]
  },
  {
   "cell_type": "code",
   "execution_count": 27,
   "metadata": {
    "ExecuteTime": {
     "end_time": "2019-11-22T19:23:43.805796Z",
     "start_time": "2019-11-22T19:23:43.792865Z"
    }
   },
   "outputs": [
    {
     "name": "stdout",
     "output_type": "stream",
     "text": [
      "-2943.986751988242\n",
      "\n",
      "MC:\n",
      "-6.814468663460584\n"
     ]
    }
   ],
   "source": [
    "def duration(df, y, n=100):\n",
    "    somme= 0\n",
    "    for i in portefeuille_cashflow.index:\n",
    "        C= portefeuille_cashflow.loc[i, \"cash_flow\"]\n",
    "        m= portefeuille_cashflow.loc[i, \"Maturite\"]\n",
    "        somme -= m*C/pow(1+y, m+1)\n",
    "    return somme#somme -(m*(n+C))/pow(1+y, (m+1))\n",
    "\n",
    "print(duration(portefeuille_cashflow, portefeuille_y))\n",
    "print(\"\\nMC:\")\n",
    "print(duration(portefeuille_cashflow, portefeuille_y)/prix_portefeuille)"
   ]
  },
  {
   "cell_type": "markdown",
   "metadata": {},
   "source": [
    "<a id='p1e3'></a>"
   ]
  },
  {
   "cell_type": "markdown",
   "metadata": {},
   "source": [
    "## 3)"
   ]
  },
  {
   "cell_type": "code",
   "execution_count": 28,
   "metadata": {
    "ExecuteTime": {
     "end_time": "2019-11-22T19:23:52.818902Z",
     "start_time": "2019-11-22T19:23:52.799917Z"
    },
    "scrolled": true
   },
   "outputs": [
    {
     "data": {
      "text/html": [
       "<div>\n",
       "<style scoped>\n",
       "    .dataframe tbody tr th:only-of-type {\n",
       "        vertical-align: middle;\n",
       "    }\n",
       "\n",
       "    .dataframe tbody tr th {\n",
       "        vertical-align: top;\n",
       "    }\n",
       "\n",
       "    .dataframe thead th {\n",
       "        text-align: right;\n",
       "    }\n",
       "</style>\n",
       "<table border=\"1\" class=\"dataframe\">\n",
       "  <thead>\n",
       "    <tr style=\"text-align: right;\">\n",
       "      <th></th>\n",
       "      <th>Maturity</th>\n",
       "      <th>rates</th>\n",
       "      <th>underlying</th>\n",
       "      <th>country</th>\n",
       "      <th>coupon</th>\n",
       "    </tr>\n",
       "  </thead>\n",
       "  <tbody>\n",
       "    <tr>\n",
       "      <td>0</td>\n",
       "      <td>0.083333</td>\n",
       "      <td>-0.00597</td>\n",
       "      <td>AZ066741 Corp</td>\n",
       "      <td>Germany</td>\n",
       "      <td>0.00</td>\n",
       "    </tr>\n",
       "    <tr>\n",
       "      <td>1</td>\n",
       "      <td>0.250000</td>\n",
       "      <td>-0.00633</td>\n",
       "      <td>AZ923444 Corp</td>\n",
       "      <td>Germany</td>\n",
       "      <td>0.00</td>\n",
       "    </tr>\n",
       "    <tr>\n",
       "      <td>2</td>\n",
       "      <td>0.500000</td>\n",
       "      <td>-0.00617</td>\n",
       "      <td>ZR961307 Corp</td>\n",
       "      <td>Germany</td>\n",
       "      <td>0.00</td>\n",
       "    </tr>\n",
       "    <tr>\n",
       "      <td>3</td>\n",
       "      <td>1.000000</td>\n",
       "      <td>-0.00645</td>\n",
       "      <td>AU025425 Corp</td>\n",
       "      <td>Germany</td>\n",
       "      <td>0.00</td>\n",
       "    </tr>\n",
       "    <tr>\n",
       "      <td>4</td>\n",
       "      <td>2.000000</td>\n",
       "      <td>-0.00661</td>\n",
       "      <td>ZR204844 Corp</td>\n",
       "      <td>Germany</td>\n",
       "      <td>0.00</td>\n",
       "    </tr>\n",
       "    <tr>\n",
       "      <td>5</td>\n",
       "      <td>3.000000</td>\n",
       "      <td>-0.00691</td>\n",
       "      <td>AO131132 Corp</td>\n",
       "      <td>Germany</td>\n",
       "      <td>0.00</td>\n",
       "    </tr>\n",
       "    <tr>\n",
       "      <td>6</td>\n",
       "      <td>4.000000</td>\n",
       "      <td>-0.00668</td>\n",
       "      <td>AT634023 Corp</td>\n",
       "      <td>Germany</td>\n",
       "      <td>0.00</td>\n",
       "    </tr>\n",
       "    <tr>\n",
       "      <td>7</td>\n",
       "      <td>5.000000</td>\n",
       "      <td>-0.00611</td>\n",
       "      <td>AZ321298 Corp</td>\n",
       "      <td>Germany</td>\n",
       "      <td>0.00</td>\n",
       "    </tr>\n",
       "    <tr>\n",
       "      <td>8</td>\n",
       "      <td>6.000000</td>\n",
       "      <td>-0.00596</td>\n",
       "      <td>AF205634 Corp</td>\n",
       "      <td>Germany</td>\n",
       "      <td>1.00</td>\n",
       "    </tr>\n",
       "    <tr>\n",
       "      <td>9</td>\n",
       "      <td>7.000000</td>\n",
       "      <td>-0.00556</td>\n",
       "      <td>LW743065 Corp</td>\n",
       "      <td>Germany</td>\n",
       "      <td>0.00</td>\n",
       "    </tr>\n",
       "    <tr>\n",
       "      <td>10</td>\n",
       "      <td>8.000000</td>\n",
       "      <td>-0.00510</td>\n",
       "      <td>AO223542 Corp</td>\n",
       "      <td>Germany</td>\n",
       "      <td>0.50</td>\n",
       "    </tr>\n",
       "    <tr>\n",
       "      <td>11</td>\n",
       "      <td>9.000000</td>\n",
       "      <td>-0.00442</td>\n",
       "      <td>AT428688 Corp</td>\n",
       "      <td>Germany</td>\n",
       "      <td>0.25</td>\n",
       "    </tr>\n",
       "    <tr>\n",
       "      <td>12</td>\n",
       "      <td>10.000000</td>\n",
       "      <td>-0.00373</td>\n",
       "      <td>AZ461235 Corp</td>\n",
       "      <td>Germany</td>\n",
       "      <td>0.00</td>\n",
       "    </tr>\n",
       "    <tr>\n",
       "      <td>13</td>\n",
       "      <td>15.000000</td>\n",
       "      <td>-0.00236</td>\n",
       "      <td>EC830062 Corp</td>\n",
       "      <td>Germany</td>\n",
       "      <td>4.75</td>\n",
       "    </tr>\n",
       "    <tr>\n",
       "      <td>14</td>\n",
       "      <td>20.000000</td>\n",
       "      <td>-0.00084</td>\n",
       "      <td>EG120904 Corp</td>\n",
       "      <td>Germany</td>\n",
       "      <td>4.25</td>\n",
       "    </tr>\n",
       "    <tr>\n",
       "      <td>15</td>\n",
       "      <td>25.000000</td>\n",
       "      <td>0.00044</td>\n",
       "      <td>EJ135811 Corp</td>\n",
       "      <td>Germany</td>\n",
       "      <td>2.50</td>\n",
       "    </tr>\n",
       "    <tr>\n",
       "      <td>16</td>\n",
       "      <td>30.000000</td>\n",
       "      <td>0.00146</td>\n",
       "      <td>ZR097974 Corp</td>\n",
       "      <td>Germany</td>\n",
       "      <td>0.00</td>\n",
       "    </tr>\n",
       "  </tbody>\n",
       "</table>\n",
       "</div>"
      ],
      "text/plain": [
       "     Maturity    rates     underlying  country  coupon\n",
       "0    0.083333 -0.00597  AZ066741 Corp  Germany    0.00\n",
       "1    0.250000 -0.00633  AZ923444 Corp  Germany    0.00\n",
       "2    0.500000 -0.00617  ZR961307 Corp  Germany    0.00\n",
       "3    1.000000 -0.00645  AU025425 Corp  Germany    0.00\n",
       "4    2.000000 -0.00661  ZR204844 Corp  Germany    0.00\n",
       "5    3.000000 -0.00691  AO131132 Corp  Germany    0.00\n",
       "6    4.000000 -0.00668  AT634023 Corp  Germany    0.00\n",
       "7    5.000000 -0.00611  AZ321298 Corp  Germany    0.00\n",
       "8    6.000000 -0.00596  AF205634 Corp  Germany    1.00\n",
       "9    7.000000 -0.00556  LW743065 Corp  Germany    0.00\n",
       "10   8.000000 -0.00510  AO223542 Corp  Germany    0.50\n",
       "11   9.000000 -0.00442  AT428688 Corp  Germany    0.25\n",
       "12  10.000000 -0.00373  AZ461235 Corp  Germany    0.00\n",
       "13  15.000000 -0.00236  EC830062 Corp  Germany    4.75\n",
       "14  20.000000 -0.00084  EG120904 Corp  Germany    4.25\n",
       "15  25.000000  0.00044  EJ135811 Corp  Germany    2.50\n",
       "16  30.000000  0.00146  ZR097974 Corp  Germany    0.00"
      ]
     },
     "execution_count": 28,
     "metadata": {},
     "output_type": "execute_result"
    }
   ],
   "source": [
    "germany_data"
   ]
  },
  {
   "cell_type": "code",
   "execution_count": 29,
   "metadata": {
    "ExecuteTime": {
     "end_time": "2019-11-22T19:23:54.931040Z",
     "start_time": "2019-11-22T19:23:54.926097Z"
    }
   },
   "outputs": [],
   "source": [
    "def duration_i(y, C, m, n=100):\n",
    "    return -(m*(1))/pow(1+y, (m+1))\n"
   ]
  },
  {
   "cell_type": "code",
   "execution_count": 36,
   "metadata": {
    "ExecuteTime": {
     "end_time": "2019-11-22T19:26:33.415196Z",
     "start_time": "2019-11-22T19:26:33.383279Z"
    },
    "scrolled": true
   },
   "outputs": [
    {
     "name": "stderr",
     "output_type": "stream",
     "text": [
      "C:\\Users\\Wenceslas\\Anaconda3\\envs\\cours\\lib\\site-packages\\ipykernel_launcher.py:3: SettingWithCopyWarning: \n",
      "A value is trying to be set on a copy of a slice from a DataFrame.\n",
      "Try using .loc[row_indexer,col_indexer] = value instead\n",
      "\n",
      "See the caveats in the documentation: http://pandas.pydata.org/pandas-docs/stable/user_guide/indexing.html#returning-a-view-versus-a-copy\n",
      "  This is separate from the ipykernel package so we can avoid doing imports until\n",
      "C:\\Users\\Wenceslas\\Anaconda3\\envs\\cours\\lib\\site-packages\\ipykernel_launcher.py:5: SettingWithCopyWarning: \n",
      "A value is trying to be set on a copy of a slice from a DataFrame.\n",
      "Try using .loc[row_indexer,col_indexer] = value instead\n",
      "\n",
      "See the caveats in the documentation: http://pandas.pydata.org/pandas-docs/stable/user_guide/indexing.html#returning-a-view-versus-a-copy\n",
      "  \"\"\"\n"
     ]
    },
    {
     "data": {
      "text/html": [
       "<div>\n",
       "<style scoped>\n",
       "    .dataframe tbody tr th:only-of-type {\n",
       "        vertical-align: middle;\n",
       "    }\n",
       "\n",
       "    .dataframe tbody tr th {\n",
       "        vertical-align: top;\n",
       "    }\n",
       "\n",
       "    .dataframe thead th {\n",
       "        text-align: right;\n",
       "    }\n",
       "</style>\n",
       "<table border=\"1\" class=\"dataframe\">\n",
       "  <thead>\n",
       "    <tr style=\"text-align: right;\">\n",
       "      <th></th>\n",
       "      <th>Maturity</th>\n",
       "      <th>rates</th>\n",
       "      <th>underlying</th>\n",
       "      <th>country</th>\n",
       "      <th>coupon</th>\n",
       "      <th>Duration_i</th>\n",
       "    </tr>\n",
       "  </thead>\n",
       "  <tbody>\n",
       "    <tr>\n",
       "      <td>0</td>\n",
       "      <td>1.0</td>\n",
       "      <td>-0.00632</td>\n",
       "      <td>ZQ078370 Corp</td>\n",
       "      <td>France</td>\n",
       "      <td>0.00</td>\n",
       "      <td>-9.344744</td>\n",
       "    </tr>\n",
       "    <tr>\n",
       "      <td>1</td>\n",
       "      <td>2.0</td>\n",
       "      <td>-0.00620</td>\n",
       "      <td>AW799417 Corp</td>\n",
       "      <td>France</td>\n",
       "      <td>0.00</td>\n",
       "      <td>-18.801545</td>\n",
       "    </tr>\n",
       "    <tr>\n",
       "      <td>2</td>\n",
       "      <td>3.0</td>\n",
       "      <td>-0.00589</td>\n",
       "      <td>AP173983 Corp</td>\n",
       "      <td>France</td>\n",
       "      <td>0.00</td>\n",
       "      <td>-28.342882</td>\n",
       "    </tr>\n",
       "    <tr>\n",
       "      <td>3</td>\n",
       "      <td>4.0</td>\n",
       "      <td>-0.00510</td>\n",
       "      <td>AT122915 Corp</td>\n",
       "      <td>France</td>\n",
       "      <td>0.00</td>\n",
       "      <td>-37.863727</td>\n",
       "    </tr>\n",
       "    <tr>\n",
       "      <td>4</td>\n",
       "      <td>5.0</td>\n",
       "      <td>-0.00412</td>\n",
       "      <td>ZS171522 Corp</td>\n",
       "      <td>France</td>\n",
       "      <td>0.00</td>\n",
       "      <td>-47.292085</td>\n",
       "    </tr>\n",
       "    <tr>\n",
       "      <td>5</td>\n",
       "      <td>6.0</td>\n",
       "      <td>-0.00382</td>\n",
       "      <td>UV715505 Corp</td>\n",
       "      <td>France</td>\n",
       "      <td>1.00</td>\n",
       "      <td>-673.157251</td>\n",
       "    </tr>\n",
       "    <tr>\n",
       "      <td>6</td>\n",
       "      <td>7.0</td>\n",
       "      <td>-0.00312</td>\n",
       "      <td>QZ358353 Corp</td>\n",
       "      <td>France</td>\n",
       "      <td>0.25</td>\n",
       "      <td>-39.668378</td>\n",
       "    </tr>\n",
       "    <tr>\n",
       "      <td>7</td>\n",
       "      <td>8.0</td>\n",
       "      <td>-0.00275</td>\n",
       "      <td>EJ346891 Corp</td>\n",
       "      <td>France</td>\n",
       "      <td>2.75</td>\n",
       "      <td>-2505.550600</td>\n",
       "    </tr>\n",
       "  </tbody>\n",
       "</table>\n",
       "</div>"
      ],
      "text/plain": [
       "   Maturity    rates     underlying country  coupon   Duration_i\n",
       "0       1.0 -0.00632  ZQ078370 Corp  France    0.00    -9.344744\n",
       "1       2.0 -0.00620  AW799417 Corp  France    0.00   -18.801545\n",
       "2       3.0 -0.00589  AP173983 Corp  France    0.00   -28.342882\n",
       "3       4.0 -0.00510  AT122915 Corp  France    0.00   -37.863727\n",
       "4       5.0 -0.00412  ZS171522 Corp  France    0.00   -47.292085\n",
       "5       6.0 -0.00382  UV715505 Corp  France    1.00  -673.157251\n",
       "6       7.0 -0.00312  QZ358353 Corp  France    0.25   -39.668378\n",
       "7       8.0 -0.00275  EJ346891 Corp  France    2.75 -2505.550600"
      ]
     },
     "execution_count": 36,
     "metadata": {},
     "output_type": "execute_result"
    }
   ],
   "source": [
    "#ici faut répondre à une question, la 3ème\n",
    "french_data[\"Duration_i\"]= french_data.apply(lambda row: duration_i(y=row[1], C=1, m=row[0], n=1)\n",
    "                            , axis= 1)\n",
    "germany_data[\"Duration_i\"]= germany_data.apply(lambda row: duration_i(y=row[1], C=1, m=row[0], n=1)\n",
    "                            , axis= 1)\n",
    "\n",
    "# french_data[\"Duration\"]= french_data.apply(lambda row: duration(y=row[1], C=row[4], m=row[0], n=100)\n",
    "#                             , axis= 1)\n",
    "# germany_data[\"Duration\"]= germany_data.apply(lambda row: duration(y=row[1], C=row[4], m=row[0], n=100)\n",
    "#                             , axis= 1)\n",
    "french_data2= french_data[np.logical_and(french_data[\"Maturity\"] <= 8, \\\n",
    "                                        french_data[\"Maturity\"] >= 1)].reset_index(drop= True, inplace= False)\n",
    "germany_data2= germany_data[np.logical_and(germany_data[\"Maturity\"] <= 8, \\\n",
    "                                        germany_data[\"Maturity\"] >= 1)].reset_index(drop= True, inplace= False)\n",
    "\n",
    "french_data2[\"Duration_i\"]= french_data2[\"Duration_i\"]*portefeuille_cashflow[\"cash_flow\"]\n",
    "germany_data2[\"Duration_i\"]= germany_data2[\"Duration_i\"]*portefeuille_cashflow[\"cash_flow\"]\n",
    "\n",
    "french_data2"
   ]
  },
  {
   "cell_type": "code",
   "execution_count": 37,
   "metadata": {
    "ExecuteTime": {
     "end_time": "2019-11-22T19:26:41.250052Z",
     "start_time": "2019-11-22T19:26:41.231104Z"
    }
   },
   "outputs": [
    {
     "name": "stdout",
     "output_type": "stream",
     "text": [
      "-3425.8022129274736\n",
      "-3360.02121150659\n"
     ]
    },
    {
     "data": {
      "text/html": [
       "<div>\n",
       "<style scoped>\n",
       "    .dataframe tbody tr th:only-of-type {\n",
       "        vertical-align: middle;\n",
       "    }\n",
       "\n",
       "    .dataframe tbody tr th {\n",
       "        vertical-align: top;\n",
       "    }\n",
       "\n",
       "    .dataframe thead th {\n",
       "        text-align: right;\n",
       "    }\n",
       "</style>\n",
       "<table border=\"1\" class=\"dataframe\">\n",
       "  <thead>\n",
       "    <tr style=\"text-align: right;\">\n",
       "      <th></th>\n",
       "      <th>Maturity</th>\n",
       "      <th>rates</th>\n",
       "      <th>underlying</th>\n",
       "      <th>country</th>\n",
       "      <th>coupon</th>\n",
       "      <th>Duration_i</th>\n",
       "    </tr>\n",
       "  </thead>\n",
       "  <tbody>\n",
       "    <tr>\n",
       "      <td>0</td>\n",
       "      <td>1.0</td>\n",
       "      <td>-0.00645</td>\n",
       "      <td>AU025425 Corp</td>\n",
       "      <td>Germany</td>\n",
       "      <td>0.0</td>\n",
       "      <td>-9.347190</td>\n",
       "    </tr>\n",
       "    <tr>\n",
       "      <td>1</td>\n",
       "      <td>2.0</td>\n",
       "      <td>-0.00661</td>\n",
       "      <td>ZR204844 Corp</td>\n",
       "      <td>Germany</td>\n",
       "      <td>0.0</td>\n",
       "      <td>-18.824834</td>\n",
       "    </tr>\n",
       "    <tr>\n",
       "      <td>2</td>\n",
       "      <td>3.0</td>\n",
       "      <td>-0.00691</td>\n",
       "      <td>AO131132 Corp</td>\n",
       "      <td>Germany</td>\n",
       "      <td>0.0</td>\n",
       "      <td>-28.459505</td>\n",
       "    </tr>\n",
       "    <tr>\n",
       "      <td>3</td>\n",
       "      <td>4.0</td>\n",
       "      <td>-0.00668</td>\n",
       "      <td>AT634023 Corp</td>\n",
       "      <td>Germany</td>\n",
       "      <td>0.0</td>\n",
       "      <td>-38.165821</td>\n",
       "    </tr>\n",
       "    <tr>\n",
       "      <td>4</td>\n",
       "      <td>5.0</td>\n",
       "      <td>-0.00611</td>\n",
       "      <td>AZ321298 Corp</td>\n",
       "      <td>Germany</td>\n",
       "      <td>0.0</td>\n",
       "      <td>-47.863075</td>\n",
       "    </tr>\n",
       "    <tr>\n",
       "      <td>5</td>\n",
       "      <td>6.0</td>\n",
       "      <td>-0.00596</td>\n",
       "      <td>AF205634 Corp</td>\n",
       "      <td>Germany</td>\n",
       "      <td>1.0</td>\n",
       "      <td>-683.367359</td>\n",
       "    </tr>\n",
       "    <tr>\n",
       "      <td>6</td>\n",
       "      <td>7.0</td>\n",
       "      <td>-0.00556</td>\n",
       "      <td>LW743065 Corp</td>\n",
       "      <td>Germany</td>\n",
       "      <td>0.0</td>\n",
       "      <td>-40.453754</td>\n",
       "    </tr>\n",
       "    <tr>\n",
       "      <td>7</td>\n",
       "      <td>8.0</td>\n",
       "      <td>-0.00510</td>\n",
       "      <td>AO223542 Corp</td>\n",
       "      <td>Germany</td>\n",
       "      <td>0.5</td>\n",
       "      <td>-2559.320674</td>\n",
       "    </tr>\n",
       "  </tbody>\n",
       "</table>\n",
       "</div>"
      ],
      "text/plain": [
       "   Maturity    rates     underlying  country  coupon   Duration_i\n",
       "0       1.0 -0.00645  AU025425 Corp  Germany     0.0    -9.347190\n",
       "1       2.0 -0.00661  ZR204844 Corp  Germany     0.0   -18.824834\n",
       "2       3.0 -0.00691  AO131132 Corp  Germany     0.0   -28.459505\n",
       "3       4.0 -0.00668  AT634023 Corp  Germany     0.0   -38.165821\n",
       "4       5.0 -0.00611  AZ321298 Corp  Germany     0.0   -47.863075\n",
       "5       6.0 -0.00596  AF205634 Corp  Germany     1.0  -683.367359\n",
       "6       7.0 -0.00556  LW743065 Corp  Germany     0.0   -40.453754\n",
       "7       8.0 -0.00510  AO223542 Corp  Germany     0.5 -2559.320674"
      ]
     },
     "execution_count": 37,
     "metadata": {},
     "output_type": "execute_result"
    }
   ],
   "source": [
    "# on print la somme des durations\n",
    "print(germany_data2[\"Duration_i\"].sum())\n",
    "print(french_data2[\"Duration_i\"].sum())\n",
    "germany_data2"
   ]
  },
  {
   "cell_type": "code",
   "execution_count": 38,
   "metadata": {
    "ExecuteTime": {
     "end_time": "2019-11-22T19:26:53.724257Z",
     "start_time": "2019-11-22T19:26:53.471144Z"
    }
   },
   "outputs": [
    {
     "data": {
      "text/plain": [
       "<matplotlib.legend.Legend at 0x1e43df45608>"
      ]
     },
     "execution_count": 38,
     "metadata": {},
     "output_type": "execute_result"
    },
    {
     "data": {
      "image/png": "[encoded data removed]",
      "text/plain": [
       "<Figure size 576x396 with 1 Axes>"
      ]
     },
     "metadata": {},
     "output_type": "display_data"
    }
   ],
   "source": [
    "plt.plot(germany_data2[\"Maturity\"], germany_data2[\"Duration_i\"], label= \"Germany\", c=\"orange\")\n",
    "plt.plot(french_data2[\"Maturity\"], french_data2[\"Duration_i\"], label= \"France\")\n",
    "plt.legend()"
   ]
  },
  {
   "cell_type": "markdown",
   "metadata": {},
   "source": [
    "### Remarque:\n",
    "\n",
    "Les durations sont peu différentes ==> la seule différence est le taux de nos obligations. Néanmoins, l'écart des taux est faible pour les maturités inférieures à 10. C'est pour ça que l'on constate ces courbes, qui pour notre échelle de maturité, semblent superposées.\n",
    "\n",
    "Par conséquent, la duration sera la plus forte pour la maturité la plus forte car c'est à ce point que l'on va percevoir un gros cash flow, lié à 3 nominaux et des coupons. \n",
    "\n",
    "Mais on observe une picà la maturité 6, qui est lié au nominal percu à cette date par une des obligations de notre portefeuille."
   ]
  },
  {
   "cell_type": "markdown",
   "metadata": {},
   "source": [
    "<a id='p1e4'></a>"
   ]
  },
  {
   "cell_type": "markdown",
   "metadata": {
    "ExecuteTime": {
     "end_time": "2019-10-25T20:11:49.216767Z",
     "start_time": "2019-10-25T20:11:49.181001Z"
    }
   },
   "source": [
    "## 4)"
   ]
  },
  {
   "cell_type": "code",
   "execution_count": 39,
   "metadata": {
    "ExecuteTime": {
     "end_time": "2019-11-22T19:27:21.737884Z",
     "start_time": "2019-11-22T19:27:21.721925Z"
    }
   },
   "outputs": [
    {
     "data": {
      "text/html": [
       "<div>\n",
       "<style scoped>\n",
       "    .dataframe tbody tr th:only-of-type {\n",
       "        vertical-align: middle;\n",
       "    }\n",
       "\n",
       "    .dataframe tbody tr th {\n",
       "        vertical-align: top;\n",
       "    }\n",
       "\n",
       "    .dataframe thead th {\n",
       "        text-align: right;\n",
       "    }\n",
       "</style>\n",
       "<table border=\"1\" class=\"dataframe\">\n",
       "  <thead>\n",
       "    <tr style=\"text-align: right;\">\n",
       "      <th></th>\n",
       "      <th>Maturity</th>\n",
       "      <th>rates</th>\n",
       "      <th>underlying</th>\n",
       "      <th>country</th>\n",
       "      <th>coupon</th>\n",
       "      <th>Duration_i</th>\n",
       "      <th>mat</th>\n",
       "    </tr>\n",
       "  </thead>\n",
       "  <tbody>\n",
       "    <tr>\n",
       "      <td>0</td>\n",
       "      <td>1.0</td>\n",
       "      <td>-0.00632</td>\n",
       "      <td>ZQ078370 Corp</td>\n",
       "      <td>France</td>\n",
       "      <td>0.00</td>\n",
       "      <td>-9.344744</td>\n",
       "      <td>9.227</td>\n",
       "    </tr>\n",
       "    <tr>\n",
       "      <td>1</td>\n",
       "      <td>2.0</td>\n",
       "      <td>-0.00620</td>\n",
       "      <td>AW799417 Corp</td>\n",
       "      <td>France</td>\n",
       "      <td>0.00</td>\n",
       "      <td>-18.801545</td>\n",
       "      <td>9.227</td>\n",
       "    </tr>\n",
       "    <tr>\n",
       "      <td>2</td>\n",
       "      <td>3.0</td>\n",
       "      <td>-0.00589</td>\n",
       "      <td>AP173983 Corp</td>\n",
       "      <td>France</td>\n",
       "      <td>0.00</td>\n",
       "      <td>-28.342882</td>\n",
       "      <td>9.227</td>\n",
       "    </tr>\n",
       "    <tr>\n",
       "      <td>3</td>\n",
       "      <td>4.0</td>\n",
       "      <td>-0.00510</td>\n",
       "      <td>AT122915 Corp</td>\n",
       "      <td>France</td>\n",
       "      <td>0.00</td>\n",
       "      <td>-37.863727</td>\n",
       "      <td>9.227</td>\n",
       "    </tr>\n",
       "    <tr>\n",
       "      <td>4</td>\n",
       "      <td>5.0</td>\n",
       "      <td>-0.00412</td>\n",
       "      <td>ZS171522 Corp</td>\n",
       "      <td>France</td>\n",
       "      <td>0.00</td>\n",
       "      <td>-47.292085</td>\n",
       "      <td>9.227</td>\n",
       "    </tr>\n",
       "    <tr>\n",
       "      <td>5</td>\n",
       "      <td>6.0</td>\n",
       "      <td>-0.00382</td>\n",
       "      <td>UV715505 Corp</td>\n",
       "      <td>France</td>\n",
       "      <td>1.00</td>\n",
       "      <td>-673.157251</td>\n",
       "      <td>109.227</td>\n",
       "    </tr>\n",
       "    <tr>\n",
       "      <td>6</td>\n",
       "      <td>7.0</td>\n",
       "      <td>-0.00312</td>\n",
       "      <td>QZ358353 Corp</td>\n",
       "      <td>France</td>\n",
       "      <td>0.25</td>\n",
       "      <td>-39.668378</td>\n",
       "      <td>5.527</td>\n",
       "    </tr>\n",
       "    <tr>\n",
       "      <td>7</td>\n",
       "      <td>8.0</td>\n",
       "      <td>-0.00275</td>\n",
       "      <td>EJ346891 Corp</td>\n",
       "      <td>France</td>\n",
       "      <td>2.75</td>\n",
       "      <td>-2505.550600</td>\n",
       "      <td>305.527</td>\n",
       "    </tr>\n",
       "  </tbody>\n",
       "</table>\n",
       "</div>"
      ],
      "text/plain": [
       "   Maturity    rates     underlying country  coupon   Duration_i      mat\n",
       "0       1.0 -0.00632  ZQ078370 Corp  France    0.00    -9.344744    9.227\n",
       "1       2.0 -0.00620  AW799417 Corp  France    0.00   -18.801545    9.227\n",
       "2       3.0 -0.00589  AP173983 Corp  France    0.00   -28.342882    9.227\n",
       "3       4.0 -0.00510  AT122915 Corp  France    0.00   -37.863727    9.227\n",
       "4       5.0 -0.00412  ZS171522 Corp  France    0.00   -47.292085    9.227\n",
       "5       6.0 -0.00382  UV715505 Corp  France    1.00  -673.157251  109.227\n",
       "6       7.0 -0.00312  QZ358353 Corp  France    0.25   -39.668378    5.527\n",
       "7       8.0 -0.00275  EJ346891 Corp  France    2.75 -2505.550600  305.527"
      ]
     },
     "execution_count": 39,
     "metadata": {},
     "output_type": "execute_result"
    }
   ],
   "source": [
    "#On va récupéré les données pour les 8 premières années\n",
    "french_data2\n",
    "french_data2= french_data2.assign(mat= portefeuille_cashflow[\"cash_flow\"])\n",
    "french_data2"
   ]
  },
  {
   "cell_type": "code",
   "execution_count": 134,
   "metadata": {
    "ExecuteTime": {
     "end_time": "2019-11-22T20:27:23.571310Z",
     "start_time": "2019-11-22T20:27:23.536461Z"
    }
   },
   "outputs": [
    {
     "data": {
      "text/html": [
       "<div>\n",
       "<style scoped>\n",
       "    .dataframe tbody tr th:only-of-type {\n",
       "        vertical-align: middle;\n",
       "    }\n",
       "\n",
       "    .dataframe tbody tr th {\n",
       "        vertical-align: top;\n",
       "    }\n",
       "\n",
       "    .dataframe thead th {\n",
       "        text-align: right;\n",
       "    }\n",
       "</style>\n",
       "<table border=\"1\" class=\"dataframe\">\n",
       "  <thead>\n",
       "    <tr style=\"text-align: right;\">\n",
       "      <th></th>\n",
       "      <th>1.0</th>\n",
       "      <th>2.0</th>\n",
       "      <th>3.0</th>\n",
       "      <th>4.0</th>\n",
       "      <th>5.0</th>\n",
       "      <th>6.0</th>\n",
       "      <th>7.0</th>\n",
       "      <th>8.0</th>\n",
       "    </tr>\n",
       "  </thead>\n",
       "  <tbody>\n",
       "    <tr>\n",
       "      <td>0</td>\n",
       "      <td>9.227</td>\n",
       "      <td>9.227</td>\n",
       "      <td>9.227</td>\n",
       "      <td>9.227</td>\n",
       "      <td>9.227</td>\n",
       "      <td>9.227</td>\n",
       "      <td>9.227</td>\n",
       "      <td>9.227</td>\n",
       "    </tr>\n",
       "    <tr>\n",
       "      <td>1</td>\n",
       "      <td>0.000</td>\n",
       "      <td>9.227</td>\n",
       "      <td>9.227</td>\n",
       "      <td>9.227</td>\n",
       "      <td>9.227</td>\n",
       "      <td>9.227</td>\n",
       "      <td>9.227</td>\n",
       "      <td>9.227</td>\n",
       "    </tr>\n",
       "    <tr>\n",
       "      <td>2</td>\n",
       "      <td>0.000</td>\n",
       "      <td>0.000</td>\n",
       "      <td>9.227</td>\n",
       "      <td>9.227</td>\n",
       "      <td>9.227</td>\n",
       "      <td>9.227</td>\n",
       "      <td>9.227</td>\n",
       "      <td>9.227</td>\n",
       "    </tr>\n",
       "    <tr>\n",
       "      <td>3</td>\n",
       "      <td>0.000</td>\n",
       "      <td>0.000</td>\n",
       "      <td>0.000</td>\n",
       "      <td>9.227</td>\n",
       "      <td>9.227</td>\n",
       "      <td>9.227</td>\n",
       "      <td>9.227</td>\n",
       "      <td>9.227</td>\n",
       "    </tr>\n",
       "    <tr>\n",
       "      <td>4</td>\n",
       "      <td>0.000</td>\n",
       "      <td>0.000</td>\n",
       "      <td>0.000</td>\n",
       "      <td>0.000</td>\n",
       "      <td>9.227</td>\n",
       "      <td>9.227</td>\n",
       "      <td>9.227</td>\n",
       "      <td>9.227</td>\n",
       "    </tr>\n",
       "    <tr>\n",
       "      <td>5</td>\n",
       "      <td>0.000</td>\n",
       "      <td>0.000</td>\n",
       "      <td>0.000</td>\n",
       "      <td>0.000</td>\n",
       "      <td>0.000</td>\n",
       "      <td>109.227</td>\n",
       "      <td>109.227</td>\n",
       "      <td>109.227</td>\n",
       "    </tr>\n",
       "    <tr>\n",
       "      <td>6</td>\n",
       "      <td>0.000</td>\n",
       "      <td>0.000</td>\n",
       "      <td>0.000</td>\n",
       "      <td>0.000</td>\n",
       "      <td>0.000</td>\n",
       "      <td>0.000</td>\n",
       "      <td>5.527</td>\n",
       "      <td>5.527</td>\n",
       "    </tr>\n",
       "    <tr>\n",
       "      <td>7</td>\n",
       "      <td>0.000</td>\n",
       "      <td>0.000</td>\n",
       "      <td>0.000</td>\n",
       "      <td>0.000</td>\n",
       "      <td>0.000</td>\n",
       "      <td>0.000</td>\n",
       "      <td>0.000</td>\n",
       "      <td>305.527</td>\n",
       "    </tr>\n",
       "  </tbody>\n",
       "</table>\n",
       "</div>"
      ],
      "text/plain": [
       "     1.0    2.0    3.0    4.0    5.0      6.0      7.0      8.0\n",
       "0  9.227  9.227  9.227  9.227  9.227    9.227    9.227    9.227\n",
       "1  0.000  9.227  9.227  9.227  9.227    9.227    9.227    9.227\n",
       "2  0.000  0.000  9.227  9.227  9.227    9.227    9.227    9.227\n",
       "3  0.000  0.000  0.000  9.227  9.227    9.227    9.227    9.227\n",
       "4  0.000  0.000  0.000  0.000  9.227    9.227    9.227    9.227\n",
       "5  0.000  0.000  0.000  0.000  0.000  109.227  109.227  109.227\n",
       "6  0.000  0.000  0.000  0.000  0.000    0.000    5.527    5.527\n",
       "7  0.000  0.000  0.000  0.000  0.000    0.000    0.000  305.527"
      ]
     },
     "execution_count": 134,
     "metadata": {},
     "output_type": "execute_result"
    }
   ],
   "source": [
    "def matrice_d_construction2(df):\n",
    "    \"\"\"\n",
    "    Retourne une DF matrice composé par ligne du cash flow associé à une maturité\n",
    "    \"\"\"\n",
    "    dicto= {i:np.array(np.repeat(df[df[\"Maturity\"] == i][\"coupon\"], df.shape[0]))\\\n",
    "                    for i in df[\"Maturity\"].values}\n",
    "    \n",
    "    test_df= pd.DataFrame.from_dict(dicto)\n",
    "    test_matrix= pd.DataFrame.from_dict(dicto).to_numpy()\n",
    "    np.fill_diagonal(test_matrix, test_matrix.diagonal() + 100)\n",
    "    \n",
    "    return pd.DataFrame(test_matrix, columns= [i for i in df[\"Maturity\"].values])\n",
    "\n",
    "def matrice_d_construction3(df):\n",
    "    \"\"\"\n",
    "    Me permet d'afficher une matrice triangulaire sup avec les cash_flow dans l'ordres de maturité\n",
    "    Pour la 2 ème colonne, le cash flow s'arrète à partir de la \n",
    "    troisième ligne, avec une suite de 0.\n",
    "    \n",
    "    C'est un traitement nécessaire pour construire la matrice de dérivé par rapport à tous les taux\n",
    "    obligataires\n",
    "    \n",
    "    Voici un exemple d'ouput:\n",
    "        1.0\t2.0\t3.0\t4.0\t5.0\t6.0\t7.0\t8.0\n",
    "    0\t9.227\t9.227\t9.227\t9.227\t9.227\t9.227\t9.227\t9.227\n",
    "    1\t0.000\t9.227\t9.227\t9.227\t9.227\t9.227\t9.227\t9.227\n",
    "    2\t0.000\t0.000\t9.227\t9.227\t9.227\t9.227\t9.227\t9.227\n",
    "    3\t0.000\t0.000\t0.000\t9.227\t9.227\t9.227\t9.227\t9.227\n",
    "    4\t0.000\t0.000\t0.000\t0.000\t9.227\t9.227\t9.227\t9.227\n",
    "    5\t0.000\t0.000\t0.000\t0.000\t0.000\t109.227\t109.227\t109.227\n",
    "    6\t0.000\t0.000\t0.000\t0.000\t0.000\t0.000\t5.527\t5.527\n",
    "    7\t0.000\t0.000\t0.000\t0.000\t0.000\t0.000\t0.000\t305.527\n",
    "    \n",
    "    \"\"\"\n",
    "    df_out= pd.DataFrame({\n",
    "        i:df[\"mat\"].values for i in df[\"Maturity\"].values\n",
    "    })\n",
    "    colname= [i for i in df[\"Maturity\"].values]\n",
    "    return pd.DataFrame(np.triu(df_out, 0), columns= colname)\n",
    "    \n",
    "matrice_d_construction3(french_data2)\n",
    "\n",
    "# french_data_18= french_data_2[np.logical_or(french_data_2[\"Maturity\"] == 1, french_data_2[\"Maturity\"] == 8)]\n",
    "# french_data_18= french_data_18.reset_index(drop= True)\n",
    "# matrice_d_construction2(french_data_18)\n",
    "\n",
    "# matrice_d(french_data_18)"
   ]
  },
  {
   "cell_type": "code",
   "execution_count": 102,
   "metadata": {
    "ExecuteTime": {
     "end_time": "2019-11-22T20:09:00.917071Z",
     "start_time": "2019-11-22T20:09:00.894100Z"
    },
    "scrolled": false
   },
   "outputs": [],
   "source": [
    "#rappel de la fonction\n",
    "#pour ne pas oublier la façon dont je dois l'appeller\n",
    "def duration_i(y, C, m):\n",
    "    return -(m*(C))/pow(1+y, (m+1))\n",
    "\n",
    "# def matrice_d_construction(df):\n",
    "#     \"\"\"\n",
    "#     Retourne une matrice sur laquelle je peux taffer pour la fonction matrice_d.\n",
    "#     C'est une matrice (dans un DF) qui affiche en diagonale la valeur du nominal (ici n=100)\n",
    "#         et sur le reste des lignes la valeur du coupon qui est associé à une maturité (en ligne)\n",
    "#     \"\"\"\n",
    "#     test_df= pd.DataFrame()\n",
    "#     for i in df[\"Maturity\"].values:\n",
    "#         test_df[i]= df.apply(lambda row: row.coupon, axis= 1)\n",
    "        \n",
    "#     test_matrix= test_df.to_numpy().reshape(df.shape[0], df.shape[0])\n",
    "#     np.fill_diagonal(test_matrix, test_matrix.diagonal() + 100)\n",
    "#     test_df_out= pd.DataFrame(test_matrix, columns= [i for i in df[\"Maturity\"].values])\n",
    "    \n",
    "#     return test_df_out\n",
    "\n",
    "def matrice_d_construction2(df):\n",
    "    \"\"\"\n",
    "    Retourne une DF matrice composé par ligne du cash flow associé à une maturité\n",
    "    \"\"\"\n",
    "    dicto= {i:np.array(np.repeat(df[df[\"Maturity\"] == i][\"coupon\"], df.shape[0]))\\\n",
    "                    for i in df[\"Maturity\"].values}\n",
    "    \n",
    "    test_df= pd.DataFrame.from_dict(dicto)\n",
    "    test_matrix= pd.DataFrame.from_dict(dicto).to_numpy()\n",
    "    np.fill_diagonal(test_matrix, test_matrix.diagonal() + 100)\n",
    "    \n",
    "    return pd.DataFrame(test_matrix, columns= [i for i in df[\"Maturity\"].values])\n",
    "\n",
    "\n",
    "def matrice_d(df):\n",
    "    \"\"\"\n",
    "    Sortie est la matrice n*n contenant la dérivé des n titres par rapports à leurs\n",
    "    n taux\n",
    "    -df : DataFrame qui doit contenir les colonnes suivantes: Maturity et coupon \n",
    "    (attention aux majuscules)\n",
    "    \"\"\"\n",
    "    try_df= matrice_d_construction3(df)\n",
    "\n",
    "    iterator= itertools.product(df[\"Maturity\"].index,\n",
    "                               df[\"Maturity\"].values)\n",
    "\n",
    "    df_copy= df.copy()\n",
    "    df_copy= df_copy.reset_index(drop= True, inplace= False)\n",
    "\n",
    "    listed_stock= []\n",
    "    for ite in iterator:\n",
    "        m= ite[1]\n",
    "        idx= ite[0]\n",
    "        r= df_copy[\"rates\"][idx]\n",
    "        listed_stock.append(duration_i(r, try_df[m][idx], m))\n",
    "\n",
    "    matrice_d_out= np.array(listed_stock).reshape(df.shape[0], df.shape[0])\n",
    "    \n",
    "    return matrice_d_out\n",
    "\n",
    "\n",
    "def poids_couverture(matrice_d, vector_d):\n",
    "    \"\"\"\n",
    "    Ressort le poids pour nous protéger contre les variations de la courbe des taux\n",
    "    \"\"\"\n",
    "    return -np.dot(vector_d, np.linalg.inv(matrice_d))\n",
    "\n",
    "#pour voir ce que print ma fameuse fonction de matrice_d_construction\n",
    "# matrice_d_construction3(french_data_2)"
   ]
  },
  {
   "cell_type": "code",
   "execution_count": 94,
   "metadata": {
    "ExecuteTime": {
     "end_time": "2019-11-22T19:51:15.629021Z",
     "start_time": "2019-11-22T19:51:15.616056Z"
    }
   },
   "outputs": [
    {
     "data": {
      "text/plain": [
       "array([-1.  , -0.97])"
      ]
     },
     "execution_count": 94,
     "metadata": {},
     "output_type": "execute_result"
    }
   ],
   "source": [
    "#construison un df contenant que 2 titres = celui a la maturité 1an, et l'autre à la maturité 8ans\n",
    "french_data_18= french_data2[np.logical_or(french_data2[\"Maturity\"] == 1, french_data2[\"Maturity\"] == 8)]\n",
    "french_data_18= french_data_18.reset_index(drop= True)\n",
    "\n",
    "#try\n",
    "matrice_d_fr_18= matrice_d(french_data_18)\n",
    "vecteur_d_fr_18= np.array(french_data_18[\"Duration_i\"].values)\n",
    "poids_couverture_18ans= poids_couverture(matrice_d_fr_18, vecteur_d_fr_18)\n",
    "np.round(poids_couverture_18ans, 2)"
   ]
  },
  {
   "cell_type": "markdown",
   "metadata": {},
   "source": [
    "### Remarque\n",
    "\n",
    "On a donc chercher les poids des obligations souverains (français dans notre cas) pour protéger notre protefeuille contre une variation de la courbe des taux pour la maturité 1an et 8ans. Les valeurs obtenues ne semblent pas aberrantes, même si je ne suis pas sur de leur pertinence. En effet, peu importe le titre sélectionné en première place, il aura toujours le poids -1; ce qui est bizarre. De plus, si on change les valeurs, parfois, la valeur devient positives ==> nous sommes dans un contexte de converture de notre portefeuille en cherchant les quantités d'actifs à vendre pour se protéger ==> les valeurs devraient donc toutes être négatives ?!\n",
    "\n",
    "J'espère que la cause de tous ces problèmes est liées aux taux négatifs."
   ]
  },
  {
   "cell_type": "markdown",
   "metadata": {},
   "source": [
    "<a id='p1e5'></a>"
   ]
  },
  {
   "cell_type": "markdown",
   "metadata": {},
   "source": [
    "## 5)"
   ]
  },
  {
   "cell_type": "code",
   "execution_count": 96,
   "metadata": {
    "ExecuteTime": {
     "end_time": "2019-11-22T19:56:40.787235Z",
     "start_time": "2019-11-22T19:56:40.772277Z"
    }
   },
   "outputs": [
    {
     "name": "stdout",
     "output_type": "stream",
     "text": [
      "[-1.000e+00  0.000e+00  0.000e+00  0.000e+00  1.000e-02 -9.200e-01\n",
      "  1.888e+01 -9.800e-01]\n",
      "-1.0\n",
      "0.0\n",
      "0.0\n",
      "0.0\n",
      "0.01\n",
      "-0.92\n",
      "18.88\n",
      "-0.98\n"
     ]
    }
   ],
   "source": [
    "matrice_d_fr= matrice_d(french_data2)\n",
    "matrice_d_fr\n",
    "vecteur_d_fr= np.array(french_data2[\"Duration_i\"].values)\n",
    "poids= np.round(poids_couverture(matrice_d_fr, vecteur_d_fr), 2)\n",
    "print(poids)\n",
    "for i in poids:\n",
    "    print(i)"
   ]
  },
  {
   "cell_type": "markdown",
   "metadata": {},
   "source": [
    "### Remarque\n",
    "\n",
    "Voici les poids necessaire pour se convrir pour la période de détention de notre portefeuille. \n",
    "\n",
    "On observe 2 types de valeurs aberrantes:\n",
    "- un poids très fortement positif (presque 19 titres de maturité 7 sont nécessaire)\n",
    "- un poids positif\n",
    "\n",
    "Aussi, notre premier poids est encore -1"
   ]
  },
  {
   "cell_type": "markdown",
   "metadata": {},
   "source": [
    "<a id='p2'></a>"
   ]
  },
  {
   "cell_type": "markdown",
   "metadata": {},
   "source": [
    "# Partie 2"
   ]
  },
  {
   "cell_type": "markdown",
   "metadata": {},
   "source": [
    "<a id='p2e1'></a>"
   ]
  },
  {
   "cell_type": "markdown",
   "metadata": {},
   "source": [
    "## 1)"
   ]
  },
  {
   "cell_type": "code",
   "execution_count": 103,
   "metadata": {
    "ExecuteTime": {
     "end_time": "2019-11-22T20:09:11.065137Z",
     "start_time": "2019-11-22T20:09:11.055163Z"
    }
   },
   "outputs": [],
   "source": [
    "def taux_vasicek_disc(r0, a, b, sig, h, k):\n",
    "    r= [r0]\n",
    "    i= 0\n",
    "    for i in range(0, k):\n",
    "        alea= sig*np.sqrt(h)*np.random.normal(0, 1, 1)\n",
    "        retour= a*(b-r[i])*h\n",
    "        r.append(r[i] + retour + alea)\n",
    "    return r"
   ]
  },
  {
   "cell_type": "code",
   "execution_count": 104,
   "metadata": {
    "ExecuteTime": {
     "end_time": "2019-11-22T20:09:12.641852Z",
     "start_time": "2019-11-22T20:09:12.624928Z"
    },
    "scrolled": false
   },
   "outputs": [
    {
     "data": {
      "text/plain": [
       "[0.01,\n",
       " array([0.00061705]),\n",
       " array([3.67058139e-05]),\n",
       " array([-0.01040386]),\n",
       " array([-0.00886175]),\n",
       " array([-0.00733781]),\n",
       " array([-0.00951745]),\n",
       " array([-0.00950647]),\n",
       " array([-0.00750998]),\n",
       " array([-0.002307]),\n",
       " array([-0.00437963]),\n",
       " array([0.0051995]),\n",
       " array([-0.00166559]),\n",
       " array([0.00796665]),\n",
       " array([-0.00360515]),\n",
       " array([-0.00634981]),\n",
       " array([0.00157187]),\n",
       " array([0.00306812]),\n",
       " array([0.00712637]),\n",
       " array([0.0122519]),\n",
       " array([0.01640955]),\n",
       " array([0.00841096]),\n",
       " array([0.00266956]),\n",
       " array([0.00169504]),\n",
       " array([0.0033632]),\n",
       " array([0.00508099]),\n",
       " array([0.00399788]),\n",
       " array([0.00187436]),\n",
       " array([0.01025564]),\n",
       " array([0.01151237]),\n",
       " array([0.01407143]),\n",
       " array([0.01284038]),\n",
       " array([0.00990071]),\n",
       " array([0.0122023]),\n",
       " array([0.01806491]),\n",
       " array([0.02503459]),\n",
       " array([0.0276177])]"
      ]
     },
     "execution_count": 104,
     "metadata": {},
     "output_type": "execute_result"
    }
   ],
   "source": [
    "np.random.seed(55)\n",
    "data1= taux_vasicek_disc(0.01, 0.02, 0.005, 0.02, 1/12, 36)\n",
    "data1"
   ]
  },
  {
   "cell_type": "code",
   "execution_count": 86,
   "metadata": {
    "ExecuteTime": {
     "end_time": "2019-11-22T19:47:53.321196Z",
     "start_time": "2019-11-22T19:47:53.094804Z"
    }
   },
   "outputs": [
    {
     "data": {
      "image/png": "[encoded data removed]",
      "text/plain": [
       "<Figure size 576x396 with 1 Axes>"
      ]
     },
     "metadata": {},
     "output_type": "display_data"
    }
   ],
   "source": [
    "mpl.style.use('seaborn')\n",
    "fig, ax= plt.subplots()\n",
    "\n",
    "ax.plot([i for i in range(len(data1))]\n",
    "            , np.ravel(data1)\n",
    "            , marker= '.'\n",
    "            , markerfacecolor= 'black'\n",
    "            , markersize= 9\n",
    "            , c= 'orange'\n",
    "            )\n",
    "b= 0.005\n",
    "ax.plot([i for i in range(len(data1))]\n",
    "        , [b for i in range(len(data1))]\n",
    "        , label= \"Moyenne de Long Terme\"\n",
    "       )\n",
    "\n",
    "ax.set_ylabel(\"Taux\", rotation= 0, fontsize= 12)\n",
    "ax.set_xlabel(\"Maturite\", fontsize= 12)\n",
    "ax.set_title(\"Courbe de taux\", fontsize= 18)\n",
    "ax.legend()\n",
    "\n",
    "plt.show()"
   ]
  },
  {
   "cell_type": "markdown",
   "metadata": {
    "ExecuteTime": {
     "end_time": "2019-11-22T20:10:01.299659Z",
     "start_time": "2019-11-22T20:10:01.295670Z"
    }
   },
   "source": [
    "### Remarque\n",
    "\n",
    "C'est un modèle de modélisation des taux en continues. On considère que a long terme, notre taux = b et que les taux court fluctuent autour de cette moyenne de long terme. On considère aussi une vitesse de retour vers cette moyenne de long terme, a.\n",
    "\n",
    "Dans notre plot, on remarque alors les taux semblent en effet fluctuer autours du seuil b=0.005."
   ]
  },
  {
   "cell_type": "code",
   "execution_count": 105,
   "metadata": {
    "ExecuteTime": {
     "end_time": "2019-11-22T20:09:47.733446Z",
     "start_time": "2019-11-22T20:09:47.719484Z"
    },
    "scrolled": true
   },
   "outputs": [
    {
     "data": {
      "text/plain": [
       "[0.01,\n",
       " array([0.01250576]),\n",
       " array([0.01053293]),\n",
       " array([0.02452089]),\n",
       " array([0.02290276]),\n",
       " array([0.0233864]),\n",
       " array([0.03236964]),\n",
       " array([0.02689211]),\n",
       " array([0.02329386]),\n",
       " array([0.02422454]),\n",
       " array([0.02215983]),\n",
       " array([0.0151304]),\n",
       " array([0.01386312]),\n",
       " array([0.01171756]),\n",
       " array([0.01514573]),\n",
       " array([0.00544952]),\n",
       " array([0.00140329]),\n",
       " array([0.00808082]),\n",
       " array([0.01877845]),\n",
       " array([0.00993883]),\n",
       " array([0.0136207]),\n",
       " array([0.00788732]),\n",
       " array([0.00291622]),\n",
       " array([-0.00210021]),\n",
       " array([-0.0044804]),\n",
       " array([0.00135156]),\n",
       " array([0.00549513]),\n",
       " array([0.00583247]),\n",
       " array([0.00372795]),\n",
       " array([0.00375754]),\n",
       " array([0.00315631]),\n",
       " array([0.00775037]),\n",
       " array([0.00408107]),\n",
       " array([0.00405296]),\n",
       " array([0.00347734]),\n",
       " array([0.00318802]),\n",
       " array([0.00464198])]"
      ]
     },
     "execution_count": 105,
     "metadata": {},
     "output_type": "execute_result"
    }
   ],
   "source": [
    "np.random.seed(5)\n",
    "data2= taux_vasicek_disc(0.01, 0.1, 0.005, 0.02, 1/12, 36)\n",
    "data2"
   ]
  },
  {
   "cell_type": "code",
   "execution_count": 106,
   "metadata": {
    "ExecuteTime": {
     "end_time": "2019-11-22T20:09:48.280034Z",
     "start_time": "2019-11-22T20:09:48.027814Z"
    }
   },
   "outputs": [
    {
     "data": {
      "image/png": "[encoded data removed]",
      "text/plain": [
       "<Figure size 576x396 with 1 Axes>"
      ]
     },
     "metadata": {},
     "output_type": "display_data"
    }
   ],
   "source": [
    "mpl.style.use('seaborn')\n",
    "fig, ax= plt.subplots()\n",
    "\n",
    "ax.plot([i for i in range(len(data2))]\n",
    "            , np.ravel(data2)\n",
    "            , marker= '.'\n",
    "            , markerfacecolor= 'black'\n",
    "            , markersize= 9\n",
    "            , c= 'orange'\n",
    "            )\n",
    "b= 0.005\n",
    "ax.plot([i for i in range(len(data2))]\n",
    "        , [b for i in range(len(data2))]\n",
    "        , label= \"Moyenne de Long Terme\"\n",
    "       )\n",
    "\n",
    "ax.set_ylabel(\"Taux\", rotation= 0, fontsize= 12)\n",
    "ax.set_xlabel(\"Maturite\", fontsize= 12)\n",
    "ax.set_title(\"Courbe de taux\", fontsize= 18)\n",
    "ax.legend()\n",
    "\n",
    "plt.show()"
   ]
  },
  {
   "cell_type": "markdown",
   "metadata": {},
   "source": [
    "### Remarque\n",
    "\n",
    "On a donc augmenter notre vitesse de retour vers la moyenne de long terme. Toutes choses étant égales par ailleurs, on constate alors que les taux flanchent beaucoup plus rapidement vers notre b=0.005"
   ]
  },
  {
   "cell_type": "markdown",
   "metadata": {},
   "source": [
    "<a id='p2e2'></a>\n",
    "<a id='p2e3'></a>"
   ]
  },
  {
   "cell_type": "markdown",
   "metadata": {},
   "source": [
    "## 2) / 3)"
   ]
  },
  {
   "cell_type": "code",
   "execution_count": 108,
   "metadata": {
    "ExecuteTime": {
     "end_time": "2019-11-22T20:17:26.592035Z",
     "start_time": "2019-11-22T20:17:26.585053Z"
    }
   },
   "outputs": [],
   "source": [
    "def taux_zero_continue(r0, a, b, sig, i):\n",
    "#     r= [r0]\n",
    "#     for i in range(i):\n",
    "    zoo= b - pow(sig, 2)/(2*pow(a, 2))\n",
    "    if i == 0:\n",
    "        return zoo\n",
    "    else:\n",
    "        s= r0 - zoo\n",
    "        phi= (1 - np.exp(-a*i))/a\n",
    "        r= zoo + s*phi/i \\\n",
    "                + (pow(sig, 2)/(4*pow(a, 3)))*(pow(phi,2)/i)\n",
    "        return r\n",
    "        "
   ]
  },
  {
   "cell_type": "code",
   "execution_count": 109,
   "metadata": {
    "ExecuteTime": {
     "end_time": "2019-11-22T20:17:27.990137Z",
     "start_time": "2019-11-22T20:17:27.982158Z"
    }
   },
   "outputs": [
    {
     "data": {
      "text/plain": [
       "{0: -0.004999999999999999,\n",
       " 1: 0.2524646872988169,\n",
       " 2: 0.49501633686238095,\n",
       " 3: 0.7327402281774613,\n",
       " 4: 0.9657201914552731,\n",
       " 5: 1.194038632365634,\n",
       " 6: 1.4177765563443314,\n",
       " 7: 1.6370135924810627,\n",
       " 8: 1.85182801699535,\n",
       " 9: 2.0622967763075426,\n",
       " 10: 2.268495509712084}"
      ]
     },
     "execution_count": 109,
     "metadata": {},
     "output_type": "execute_result"
    }
   ],
   "source": [
    "#génération valeur pour la courbe\n",
    "r0= 0.005\n",
    "a= 0.01\n",
    "b= 0\n",
    "sig= 0.001\n",
    "dico_courbe_taux ={\n",
    "    i:taux_zero_continue(r0, a, b, sig, i) for i in range(0, 11)\n",
    "}\n",
    "dico_courbe_taux"
   ]
  },
  {
   "cell_type": "code",
   "execution_count": 110,
   "metadata": {
    "ExecuteTime": {
     "end_time": "2019-11-22T20:17:30.518402Z",
     "start_time": "2019-11-22T20:17:30.320728Z"
    },
    "scrolled": true
   },
   "outputs": [
    {
     "name": "stderr",
     "output_type": "stream",
     "text": [
      "No handles with labels found to put in legend.\n"
     ]
    },
    {
     "data": {
      "image/png": "[encoded data removed]",
      "text/plain": [
       "<Figure size 576x396 with 1 Axes>"
      ]
     },
     "metadata": {},
     "output_type": "display_data"
    }
   ],
   "source": [
    "data= list(dico_courbe_taux.items())\n",
    "\n",
    "mpl.style.use('seaborn')\n",
    "fig, ax= plt.subplots()\n",
    "\n",
    "ax.plot([i[0] for i in data]\n",
    "            ,[i[1] for i in data]\n",
    "            , marker= '.'\n",
    "            , markerfacecolor= 'black'\n",
    "            , markersize= 9\n",
    "            , c= 'orange'\n",
    "            )\n",
    "\n",
    "ax.set_ylabel(\"Taux\", rotation= 0, fontsize= 12)\n",
    "ax.set_xlabel(\"Maturite\", fontsize= 12)\n",
    "ax.set_title(\"Courbe de taux\", fontsize= 18)\n",
    "ax.legend()\n",
    "\n",
    "plt.show()"
   ]
  },
  {
   "cell_type": "markdown",
   "metadata": {},
   "source": [
    "### Remarque\n",
    "\n",
    "On pourrait penser que notre fonction n'est pas bonne mais ... si la courbe des taux ressemble à une fonction affine, c'est pour plusieurs raisons:\n",
    "\n",
    "1. La vitesse de retour vers la moyenne de LT, a, est très faible\n",
    "\n",
    "2. Notre moyenne de long terme b = 0. \n",
    "\n",
    "Ces 2 facteurs cumulés font en sorte que la force de montée est plus forte que notre force de rappel, au moins jusqu'à ce qu'on atteigne le taux = 10, alors à partir de ce moment, la pente de notre courbe est négative et on retourne bien vers notre b = 0."
   ]
  },
  {
   "cell_type": "markdown",
   "metadata": {},
   "source": [
    "<a id='p2e4'></a>"
   ]
  },
  {
   "cell_type": "markdown",
   "metadata": {},
   "source": [
    "## 4)"
   ]
  },
  {
   "cell_type": "code",
   "execution_count": 111,
   "metadata": {
    "ExecuteTime": {
     "end_time": "2019-11-22T20:21:35.749416Z",
     "start_time": "2019-11-22T20:21:35.735458Z"
    }
   },
   "outputs": [],
   "source": [
    "def derive_zoo(r0, a, b, sig, i, cf):\n",
    "    \"\"\"\n",
    "    Output la valeur de la dérivé de notre fonction Vi en fonction de zoo\n",
    "    cf= C+n\n",
    "    \"\"\"\n",
    "    phi= (1 - np.exp(-a*i))/a\n",
    "    return cf*(-i + phi)*np.exp(-i*taux_zero_continue(r0, a, b, sig, i))\n",
    "\n",
    "\n",
    "def derive_pente(r0, a, b, sig, i, cf):\n",
    "    \"\"\"\n",
    "    \n",
    "    \"\"\"\n",
    "    phi= (1 - np.exp(-a*i))/a\n",
    "    return cf*(phi)*np.exp(-i*taux_zero_continue(r0, a, b, sig, i))\n",
    "\n",
    "\n",
    "def derive_volatilite(r0, a, b, sig, i, cf):\n",
    "    \"\"\"\n",
    "    \n",
    "    \"\"\"\n",
    "    phi= (1 - np.exp(-a*i))/a\n",
    "#     gauche= cf*(-i*(1/(4*pow(a, 3)))*(pow(phi, 2))/i)\n",
    "    gauche= cf*(-i*(1/(2*a**2))+(1/(2*a**2))*phi/i+(1/(4*a**3))*(phi**2/i))\n",
    "    return gauche*np.exp(-i*taux_zero_continue(r0, a, b, sig, i))\n",
    "\n",
    "# gauche= -i*(1/2*a**2)+(1/2*a**2)*phi/i+(1/4*a**3)*(phi**2/i)"
   ]
  },
  {
   "cell_type": "markdown",
   "metadata": {},
   "source": [
    "<a id='p2e5'></a>"
   ]
  },
  {
   "cell_type": "markdown",
   "metadata": {},
   "source": [
    "# 5)"
   ]
  },
  {
   "cell_type": "code",
   "execution_count": 130,
   "metadata": {
    "ExecuteTime": {
     "end_time": "2019-11-22T20:23:46.141002Z",
     "start_time": "2019-11-22T20:23:46.133023Z"
    }
   },
   "outputs": [
    {
     "data": {
      "text/plain": [
       "-6.802409907509846e-09"
      ]
     },
     "execution_count": 130,
     "metadata": {},
     "output_type": "execute_result"
    }
   ],
   "source": [
    "r0= 0.005\n",
    "a= 0.01\n",
    "b= 0\n",
    "sig= 0.001\n",
    "\n",
    "derive_zoo(r0, a, b, sig, 10, cf= 0 + 100)"
   ]
  },
  {
   "cell_type": "code",
   "execution_count": 113,
   "metadata": {
    "ExecuteTime": {
     "end_time": "2019-11-22T20:21:42.321973Z",
     "start_time": "2019-11-22T20:21:42.313994Z"
    }
   },
   "outputs": [],
   "source": [
    "# juste pour test \n",
    "#ce n'est pas à prendre en compte\n",
    "def vi(r0, a, b, sig, i, cf):\n",
    "    \"\"\"\n",
    "    C'est la fonction qui permet d'évaluer la valeur de l'obligation en i en utilisant les taux continues\n",
    "    *cette fonction n'est pas utile dans le cadre du tp3*\n",
    "    cf= n + C\n",
    "    ELLE N'EST PAS UTILE C'ETAIT POUR LE PLAISIR\n",
    "    \"\"\"\n",
    "#     somme = 0\n",
    "#     for j in range(1, i):\n",
    "#         somme = cf*np.exp(-j*taux_zero_continue(r0, a, b, sig, j))\n",
    "    return cf*np.exp(-i*taux_zero_continue(r0, a, b, sig, i))"
   ]
  },
  {
   "cell_type": "code",
   "execution_count": 114,
   "metadata": {
    "ExecuteTime": {
     "end_time": "2019-11-22T20:21:42.988993Z",
     "start_time": "2019-11-22T20:21:42.980051Z"
    }
   },
   "outputs": [
    {
     "data": {
      "text/plain": [
       "1.469486056509023e-08"
      ]
     },
     "execution_count": 114,
     "metadata": {},
     "output_type": "execute_result"
    }
   ],
   "source": [
    "#juste pour test c'est pas dans l'exo\n",
    "sig= 0.001\n",
    "vi(r0, a, b, sig, 10, cf=104.5)"
   ]
  },
  {
   "cell_type": "code",
   "execution_count": 157,
   "metadata": {
    "ExecuteTime": {
     "end_time": "2019-11-22T20:36:29.487773Z",
     "start_time": "2019-11-22T20:36:29.477801Z"
    }
   },
   "outputs": [
    {
     "data": {
      "text/plain": [
       "-0.09227"
      ]
     },
     "execution_count": 157,
     "metadata": {},
     "output_type": "execute_result"
    }
   ],
   "source": [
    "#je test une théorie que je vais appliquer plus tard (cellule suivante)\n",
    "r0= 0.005\n",
    "a= 0.01\n",
    "b= 0\n",
    "sig= 0.001\n",
    "#dP= dportefeuille_perso/zoo + TETAdoblig/zoo =0\n",
    "v1= derive_zoo(r0, a, b, sig, i=1, cf=9.227)\n",
    "v1\n",
    "v2= derive_zoo(r0, a, b, sig, i=1, cf=100)\n",
    "v2\n",
    "-v1/v2"
   ]
  },
  {
   "cell_type": "code",
   "execution_count": 117,
   "metadata": {
    "ExecuteTime": {
     "end_time": "2019-11-22T20:21:44.592199Z",
     "start_time": "2019-11-22T20:21:44.582784Z"
    }
   },
   "outputs": [],
   "source": [
    "def composition_titre_couverture_continue(fonction, list1, list2):\n",
    "    \"\"\"\n",
    "    list1= [r0, a, b, sig, i, cf]\n",
    "    list2= [r0, a, b, sig, i, cf]\n",
    "    \n",
    "    \"\"\"\n",
    "    v1= fonction(list1[0], list1[1], list1[2], list1[3], list1[4], list1[5])\n",
    "    v2= fonction(list2[0], list2[1], list2[2], list2[3], list2[4], list2[5])\n",
    "    return -v1/v2"
   ]
  },
  {
   "cell_type": "code",
   "execution_count": 118,
   "metadata": {
    "ExecuteTime": {
     "end_time": "2019-11-22T20:21:45.141566Z",
     "start_time": "2019-11-22T20:21:45.134591Z"
    }
   },
   "outputs": [
    {
     "data": {
      "text/plain": [
       "-0.09227"
      ]
     },
     "execution_count": 118,
     "metadata": {},
     "output_type": "execute_result"
    }
   ],
   "source": [
    "#couverture contre risque SHIFT (1an)\n",
    "list1= [r0, a, b, sig, 1, 9.227]\n",
    "list2= [r0, a, b, sig, 1, 100]\n",
    "#voici la composition en obligation souveraine 1an pour se couvrir contre un risque de zoo\n",
    "composition_titre_couverture_continue(derive_zoo, list1, list2)"
   ]
  },
  {
   "cell_type": "markdown",
   "metadata": {},
   "source": [
    "<a id='p2e6'></a>"
   ]
  },
  {
   "cell_type": "markdown",
   "metadata": {},
   "source": [
    "# 6)"
   ]
  },
  {
   "cell_type": "code",
   "execution_count": 155,
   "metadata": {
    "ExecuteTime": {
     "end_time": "2019-11-22T20:36:21.592066Z",
     "start_time": "2019-11-22T20:36:21.588081Z"
    }
   },
   "outputs": [],
   "source": []
  },
  {
   "cell_type": "code",
   "execution_count": 158,
   "metadata": {
    "ExecuteTime": {
     "end_time": "2019-11-22T20:36:32.655086Z",
     "start_time": "2019-11-22T20:36:32.646147Z"
    }
   },
   "outputs": [
    {
     "data": {
      "text/plain": [
       "-0.09227"
      ]
     },
     "execution_count": 158,
     "metadata": {},
     "output_type": "execute_result"
    }
   ],
   "source": [
    "#couverture contre risque SHIFT (1an)\n",
    "list1= [r0, a, b, sig, 1, 9.227]\n",
    "list2= [r0, a, b, sig, 1, 100]\n",
    "#voici la composition en obligation souveraine 1an pour se couvrir contre un risque de zoo\n",
    "composition_titre_couverture_continue(derive_zoo, list1, list2)"
   ]
  },
  {
   "cell_type": "code",
   "execution_count": 159,
   "metadata": {
    "ExecuteTime": {
     "end_time": "2019-11-22T20:36:34.548080Z",
     "start_time": "2019-11-22T20:36:34.540136Z"
    }
   },
   "outputs": [
    {
     "data": {
      "text/plain": [
       "-0.09227"
      ]
     },
     "execution_count": 159,
     "metadata": {},
     "output_type": "execute_result"
    }
   ],
   "source": [
    "#couverture contre risque de PENTE (5ans)\n",
    "list1= [r0, a, b, sig, 5, 9.227]\n",
    "list2= [r0, a, b, sig, 5, 100]\n",
    "composition_titre_couverture_continue(derive_pente, list1, list2)"
   ]
  },
  {
   "cell_type": "code",
   "execution_count": 160,
   "metadata": {
    "ExecuteTime": {
     "end_time": "2019-11-22T20:36:36.254252Z",
     "start_time": "2019-11-22T20:36:36.246276Z"
    }
   },
   "outputs": [
    {
     "data": {
      "text/plain": [
       "-0.055132169576059854"
      ]
     },
     "execution_count": 160,
     "metadata": {},
     "output_type": "execute_result"
    }
   ],
   "source": [
    "#couverture contre risque de CONCAVITE (7ans)\n",
    "list1= [r0, a, b, sig, 7, 5.527]\n",
    "list2= [r0, a, b, sig, 7, 100.25]\n",
    "composition_titre_couverture_continue(derive_volatilite, list1, list2)"
   ]
  },
  {
   "cell_type": "markdown",
   "metadata": {},
   "source": [
    "### Remarque\n",
    "\n",
    "Vu que l'on doit dériver par rapport à différente partie du taux, on ne peut pas mettre dans une même équation la couverture du risque __SHIFT__ avec celui de la __CONCAVITE__. C'est pourquoi, on cherche le poids de chaque titre séparement.\n",
    "\n",
    "__Cependant__, les valeurs semblent aberrantes, car les poids sont très faibles. En effet, avec ma méthode, à aucun moment je considère l'interaction des titres de couverture entres eux."
   ]
  }
 ],
 "metadata": {
  "kernelspec": {
   "display_name": "Python 3",
   "language": "python",
   "name": "python3"
  },
  "language_info": {
   "codemirror_mode": {
    "name": "ipython",
    "version": 3
   },
   "file_extension": ".py",
   "mimetype": "text/x-python",
   "name": "python",
   "nbconvert_exporter": "python",
   "pygments_lexer": "ipython3",
   "version": "3.7.4"
  }
 },
 "nbformat": 4,
 "nbformat_minor": 2
}
