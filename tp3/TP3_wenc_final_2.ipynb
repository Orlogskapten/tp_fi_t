{
  "cells": [
    {
      "cell_type": "markdown",
      "source": [
        "# TP 03 - Couvertures d'un portefeuille obligataire\n",
        "---\n",
        "On détient un portefeuille V contenant quatre obligations corporates émises en Euro, de nominal 100. Les obligations versent toute un coupon annuel à une même date.\n",
        "- Compagnie des Alpes, coupon 3.504 euros, maturité 24/10/2027, prix de marché 113\n",
        "- Korian, coupon 3.70, maturité 07/10/2025, prix de marché 110.23\n",
        "- Carrefour,coupon 1, maturité 27/10/2027, prix de marché 102.22\n",
        "- Total, coupon 1.023, maturité 27/10/2027, prix de marché 106.57\n",
        "\n",
        "Les titres sont équipondérés dans le portefeuille.\n",
        "\n",
        "__L’objectif du TP__ est de construire un portefeuille qui permettra de convrir nos titres contre les variations de la courbe des taux. La table data_tp3.csv contient les courbes de taux souverains allemands et français."
      ],
      "metadata": {}
    },
    {
      "cell_type": "code",
      "source": [
        "import pandas as pd\n",
        "import numpy as np\n",
        "import matplotlib as mpl\n",
        "import matplotlib.pyplot as plt\n",
        "import datetime as dt\n",
        "import time\n",
        "import math\n",
        "\n",
        "from scipy.optimize import newton\n",
        "\n",
        "import itertools #pour construire un iterator pour une def de matrice question 4 et 5"
      ],
      "outputs": [],
      "execution_count": 2,
      "metadata": {
        "ExecuteTime": {
          "end_time": "2019-12-24T14:38:22.024825Z",
          "start_time": "2019-12-24T14:38:15.996481Z"
        }
      }
    },
    {
      "cell_type": "code",
      "source": [
        "df= pd.read_csv(\"data_tp3.csv\", sep= ';')\n",
        "df.head()"
      ],
      "outputs": [
        {
          "output_type": "execute_result",
          "execution_count": 3,
          "data": {
            "text/html": [
              "<div>\n",
              "<style scoped>\n",
              "    .dataframe tbody tr th:only-of-type {\n",
              "        vertical-align: middle;\n",
              "    }\n",
              "\n",
              "    .dataframe tbody tr th {\n",
              "        vertical-align: top;\n",
              "    }\n",
              "\n",
              "    .dataframe thead th {\n",
              "        text-align: right;\n",
              "    }\n",
              "</style>\n",
              "<table border=\"1\" class=\"dataframe\">\n",
              "  <thead>\n",
              "    <tr style=\"text-align: right;\">\n",
              "      <th></th>\n",
              "      <th>Maturity</th>\n",
              "      <th>rates</th>\n",
              "      <th>underlying</th>\n",
              "      <th>country</th>\n",
              "      <th>coupon</th>\n",
              "    </tr>\n",
              "  </thead>\n",
              "  <tbody>\n",
              "    <tr>\n",
              "      <th>0</th>\n",
              "      <td>0.083333</td>\n",
              "      <td>-0.00597</td>\n",
              "      <td>AZ066741 Corp</td>\n",
              "      <td>Germany</td>\n",
              "      <td>0.0</td>\n",
              "    </tr>\n",
              "    <tr>\n",
              "      <th>1</th>\n",
              "      <td>0.250000</td>\n",
              "      <td>-0.00633</td>\n",
              "      <td>AZ923444 Corp</td>\n",
              "      <td>Germany</td>\n",
              "      <td>0.0</td>\n",
              "    </tr>\n",
              "    <tr>\n",
              "      <th>2</th>\n",
              "      <td>0.500000</td>\n",
              "      <td>-0.00617</td>\n",
              "      <td>ZR961307 Corp</td>\n",
              "      <td>Germany</td>\n",
              "      <td>0.0</td>\n",
              "    </tr>\n",
              "    <tr>\n",
              "      <th>3</th>\n",
              "      <td>1.000000</td>\n",
              "      <td>-0.00645</td>\n",
              "      <td>AU025425 Corp</td>\n",
              "      <td>Germany</td>\n",
              "      <td>0.0</td>\n",
              "    </tr>\n",
              "    <tr>\n",
              "      <th>4</th>\n",
              "      <td>2.000000</td>\n",
              "      <td>-0.00661</td>\n",
              "      <td>ZR204844 Corp</td>\n",
              "      <td>Germany</td>\n",
              "      <td>0.0</td>\n",
              "    </tr>\n",
              "  </tbody>\n",
              "</table>\n",
              "</div>"
            ],
            "text/plain": [
              "   Maturity    rates     underlying  country  coupon\n",
              "0  0.083333 -0.00597  AZ066741 Corp  Germany     0.0\n",
              "1  0.250000 -0.00633  AZ923444 Corp  Germany     0.0\n",
              "2  0.500000 -0.00617  ZR961307 Corp  Germany     0.0\n",
              "3  1.000000 -0.00645  AU025425 Corp  Germany     0.0\n",
              "4  2.000000 -0.00661  ZR204844 Corp  Germany     0.0"
            ]
          },
          "metadata": {}
        }
      ],
      "execution_count": 3,
      "metadata": {
        "ExecuteTime": {
          "end_time": "2019-12-24T14:38:22.163456Z",
          "start_time": "2019-12-24T14:38:22.029861Z"
        },
        "scrolled": false
      }
    },
    {
      "cell_type": "markdown",
      "source": [
        "## Partie 1"
      ],
      "metadata": {}
    },
    {
      "cell_type": "markdown",
      "source": [
        "### 1)\n",
        "*Représentez, sur un même graphique les courbes zéro-coupons françaises et allemandes. Comment expliquez-vous les différences obtenues ?*"
      ],
      "metadata": {}
    },
    {
      "cell_type": "code",
      "source": [
        "germany_data= df[df[\"country\"] == \"Germany\"]\n",
        "french_data= df[df[\"country\"] != \"Germany\"]\n",
        "\n",
        "mpl.style.use('seaborn')\n",
        "fig, ax= plt.subplots(figsize= (9, 6))\n",
        "plt.grid(b= True)\n",
        "\n",
        "ax.plot(germany_data[\"Maturity\"]\n",
        "            ,germany_data[\"rates\"]\n",
        "            , marker= '.'\n",
        "            , markerfacecolor= 'black'\n",
        "            , markersize= 9\n",
        "            , c= 'blue'\n",
        "            , label= \"Courbe des Taux Allemande\")\n",
        "\n",
        "ax.plot(french_data[\"Maturity\"]\n",
        "            ,french_data[\"rates\"]\n",
        "            , marker= '.'\n",
        "            , markerfacecolor= 'black'\n",
        "            , markersize= 9\n",
        "            , c= 'orangered'\n",
        "            , label= \"Courbe des Taux Française\")\n",
        "\n",
        "ax.set_ylabel(\"Taux\", rotation= 0, fontsize= 12)\n",
        "ax.set_xlabel(\"Maturite\", fontsize= 12)\n",
        "ax.set_title(\"Courbe des taux pour les obligations \", fontsize= 18)\n",
        "ax.legend()\n",
        "\n",
        "plt.show()\n",
        "\n",
        "#explication courbe des taux !!!!!!!!!"
      ],
      "outputs": [
        {
          "output_type": "display_data",
          "data": {
            "image/png": "[encoded data removed]",
            "text/plain": [
              "<Figure size 648x432 with 1 Axes>"
            ]
          },
          "metadata": {}
        }
      ],
      "execution_count": 4,
      "metadata": {
        "ExecuteTime": {
          "end_time": "2019-12-24T14:38:22.746893Z",
          "start_time": "2019-12-24T14:38:22.168442Z"
        },
        "scrolled": false
      }
    },
    {
      "cell_type": "markdown",
      "source": [
        "On peut voir que :\n",
        "\n",
        "- La courbe des taux zéro coupons française est plus élevée que la courbe allemande (à l'exception des premières maturités), ce qui souligne le fait que les investisseurs ont moins confiance en les titres souverains allemands qu'en les titres français. En effet, l'obligation souveraine allemande est souvent utilisée en tant qu'actif sans risque sur le marché. Ainsi, le coût du financement pour la France est généralement supérieur à celui de l'Allemagne.\n",
        "- De manière générale, les courbes zéro coupons sont croissantes, ce qui souligne que les investisseurs ont moins confiance en l'avenir lointain que proche.\n",
        "- De manière locale, entre les maturités 0 à 5ans, la courbe des taux est décroissante : on parle d'inversement de la courbe des taux. Cela représente le fait que les investisseurs ont moins confiance à très court terme en l'avenir des pays évoqués. Ceci doit être dû à la conjoncture actuelle intégrant les éléments suivants :\n",
        " - Brexit\n",
        " - Tension US-Chine\n",
        " - Spectre de la déflation (faible inflation)\n",
        " - Politiques monétaires \"mondiales\" expansionnistes\n",
        "- La maturité maximale pour les titres français est plus élevée que pour l'Allemagne. Cela est peut-être dû à la selection des données, il n'y a sûrement pas d'interprétation concrète."
      ],
      "metadata": {}
    },
    {
      "cell_type": "markdown",
      "source": [
        "### 2)\n",
        "*Construire une dataframe contenant les flux de paiements reçus par échéances. Calculez le yield to maturity de chacune des positions, puis celle du portefeuille. Calculez ensuite sa duration (en fonction du yield to maturity).*"
      ],
      "metadata": {}
    },
    {
      "cell_type": "code",
      "source": [
        "securities= pd.DataFrame({\n",
        "    \"Titre\": [\"Compagnie des Alpes\", \"Korian\", \"Carrefour\", \"Total\"],\n",
        "    \"Coupon\": [0.03504, 0.037, 0.01, 0.01023],\n",
        "    \"Prix\": [113, 110.23, 102.22, 106.57],\n",
        "    \"Maturite\": pd.to_datetime([\"24/10/2027\", \"07/10/2025\", \"27/10/2027\", \"27/10/2027\"],\n",
        "                              format= '%d/%m/%Y')\n",
        "})\n",
        "\n",
        "date_aujourdhui= dt.datetime.strptime(\"25/10/2019\", '%d/%m/%Y')\n",
        "securities[\"Maturite\"]= securities[\"Maturite\"].apply(lambda x: (x.year - date_aujourdhui.year))\n",
        "\n",
        "securities"
      ],
      "outputs": [
        {
          "output_type": "execute_result",
          "execution_count": 5,
          "data": {
            "text/html": [
              "<div>\n",
              "<style scoped>\n",
              "    .dataframe tbody tr th:only-of-type {\n",
              "        vertical-align: middle;\n",
              "    }\n",
              "\n",
              "    .dataframe tbody tr th {\n",
              "        vertical-align: top;\n",
              "    }\n",
              "\n",
              "    .dataframe thead th {\n",
              "        text-align: right;\n",
              "    }\n",
              "</style>\n",
              "<table border=\"1\" class=\"dataframe\">\n",
              "  <thead>\n",
              "    <tr style=\"text-align: right;\">\n",
              "      <th></th>\n",
              "      <th>Titre</th>\n",
              "      <th>Coupon</th>\n",
              "      <th>Prix</th>\n",
              "      <th>Maturite</th>\n",
              "    </tr>\n",
              "  </thead>\n",
              "  <tbody>\n",
              "    <tr>\n",
              "      <th>0</th>\n",
              "      <td>Compagnie des Alpes</td>\n",
              "      <td>0.03504</td>\n",
              "      <td>113.00</td>\n",
              "      <td>8</td>\n",
              "    </tr>\n",
              "    <tr>\n",
              "      <th>1</th>\n",
              "      <td>Korian</td>\n",
              "      <td>0.03700</td>\n",
              "      <td>110.23</td>\n",
              "      <td>6</td>\n",
              "    </tr>\n",
              "    <tr>\n",
              "      <th>2</th>\n",
              "      <td>Carrefour</td>\n",
              "      <td>0.01000</td>\n",
              "      <td>102.22</td>\n",
              "      <td>8</td>\n",
              "    </tr>\n",
              "    <tr>\n",
              "      <th>3</th>\n",
              "      <td>Total</td>\n",
              "      <td>0.01023</td>\n",
              "      <td>106.57</td>\n",
              "      <td>8</td>\n",
              "    </tr>\n",
              "  </tbody>\n",
              "</table>\n",
              "</div>"
            ],
            "text/plain": [
              "                 Titre   Coupon    Prix  Maturite\n",
              "0  Compagnie des Alpes  0.03504  113.00         8\n",
              "1               Korian  0.03700  110.23         6\n",
              "2            Carrefour  0.01000  102.22         8\n",
              "3                Total  0.01023  106.57         8"
            ]
          },
          "metadata": {}
        }
      ],
      "execution_count": 5,
      "metadata": {
        "ExecuteTime": {
          "end_time": "2019-12-24T14:38:22.783795Z",
          "start_time": "2019-12-24T14:38:22.750925Z"
        }
      }
    },
    {
      "cell_type": "code",
      "source": [
        "# Construction du portefeuille CASH FLOW\n",
        "portefeuille_cashflow= pd.DataFrame({\n",
        "    \"Maturite\": [i for i in range(1, np.max(securities[\"Maturite\"].values) + 1)],\n",
        "    \"cash_flow\": np.zeros(np.max(securities[\"Maturite\"].values))\n",
        "})\n",
        "for i, val in securities.iterrows():\n",
        "    for mat in range(val[\"Maturite\"]):\n",
        "        if mat != val[\"Maturite\"] - 1:\n",
        "            portefeuille_cashflow[\"cash_flow\"][mat] += val[\"Coupon\"]*100\n",
        "        else:\n",
        "            portefeuille_cashflow[\"cash_flow\"][mat] += 100 + val[\"Coupon\"]*100\n",
        "portefeuille_cashflow\n",
        "\n",
        "# Ce que nous a coûté la construction de ce portefeuille, c'est la somme des prix de nos actifs\n",
        "prix_portefeuille= securities[\"Prix\"].sum()\n",
        "print(prix_portefeuille)\n",
        "portefeuille_cashflow"
      ],
      "outputs": [
        {
          "output_type": "stream",
          "name": "stderr",
          "text": [
            "C:\\Users\\Wenceslas\\Anaconda3\\envs\\cours\\lib\\site-packages\\ipykernel_launcher.py:9: SettingWithCopyWarning: \n",
            "A value is trying to be set on a copy of a slice from a DataFrame\n",
            "\n",
            "See the caveats in the documentation: http://pandas.pydata.org/pandas-docs/stable/indexing.html#indexing-view-versus-copy\n",
            "  if __name__ == '__main__':\n",
            "C:\\Users\\Wenceslas\\Anaconda3\\envs\\cours\\lib\\site-packages\\ipykernel_launcher.py:11: SettingWithCopyWarning: \n",
            "A value is trying to be set on a copy of a slice from a DataFrame\n",
            "\n",
            "See the caveats in the documentation: http://pandas.pydata.org/pandas-docs/stable/indexing.html#indexing-view-versus-copy\n",
            "  # This is added back by InteractiveShellApp.init_path()\n"
          ]
        },
        {
          "output_type": "stream",
          "name": "stdout",
          "text": [
            "432.02000000000004\n"
          ]
        },
        {
          "output_type": "execute_result",
          "execution_count": 6,
          "data": {
            "text/html": [
              "<div>\n",
              "<style scoped>\n",
              "    .dataframe tbody tr th:only-of-type {\n",
              "        vertical-align: middle;\n",
              "    }\n",
              "\n",
              "    .dataframe tbody tr th {\n",
              "        vertical-align: top;\n",
              "    }\n",
              "\n",
              "    .dataframe thead th {\n",
              "        text-align: right;\n",
              "    }\n",
              "</style>\n",
              "<table border=\"1\" class=\"dataframe\">\n",
              "  <thead>\n",
              "    <tr style=\"text-align: right;\">\n",
              "      <th></th>\n",
              "      <th>Maturite</th>\n",
              "      <th>cash_flow</th>\n",
              "    </tr>\n",
              "  </thead>\n",
              "  <tbody>\n",
              "    <tr>\n",
              "      <th>0</th>\n",
              "      <td>1</td>\n",
              "      <td>9.227</td>\n",
              "    </tr>\n",
              "    <tr>\n",
              "      <th>1</th>\n",
              "      <td>2</td>\n",
              "      <td>9.227</td>\n",
              "    </tr>\n",
              "    <tr>\n",
              "      <th>2</th>\n",
              "      <td>3</td>\n",
              "      <td>9.227</td>\n",
              "    </tr>\n",
              "    <tr>\n",
              "      <th>3</th>\n",
              "      <td>4</td>\n",
              "      <td>9.227</td>\n",
              "    </tr>\n",
              "    <tr>\n",
              "      <th>4</th>\n",
              "      <td>5</td>\n",
              "      <td>9.227</td>\n",
              "    </tr>\n",
              "    <tr>\n",
              "      <th>5</th>\n",
              "      <td>6</td>\n",
              "      <td>109.227</td>\n",
              "    </tr>\n",
              "    <tr>\n",
              "      <th>6</th>\n",
              "      <td>7</td>\n",
              "      <td>5.527</td>\n",
              "    </tr>\n",
              "    <tr>\n",
              "      <th>7</th>\n",
              "      <td>8</td>\n",
              "      <td>305.527</td>\n",
              "    </tr>\n",
              "  </tbody>\n",
              "</table>\n",
              "</div>"
            ],
            "text/plain": [
              "   Maturite  cash_flow\n",
              "0         1      9.227\n",
              "1         2      9.227\n",
              "2         3      9.227\n",
              "3         4      9.227\n",
              "4         5      9.227\n",
              "5         6    109.227\n",
              "6         7      5.527\n",
              "7         8    305.527"
            ]
          },
          "metadata": {}
        }
      ],
      "execution_count": 6,
      "metadata": {
        "ExecuteTime": {
          "end_time": "2019-12-24T14:38:23.997550Z",
          "start_time": "2019-12-24T14:38:22.788782Z"
        }
      }
    },
    {
      "cell_type": "markdown",
      "source": [
        "#### Calcul du yield du portefeuille"
      ],
      "metadata": {}
    },
    {
      "cell_type": "code",
      "source": [
        "# Yield to maturity fonction pour le portefeuille cash flow\n",
        "def f_cashflow(x, df, p, n=100):\n",
        "    somme= 0\n",
        "    \n",
        "    for i in portefeuille_cashflow.index:\n",
        "        C= portefeuille_cashflow.loc[i, \"cash_flow\"]\n",
        "        somme += C*pow(x, i)\n",
        "    return p - somme \n",
        "\n",
        "\n",
        "def fprime_cashflow(x, df, p, n=100):\n",
        "    somme= 0\n",
        "    \n",
        "    for i in portefeuille_cashflow.index:\n",
        "        C= portefeuille_cashflow.loc[i, \"cash_flow\"]\n",
        "        somme += i*C*pow(x, i-1)\n",
        "    return - somme\n",
        "\n",
        "def yield_to_mat_cash_flow(f, x0, fprime, args):\n",
        "    new= newton(func= f,x0=x0, fprime=fprime, args= args)\n",
        "    return (1/new) - 1"
      ],
      "outputs": [],
      "execution_count": 7,
      "metadata": {
        "ExecuteTime": {
          "end_time": "2019-12-24T14:38:24.030557Z",
          "start_time": "2019-12-24T14:38:24.005649Z"
        }
      }
    },
    {
      "cell_type": "code",
      "source": [
        "portefeuille_y= yield_to_mat_cash_flow(f_cashflow, 1, fprime_cashflow, \\\n",
        "                                       (portefeuille_cashflow, prix_portefeuille))\n",
        "\n",
        "portefeuille_y"
      ],
      "outputs": [
        {
          "output_type": "execute_result",
          "execution_count": 8,
          "data": {
            "text/plain": [
              "0.012832386354566516"
            ]
          },
          "metadata": {}
        }
      ],
      "execution_count": 8,
      "metadata": {
        "ExecuteTime": {
          "end_time": "2019-12-24T14:38:24.061417Z",
          "start_time": "2019-12-24T14:38:24.035622Z"
        }
      }
    },
    {
      "cell_type": "markdown",
      "source": [
        "#### Calcul du yield pour les positions du portefeuille"
      ],
      "metadata": {}
    },
    {
      "cell_type": "code",
      "source": [
        "from scipy.optimize import newton\n",
        "def yield_to_maturity(P,c,T,N):\n",
        "    \"\"\"\n",
        "    Renvoie le yield to maturity d'une obligation. Paramètres :\n",
        "        - P : le prix de l'obligation\n",
        "        - c : le taux de coupon de l'obligation\n",
        "        - T : la maturité de l'obligation\n",
        "        - N : le nominal de l'obligation\n",
        "    \"\"\"\n",
        "    def f(x,P,c,T,N):\n",
        "        \"\"\"\n",
        "        Approxime la fonction de cash flows. Paramètres :\n",
        "            - x : la variable permettant l'optimisation par Newton\n",
        "            - P : le prix de l'obligation\n",
        "            - c : le taux de coupon de l'obligation\n",
        "            - T : la maturité de l'obligation\n",
        "            - N : le nominal de l'obligation\n",
        "        \"\"\"\n",
        "        result = P\n",
        "        for i in range(1,int(T)):\n",
        "            result -= c*N*(x**i)\n",
        "        result -= N*(1+c)*(x**T)\n",
        "        return result\n",
        "    \n",
        "    def fprime(x,P,c,T,N):\n",
        "        \"\"\"\n",
        "        Dérivée de l'approximation de la fonction de cash flows. Paramètres :\n",
        "            - x : la variable permettant l'optimisation par Newton\n",
        "            - P : le prix de l'obligation\n",
        "            - c : le taux de coupon de l'obligation\n",
        "            - T : la maturité de l'obligation\n",
        "            - N : le nominal de l'obligation\n",
        "        \"\"\"\n",
        "        result = 0\n",
        "        for i in range(1,int(T)):\n",
        "            result -= i*c*N*(x**(i-1))\n",
        "        result -= T*N*(1+c)*(x**(T-1))\n",
        "        return result\n",
        "    \n",
        "    x = newton(func=f,\n",
        "           x0=1.1, # puisque y est de l'ordre 0.01 et que x = 1/(1+y) 1.1 semble etre un ordre de grandeur raisonable\n",
        "           fprime=fprime,\n",
        "           args=(P,c,T,N)\n",
        "        )\n",
        "    y = 1/x - 1\n",
        "    return y"
      ],
      "outputs": [],
      "execution_count": 9,
      "metadata": {
        "ExecuteTime": {
          "end_time": "2019-12-24T14:38:24.094302Z",
          "start_time": "2019-12-24T14:38:24.073345Z"
        }
      }
    },
    {
      "cell_type": "code",
      "source": [
        "securities[\"Yield\"]= securities.apply(lambda row: yield_to_maturity(row[2], row[1], row[3], 100), axis=1)"
      ],
      "outputs": [],
      "execution_count": 10,
      "metadata": {
        "ExecuteTime": {
          "end_time": "2019-12-24T14:38:24.129194Z",
          "start_time": "2019-12-24T14:38:24.105261Z"
        }
      }
    },
    {
      "cell_type": "code",
      "source": [
        "# Yield to maturity de toutes nos positions\n",
        "securities"
      ],
      "outputs": [
        {
          "output_type": "execute_result",
          "execution_count": 11,
          "data": {
            "text/html": [
              "<div>\n",
              "<style scoped>\n",
              "    .dataframe tbody tr th:only-of-type {\n",
              "        vertical-align: middle;\n",
              "    }\n",
              "\n",
              "    .dataframe tbody tr th {\n",
              "        vertical-align: top;\n",
              "    }\n",
              "\n",
              "    .dataframe thead th {\n",
              "        text-align: right;\n",
              "    }\n",
              "</style>\n",
              "<table border=\"1\" class=\"dataframe\">\n",
              "  <thead>\n",
              "    <tr style=\"text-align: right;\">\n",
              "      <th></th>\n",
              "      <th>Titre</th>\n",
              "      <th>Coupon</th>\n",
              "      <th>Prix</th>\n",
              "      <th>Maturite</th>\n",
              "      <th>Yield</th>\n",
              "    </tr>\n",
              "  </thead>\n",
              "  <tbody>\n",
              "    <tr>\n",
              "      <th>0</th>\n",
              "      <td>Compagnie des Alpes</td>\n",
              "      <td>0.03504</td>\n",
              "      <td>113.00</td>\n",
              "      <td>8</td>\n",
              "      <td>0.017486</td>\n",
              "    </tr>\n",
              "    <tr>\n",
              "      <th>1</th>\n",
              "      <td>Korian</td>\n",
              "      <td>0.03700</td>\n",
              "      <td>110.23</td>\n",
              "      <td>6</td>\n",
              "      <td>0.018810</td>\n",
              "    </tr>\n",
              "    <tr>\n",
              "      <th>2</th>\n",
              "      <td>Carrefour</td>\n",
              "      <td>0.01000</td>\n",
              "      <td>102.22</td>\n",
              "      <td>8</td>\n",
              "      <td>0.007135</td>\n",
              "    </tr>\n",
              "    <tr>\n",
              "      <th>3</th>\n",
              "      <td>Total</td>\n",
              "      <td>0.01023</td>\n",
              "      <td>106.57</td>\n",
              "      <td>8</td>\n",
              "      <td>0.001945</td>\n",
              "    </tr>\n",
              "  </tbody>\n",
              "</table>\n",
              "</div>"
            ],
            "text/plain": [
              "                 Titre   Coupon    Prix  Maturite     Yield\n",
              "0  Compagnie des Alpes  0.03504  113.00         8  0.017486\n",
              "1               Korian  0.03700  110.23         6  0.018810\n",
              "2            Carrefour  0.01000  102.22         8  0.007135\n",
              "3                Total  0.01023  106.57         8  0.001945"
            ]
          },
          "metadata": {}
        }
      ],
      "execution_count": 11,
      "metadata": {
        "ExecuteTime": {
          "end_time": "2019-12-24T14:38:24.156123Z",
          "start_time": "2019-12-24T14:38:24.133350Z"
        }
      }
    },
    {
      "cell_type": "code",
      "source": [
        "portefeuille_cashflow"
      ],
      "outputs": [
        {
          "output_type": "execute_result",
          "execution_count": 12,
          "data": {
            "text/html": [
              "<div>\n",
              "<style scoped>\n",
              "    .dataframe tbody tr th:only-of-type {\n",
              "        vertical-align: middle;\n",
              "    }\n",
              "\n",
              "    .dataframe tbody tr th {\n",
              "        vertical-align: top;\n",
              "    }\n",
              "\n",
              "    .dataframe thead th {\n",
              "        text-align: right;\n",
              "    }\n",
              "</style>\n",
              "<table border=\"1\" class=\"dataframe\">\n",
              "  <thead>\n",
              "    <tr style=\"text-align: right;\">\n",
              "      <th></th>\n",
              "      <th>Maturite</th>\n",
              "      <th>cash_flow</th>\n",
              "    </tr>\n",
              "  </thead>\n",
              "  <tbody>\n",
              "    <tr>\n",
              "      <th>0</th>\n",
              "      <td>1</td>\n",
              "      <td>9.227</td>\n",
              "    </tr>\n",
              "    <tr>\n",
              "      <th>1</th>\n",
              "      <td>2</td>\n",
              "      <td>9.227</td>\n",
              "    </tr>\n",
              "    <tr>\n",
              "      <th>2</th>\n",
              "      <td>3</td>\n",
              "      <td>9.227</td>\n",
              "    </tr>\n",
              "    <tr>\n",
              "      <th>3</th>\n",
              "      <td>4</td>\n",
              "      <td>9.227</td>\n",
              "    </tr>\n",
              "    <tr>\n",
              "      <th>4</th>\n",
              "      <td>5</td>\n",
              "      <td>9.227</td>\n",
              "    </tr>\n",
              "    <tr>\n",
              "      <th>5</th>\n",
              "      <td>6</td>\n",
              "      <td>109.227</td>\n",
              "    </tr>\n",
              "    <tr>\n",
              "      <th>6</th>\n",
              "      <td>7</td>\n",
              "      <td>5.527</td>\n",
              "    </tr>\n",
              "    <tr>\n",
              "      <th>7</th>\n",
              "      <td>8</td>\n",
              "      <td>305.527</td>\n",
              "    </tr>\n",
              "  </tbody>\n",
              "</table>\n",
              "</div>"
            ],
            "text/plain": [
              "   Maturite  cash_flow\n",
              "0         1      9.227\n",
              "1         2      9.227\n",
              "2         3      9.227\n",
              "3         4      9.227\n",
              "4         5      9.227\n",
              "5         6    109.227\n",
              "6         7      5.527\n",
              "7         8    305.527"
            ]
          },
          "metadata": {}
        }
      ],
      "execution_count": 12,
      "metadata": {
        "ExecuteTime": {
          "end_time": "2019-12-24T14:38:24.184641Z",
          "start_time": "2019-12-24T14:38:24.161320Z"
        }
      }
    },
    {
      "cell_type": "markdown",
      "source": [
        "#### Calcul de la duration du portefeuille"
      ],
      "metadata": {}
    },
    {
      "cell_type": "code",
      "source": [
        "def duration(df, y, n=100):\n",
        "    somme= 0\n",
        "    for i in portefeuille_cashflow.index:\n",
        "        C= portefeuille_cashflow.loc[i, \"cash_flow\"]\n",
        "        m= portefeuille_cashflow.loc[i, \"Maturite\"]\n",
        "        somme -= m*C/pow(1+y, m+1)\n",
        "    return somme#somme -(m*(n+C))/pow(1+y, (m+1))\n",
        "\n",
        "print(duration(portefeuille_cashflow, portefeuille_y))\n",
        "print(\"\\nMC:\")\n",
        "print(duration(portefeuille_cashflow, portefeuille_y)/prix_portefeuille)"
      ],
      "outputs": [
        {
          "output_type": "stream",
          "name": "stdout",
          "text": [
            "-2943.986751988242\n",
            "\n",
            "MC:\n",
            "-6.814468663460584\n"
          ]
        }
      ],
      "execution_count": 13,
      "metadata": {
        "ExecuteTime": {
          "end_time": "2019-12-24T14:38:24.198230Z",
          "start_time": "2019-12-24T14:38:24.189034Z"
        }
      }
    },
    {
      "cell_type": "markdown",
      "source": [
        "### 3)\n",
        "*On appelle $D_i$ l’exposition du portefeuille à un mouvement du taux zéro-coupon i. L’exposition du portefeuille à l’ensemble des taux est $D =\\sum_i D_i$ avec $D_i=\\frac{\\partial V_i}{\\partial z_i}$ et $V_i=\\frac{CF_i}{(1+z_i)^i}$*\n",
        "\n",
        "*Calculez D pour les taux zéro-coupons allemands puis français. Comment expliquer la différence obtenue ? Pour les deux courbes de taux, à quelle maturité la duration est-elle la plus forte ? Pourquoi ?*"
      ],
      "metadata": {}
    },
    {
      "cell_type": "markdown",
      "source": [
        "$V_i=\\frac{CF_i}{(1+z_i)^i}=CF_i(1+z_i)^{-i}$\n",
        "\n",
        "$D_i=\\frac{\\partial V_i}{\\partial z_i} = -iCF_i(1+z_i)^{-(i+1)} = \\frac{-iCF_i}{(1+z_i)^{i+1}}$"
      ],
      "metadata": {}
    },
    {
      "cell_type": "code",
      "source": [
        "germany_data"
      ],
      "outputs": [
        {
          "output_type": "execute_result",
          "execution_count": 14,
          "data": {
            "text/html": [
              "<div>\n",
              "<style scoped>\n",
              "    .dataframe tbody tr th:only-of-type {\n",
              "        vertical-align: middle;\n",
              "    }\n",
              "\n",
              "    .dataframe tbody tr th {\n",
              "        vertical-align: top;\n",
              "    }\n",
              "\n",
              "    .dataframe thead th {\n",
              "        text-align: right;\n",
              "    }\n",
              "</style>\n",
              "<table border=\"1\" class=\"dataframe\">\n",
              "  <thead>\n",
              "    <tr style=\"text-align: right;\">\n",
              "      <th></th>\n",
              "      <th>Maturity</th>\n",
              "      <th>rates</th>\n",
              "      <th>underlying</th>\n",
              "      <th>country</th>\n",
              "      <th>coupon</th>\n",
              "    </tr>\n",
              "  </thead>\n",
              "  <tbody>\n",
              "    <tr>\n",
              "      <th>0</th>\n",
              "      <td>0.083333</td>\n",
              "      <td>-0.00597</td>\n",
              "      <td>AZ066741 Corp</td>\n",
              "      <td>Germany</td>\n",
              "      <td>0.00</td>\n",
              "    </tr>\n",
              "    <tr>\n",
              "      <th>1</th>\n",
              "      <td>0.250000</td>\n",
              "      <td>-0.00633</td>\n",
              "      <td>AZ923444 Corp</td>\n",
              "      <td>Germany</td>\n",
              "      <td>0.00</td>\n",
              "    </tr>\n",
              "    <tr>\n",
              "      <th>2</th>\n",
              "      <td>0.500000</td>\n",
              "      <td>-0.00617</td>\n",
              "      <td>ZR961307 Corp</td>\n",
              "      <td>Germany</td>\n",
              "      <td>0.00</td>\n",
              "    </tr>\n",
              "    <tr>\n",
              "      <th>3</th>\n",
              "      <td>1.000000</td>\n",
              "      <td>-0.00645</td>\n",
              "      <td>AU025425 Corp</td>\n",
              "      <td>Germany</td>\n",
              "      <td>0.00</td>\n",
              "    </tr>\n",
              "    <tr>\n",
              "      <th>4</th>\n",
              "      <td>2.000000</td>\n",
              "      <td>-0.00661</td>\n",
              "      <td>ZR204844 Corp</td>\n",
              "      <td>Germany</td>\n",
              "      <td>0.00</td>\n",
              "    </tr>\n",
              "    <tr>\n",
              "      <th>5</th>\n",
              "      <td>3.000000</td>\n",
              "      <td>-0.00691</td>\n",
              "      <td>AO131132 Corp</td>\n",
              "      <td>Germany</td>\n",
              "      <td>0.00</td>\n",
              "    </tr>\n",
              "    <tr>\n",
              "      <th>6</th>\n",
              "      <td>4.000000</td>\n",
              "      <td>-0.00668</td>\n",
              "      <td>AT634023 Corp</td>\n",
              "      <td>Germany</td>\n",
              "      <td>0.00</td>\n",
              "    </tr>\n",
              "    <tr>\n",
              "      <th>7</th>\n",
              "      <td>5.000000</td>\n",
              "      <td>-0.00611</td>\n",
              "      <td>AZ321298 Corp</td>\n",
              "      <td>Germany</td>\n",
              "      <td>0.00</td>\n",
              "    </tr>\n",
              "    <tr>\n",
              "      <th>8</th>\n",
              "      <td>6.000000</td>\n",
              "      <td>-0.00596</td>\n",
              "      <td>AF205634 Corp</td>\n",
              "      <td>Germany</td>\n",
              "      <td>1.00</td>\n",
              "    </tr>\n",
              "    <tr>\n",
              "      <th>9</th>\n",
              "      <td>7.000000</td>\n",
              "      <td>-0.00556</td>\n",
              "      <td>LW743065 Corp</td>\n",
              "      <td>Germany</td>\n",
              "      <td>0.00</td>\n",
              "    </tr>\n",
              "    <tr>\n",
              "      <th>10</th>\n",
              "      <td>8.000000</td>\n",
              "      <td>-0.00510</td>\n",
              "      <td>AO223542 Corp</td>\n",
              "      <td>Germany</td>\n",
              "      <td>0.50</td>\n",
              "    </tr>\n",
              "    <tr>\n",
              "      <th>11</th>\n",
              "      <td>9.000000</td>\n",
              "      <td>-0.00442</td>\n",
              "      <td>AT428688 Corp</td>\n",
              "      <td>Germany</td>\n",
              "      <td>0.25</td>\n",
              "    </tr>\n",
              "    <tr>\n",
              "      <th>12</th>\n",
              "      <td>10.000000</td>\n",
              "      <td>-0.00373</td>\n",
              "      <td>AZ461235 Corp</td>\n",
              "      <td>Germany</td>\n",
              "      <td>0.00</td>\n",
              "    </tr>\n",
              "    <tr>\n",
              "      <th>13</th>\n",
              "      <td>15.000000</td>\n",
              "      <td>-0.00236</td>\n",
              "      <td>EC830062 Corp</td>\n",
              "      <td>Germany</td>\n",
              "      <td>4.75</td>\n",
              "    </tr>\n",
              "    <tr>\n",
              "      <th>14</th>\n",
              "      <td>20.000000</td>\n",
              "      <td>-0.00084</td>\n",
              "      <td>EG120904 Corp</td>\n",
              "      <td>Germany</td>\n",
              "      <td>4.25</td>\n",
              "    </tr>\n",
              "    <tr>\n",
              "      <th>15</th>\n",
              "      <td>25.000000</td>\n",
              "      <td>0.00044</td>\n",
              "      <td>EJ135811 Corp</td>\n",
              "      <td>Germany</td>\n",
              "      <td>2.50</td>\n",
              "    </tr>\n",
              "    <tr>\n",
              "      <th>16</th>\n",
              "      <td>30.000000</td>\n",
              "      <td>0.00146</td>\n",
              "      <td>ZR097974 Corp</td>\n",
              "      <td>Germany</td>\n",
              "      <td>0.00</td>\n",
              "    </tr>\n",
              "  </tbody>\n",
              "</table>\n",
              "</div>"
            ],
            "text/plain": [
              "     Maturity    rates     underlying  country  coupon\n",
              "0    0.083333 -0.00597  AZ066741 Corp  Germany    0.00\n",
              "1    0.250000 -0.00633  AZ923444 Corp  Germany    0.00\n",
              "2    0.500000 -0.00617  ZR961307 Corp  Germany    0.00\n",
              "3    1.000000 -0.00645  AU025425 Corp  Germany    0.00\n",
              "4    2.000000 -0.00661  ZR204844 Corp  Germany    0.00\n",
              "5    3.000000 -0.00691  AO131132 Corp  Germany    0.00\n",
              "6    4.000000 -0.00668  AT634023 Corp  Germany    0.00\n",
              "7    5.000000 -0.00611  AZ321298 Corp  Germany    0.00\n",
              "8    6.000000 -0.00596  AF205634 Corp  Germany    1.00\n",
              "9    7.000000 -0.00556  LW743065 Corp  Germany    0.00\n",
              "10   8.000000 -0.00510  AO223542 Corp  Germany    0.50\n",
              "11   9.000000 -0.00442  AT428688 Corp  Germany    0.25\n",
              "12  10.000000 -0.00373  AZ461235 Corp  Germany    0.00\n",
              "13  15.000000 -0.00236  EC830062 Corp  Germany    4.75\n",
              "14  20.000000 -0.00084  EG120904 Corp  Germany    4.25\n",
              "15  25.000000  0.00044  EJ135811 Corp  Germany    2.50\n",
              "16  30.000000  0.00146  ZR097974 Corp  Germany    0.00"
            ]
          },
          "metadata": {}
        }
      ],
      "execution_count": 14,
      "metadata": {
        "ExecuteTime": {
          "end_time": "2019-12-24T14:38:24.224445Z",
          "start_time": "2019-12-24T14:38:24.202044Z"
        },
        "scrolled": false
      }
    },
    {
      "cell_type": "code",
      "source": [
        "def duration_i(y, C, m, n=100):\n",
        "    return -(m*(1))/pow(1+y, (m+1))\n"
      ],
      "outputs": [],
      "execution_count": 15,
      "metadata": {
        "ExecuteTime": {
          "end_time": "2019-12-24T14:38:24.235191Z",
          "start_time": "2019-12-24T14:38:24.226932Z"
        }
      }
    },
    {
      "cell_type": "code",
      "source": [
        "#ici faut répondre à une question, la 3ème\n",
        "french_data[\"Duration_i\"]= french_data.apply(lambda row: duration_i(y=row[1], C=1, m=row[0], n=1)\n",
        "                            , axis= 1)\n",
        "germany_data[\"Duration_i\"]= germany_data.apply(lambda row: duration_i(y=row[1], C=1, m=row[0], n=1)\n",
        "                            , axis= 1)\n",
        "\n",
        "french_data2= french_data[np.logical_and(french_data[\"Maturity\"] <= 8, \\\n",
        "                                        french_data[\"Maturity\"] >= 1)].reset_index(drop= True, inplace= False)\n",
        "germany_data2= germany_data[np.logical_and(germany_data[\"Maturity\"] <= 8, \\\n",
        "                                        germany_data[\"Maturity\"] >= 1)].reset_index(drop= True, inplace= False)\n",
        "\n",
        "#important !!\n",
        "french_data2[\"Duration_i\"]= french_data2[\"Duration_i\"]*portefeuille_cashflow[\"cash_flow\"]\n",
        "germany_data2[\"Duration_i\"]= germany_data2[\"Duration_i\"]*portefeuille_cashflow[\"cash_flow\"]\n",
        "\n",
        "french_data2"
      ],
      "outputs": [
        {
          "output_type": "stream",
          "name": "stderr",
          "text": [
            "C:\\Users\\Wenceslas\\Anaconda3\\envs\\cours\\lib\\site-packages\\ipykernel_launcher.py:3: SettingWithCopyWarning: \n",
            "A value is trying to be set on a copy of a slice from a DataFrame.\n",
            "Try using .loc[row_indexer,col_indexer] = value instead\n",
            "\n",
            "See the caveats in the documentation: http://pandas.pydata.org/pandas-docs/stable/indexing.html#indexing-view-versus-copy\n",
            "  This is separate from the ipykernel package so we can avoid doing imports until\n",
            "C:\\Users\\Wenceslas\\Anaconda3\\envs\\cours\\lib\\site-packages\\ipykernel_launcher.py:5: SettingWithCopyWarning: \n",
            "A value is trying to be set on a copy of a slice from a DataFrame.\n",
            "Try using .loc[row_indexer,col_indexer] = value instead\n",
            "\n",
            "See the caveats in the documentation: http://pandas.pydata.org/pandas-docs/stable/indexing.html#indexing-view-versus-copy\n",
            "  \"\"\"\n"
          ]
        },
        {
          "output_type": "execute_result",
          "execution_count": 16,
          "data": {
            "text/html": [
              "<div>\n",
              "<style scoped>\n",
              "    .dataframe tbody tr th:only-of-type {\n",
              "        vertical-align: middle;\n",
              "    }\n",
              "\n",
              "    .dataframe tbody tr th {\n",
              "        vertical-align: top;\n",
              "    }\n",
              "\n",
              "    .dataframe thead th {\n",
              "        text-align: right;\n",
              "    }\n",
              "</style>\n",
              "<table border=\"1\" class=\"dataframe\">\n",
              "  <thead>\n",
              "    <tr style=\"text-align: right;\">\n",
              "      <th></th>\n",
              "      <th>Maturity</th>\n",
              "      <th>rates</th>\n",
              "      <th>underlying</th>\n",
              "      <th>country</th>\n",
              "      <th>coupon</th>\n",
              "      <th>Duration_i</th>\n",
              "    </tr>\n",
              "  </thead>\n",
              "  <tbody>\n",
              "    <tr>\n",
              "      <th>0</th>\n",
              "      <td>1.0</td>\n",
              "      <td>-0.00632</td>\n",
              "      <td>ZQ078370 Corp</td>\n",
              "      <td>France</td>\n",
              "      <td>0.00</td>\n",
              "      <td>-9.344744</td>\n",
              "    </tr>\n",
              "    <tr>\n",
              "      <th>1</th>\n",
              "      <td>2.0</td>\n",
              "      <td>-0.00620</td>\n",
              "      <td>AW799417 Corp</td>\n",
              "      <td>France</td>\n",
              "      <td>0.00</td>\n",
              "      <td>-18.801545</td>\n",
              "    </tr>\n",
              "    <tr>\n",
              "      <th>2</th>\n",
              "      <td>3.0</td>\n",
              "      <td>-0.00589</td>\n",
              "      <td>AP173983 Corp</td>\n",
              "      <td>France</td>\n",
              "      <td>0.00</td>\n",
              "      <td>-28.342882</td>\n",
              "    </tr>\n",
              "    <tr>\n",
              "      <th>3</th>\n",
              "      <td>4.0</td>\n",
              "      <td>-0.00510</td>\n",
              "      <td>AT122915 Corp</td>\n",
              "      <td>France</td>\n",
              "      <td>0.00</td>\n",
              "      <td>-37.863727</td>\n",
              "    </tr>\n",
              "    <tr>\n",
              "      <th>4</th>\n",
              "      <td>5.0</td>\n",
              "      <td>-0.00412</td>\n",
              "      <td>ZS171522 Corp</td>\n",
              "      <td>France</td>\n",
              "      <td>0.00</td>\n",
              "      <td>-47.292085</td>\n",
              "    </tr>\n",
              "    <tr>\n",
              "      <th>5</th>\n",
              "      <td>6.0</td>\n",
              "      <td>-0.00382</td>\n",
              "      <td>UV715505 Corp</td>\n",
              "      <td>France</td>\n",
              "      <td>1.00</td>\n",
              "      <td>-673.157251</td>\n",
              "    </tr>\n",
              "    <tr>\n",
              "      <th>6</th>\n",
              "      <td>7.0</td>\n",
              "      <td>-0.00312</td>\n",
              "      <td>QZ358353 Corp</td>\n",
              "      <td>France</td>\n",
              "      <td>0.25</td>\n",
              "      <td>-39.668378</td>\n",
              "    </tr>\n",
              "    <tr>\n",
              "      <th>7</th>\n",
              "      <td>8.0</td>\n",
              "      <td>-0.00275</td>\n",
              "      <td>EJ346891 Corp</td>\n",
              "      <td>France</td>\n",
              "      <td>2.75</td>\n",
              "      <td>-2505.550600</td>\n",
              "    </tr>\n",
              "  </tbody>\n",
              "</table>\n",
              "</div>"
            ],
            "text/plain": [
              "   Maturity    rates     underlying country  coupon   Duration_i\n",
              "0       1.0 -0.00632  ZQ078370 Corp  France    0.00    -9.344744\n",
              "1       2.0 -0.00620  AW799417 Corp  France    0.00   -18.801545\n",
              "2       3.0 -0.00589  AP173983 Corp  France    0.00   -28.342882\n",
              "3       4.0 -0.00510  AT122915 Corp  France    0.00   -37.863727\n",
              "4       5.0 -0.00412  ZS171522 Corp  France    0.00   -47.292085\n",
              "5       6.0 -0.00382  UV715505 Corp  France    1.00  -673.157251\n",
              "6       7.0 -0.00312  QZ358353 Corp  France    0.25   -39.668378\n",
              "7       8.0 -0.00275  EJ346891 Corp  France    2.75 -2505.550600"
            ]
          },
          "metadata": {}
        }
      ],
      "execution_count": 16,
      "metadata": {
        "ExecuteTime": {
          "end_time": "2019-12-24T14:38:24.411443Z",
          "start_time": "2019-12-24T14:38:24.238900Z"
        },
        "scrolled": false
      }
    },
    {
      "cell_type": "markdown",
      "source": [
        "## Remarque\n",
        "\n",
        "Ici, la colonne `Duration_i` du dataframe `french_data2` représente la duration pour notre portefeuille ! On a bien utilisé les cashflows de notre portefeuille ! Si nous l'avons mis dans ce dataframe, c'est uniquement pour un cas de praticité."
      ],
      "metadata": {}
    },
    {
      "cell_type": "code",
      "source": [
        "# On print la somme des durations\n",
        "print(germany_data2[\"Duration_i\"].sum())\n",
        "print(french_data2[\"Duration_i\"].sum())\n",
        "germany_data2"
      ],
      "outputs": [
        {
          "output_type": "stream",
          "name": "stdout",
          "text": [
            "-3425.8022129274736\n",
            "-3360.02121150659\n"
          ]
        },
        {
          "output_type": "execute_result",
          "execution_count": 17,
          "data": {
            "text/html": [
              "<div>\n",
              "<style scoped>\n",
              "    .dataframe tbody tr th:only-of-type {\n",
              "        vertical-align: middle;\n",
              "    }\n",
              "\n",
              "    .dataframe tbody tr th {\n",
              "        vertical-align: top;\n",
              "    }\n",
              "\n",
              "    .dataframe thead th {\n",
              "        text-align: right;\n",
              "    }\n",
              "</style>\n",
              "<table border=\"1\" class=\"dataframe\">\n",
              "  <thead>\n",
              "    <tr style=\"text-align: right;\">\n",
              "      <th></th>\n",
              "      <th>Maturity</th>\n",
              "      <th>rates</th>\n",
              "      <th>underlying</th>\n",
              "      <th>country</th>\n",
              "      <th>coupon</th>\n",
              "      <th>Duration_i</th>\n",
              "    </tr>\n",
              "  </thead>\n",
              "  <tbody>\n",
              "    <tr>\n",
              "      <th>0</th>\n",
              "      <td>1.0</td>\n",
              "      <td>-0.00645</td>\n",
              "      <td>AU025425 Corp</td>\n",
              "      <td>Germany</td>\n",
              "      <td>0.0</td>\n",
              "      <td>-9.347190</td>\n",
              "    </tr>\n",
              "    <tr>\n",
              "      <th>1</th>\n",
              "      <td>2.0</td>\n",
              "      <td>-0.00661</td>\n",
              "      <td>ZR204844 Corp</td>\n",
              "      <td>Germany</td>\n",
              "      <td>0.0</td>\n",
              "      <td>-18.824834</td>\n",
              "    </tr>\n",
              "    <tr>\n",
              "      <th>2</th>\n",
              "      <td>3.0</td>\n",
              "      <td>-0.00691</td>\n",
              "      <td>AO131132 Corp</td>\n",
              "      <td>Germany</td>\n",
              "      <td>0.0</td>\n",
              "      <td>-28.459505</td>\n",
              "    </tr>\n",
              "    <tr>\n",
              "      <th>3</th>\n",
              "      <td>4.0</td>\n",
              "      <td>-0.00668</td>\n",
              "      <td>AT634023 Corp</td>\n",
              "      <td>Germany</td>\n",
              "      <td>0.0</td>\n",
              "      <td>-38.165821</td>\n",
              "    </tr>\n",
              "    <tr>\n",
              "      <th>4</th>\n",
              "      <td>5.0</td>\n",
              "      <td>-0.00611</td>\n",
              "      <td>AZ321298 Corp</td>\n",
              "      <td>Germany</td>\n",
              "      <td>0.0</td>\n",
              "      <td>-47.863075</td>\n",
              "    </tr>\n",
              "    <tr>\n",
              "      <th>5</th>\n",
              "      <td>6.0</td>\n",
              "      <td>-0.00596</td>\n",
              "      <td>AF205634 Corp</td>\n",
              "      <td>Germany</td>\n",
              "      <td>1.0</td>\n",
              "      <td>-683.367359</td>\n",
              "    </tr>\n",
              "    <tr>\n",
              "      <th>6</th>\n",
              "      <td>7.0</td>\n",
              "      <td>-0.00556</td>\n",
              "      <td>LW743065 Corp</td>\n",
              "      <td>Germany</td>\n",
              "      <td>0.0</td>\n",
              "      <td>-40.453754</td>\n",
              "    </tr>\n",
              "    <tr>\n",
              "      <th>7</th>\n",
              "      <td>8.0</td>\n",
              "      <td>-0.00510</td>\n",
              "      <td>AO223542 Corp</td>\n",
              "      <td>Germany</td>\n",
              "      <td>0.5</td>\n",
              "      <td>-2559.320674</td>\n",
              "    </tr>\n",
              "  </tbody>\n",
              "</table>\n",
              "</div>"
            ],
            "text/plain": [
              "   Maturity    rates     underlying  country  coupon   Duration_i\n",
              "0       1.0 -0.00645  AU025425 Corp  Germany     0.0    -9.347190\n",
              "1       2.0 -0.00661  ZR204844 Corp  Germany     0.0   -18.824834\n",
              "2       3.0 -0.00691  AO131132 Corp  Germany     0.0   -28.459505\n",
              "3       4.0 -0.00668  AT634023 Corp  Germany     0.0   -38.165821\n",
              "4       5.0 -0.00611  AZ321298 Corp  Germany     0.0   -47.863075\n",
              "5       6.0 -0.00596  AF205634 Corp  Germany     1.0  -683.367359\n",
              "6       7.0 -0.00556  LW743065 Corp  Germany     0.0   -40.453754\n",
              "7       8.0 -0.00510  AO223542 Corp  Germany     0.5 -2559.320674"
            ]
          },
          "metadata": {}
        }
      ],
      "execution_count": 17,
      "metadata": {
        "ExecuteTime": {
          "end_time": "2019-12-24T14:38:24.432383Z",
          "start_time": "2019-12-24T14:38:24.414432Z"
        }
      }
    },
    {
      "cell_type": "markdown",
      "source": [
        "## Remarque\n",
        "\n",
        "Ici, la colonne `Duration_i` du dataframe `germany_data2` représente la duration pour notre portefeuille ! On a bien utilisé les cashflows de notre portefeuille ! Si nous l'avons mis dans ce dataframe, c'est uniquement pour un cas de praticité."
      ],
      "metadata": {}
    },
    {
      "cell_type": "code",
      "source": [
        "plt.plot(germany_data2[\"Maturity\"], germany_data2[\"Duration_i\"], label= \"Germany\", c=\"orange\")\n",
        "plt.plot(french_data2[\"Maturity\"], french_data2[\"Duration_i\"], label= \"France\")\n",
        "plt.legend()\n",
        "plt.show()"
      ],
      "outputs": [
        {
          "output_type": "display_data",
          "data": {
            "image/png": "[encoded data removed]",
            "text/plain": [
              "<Figure size 576x396 with 1 Axes>"
            ]
          },
          "metadata": {}
        }
      ],
      "execution_count": 18,
      "metadata": {
        "ExecuteTime": {
          "end_time": "2019-12-24T14:38:24.703659Z",
          "start_time": "2019-12-24T14:38:24.435377Z"
        }
      }
    },
    {
      "cell_type": "markdown",
      "source": [
        "### Remarque:\n",
        "\n",
        "Les durations sont peu différentes. La seule différence est le taux de nos obligations. Néanmoins, l'écart des taux est faible pour les maturités inférieures à 10. C'est pour ça que l'on constate ces courbes, qui pour notre échelle de maturité, semblent superposées.\n",
        "\n",
        "Les durations sont les plus fortes aux 8emes et 6emes maturités, car ce sont les maturités lors desquelles nous recevons les nominaux des obligations."
      ],
      "metadata": {}
    },
    {
      "cell_type": "markdown",
      "source": [
        "### 4)\n",
        "*On souhaite désormais couvrir le risque d’un mouvement de courbe des taux. Pour cela, on va shorter des obligations souveraines (on utilise les obligations présentes dans la Table data_tp3). Nous cherchons donc à nous immuniser contre 8 risques, correspondants aux 8 maturités de la courbe des taux. Pour cela, on considère 8 obligations souveraines : O1, ..., O8 et l’on cherche les quantités φ1, ...φ8 annulant un mouvement de la courbe des taux.*\n",
        "\n",
        "*On pose D, le vecteur de durations du portefeuille aux maturités 1,...,8 : \n",
        "$D = \\begin{bmatrix} D1 & ... & D8\\end{bmatrix}$ ; Φ, le vecteur de quantités des actifs souverains $Φ = \\begin{bmatrix}φ1 & ... & φ8\\end{bmatrix}$ ; et $D_0$ la matrice carrée telle que :*\n",
        "\n",
        "$D_0=\\begin{bmatrix}\n",
        "\\frac{\\partial O_1}{\\partial z_1} & ... & \\frac{\\partial O_8}{\\partial z_1} \\\\\n",
        "... &  & ... \\\\\n",
        "\\frac{\\partial O_1}{\\partial z_8} & ... & \\frac{\\partial O_8}{\\partial z_8}\n",
        "\\end{bmatrix}$\n",
        "\n",
        "*On rappelle qui si $D_O$ est inversible, alors : $\\Phi = -DD_0^{-1}$*\n",
        "\n",
        "*Dans un premier temps, on cherche se couvrir contre des mouvements de taux 1 an et de taux 8 ans. On utilise les obligations souveraines correspondants aux maturités 1 et 8.\n",
        "**Dans Python, utiliser les fonctions np.dot et np.linalg.inv**.*"
      ],
      "metadata": {
        "ExecuteTime": {
          "end_time": "2019-10-25T20:11:49.216767Z",
          "start_time": "2019-10-25T20:11:49.181001Z"
        }
      }
    },
    {
      "cell_type": "code",
      "source": [
        "french_data2"
      ],
      "outputs": [
        {
          "output_type": "execute_result",
          "execution_count": 19,
          "data": {
            "text/html": [
              "<div>\n",
              "<style scoped>\n",
              "    .dataframe tbody tr th:only-of-type {\n",
              "        vertical-align: middle;\n",
              "    }\n",
              "\n",
              "    .dataframe tbody tr th {\n",
              "        vertical-align: top;\n",
              "    }\n",
              "\n",
              "    .dataframe thead th {\n",
              "        text-align: right;\n",
              "    }\n",
              "</style>\n",
              "<table border=\"1\" class=\"dataframe\">\n",
              "  <thead>\n",
              "    <tr style=\"text-align: right;\">\n",
              "      <th></th>\n",
              "      <th>Maturity</th>\n",
              "      <th>rates</th>\n",
              "      <th>underlying</th>\n",
              "      <th>country</th>\n",
              "      <th>coupon</th>\n",
              "      <th>Duration_i</th>\n",
              "    </tr>\n",
              "  </thead>\n",
              "  <tbody>\n",
              "    <tr>\n",
              "      <th>0</th>\n",
              "      <td>1.0</td>\n",
              "      <td>-0.00632</td>\n",
              "      <td>ZQ078370 Corp</td>\n",
              "      <td>France</td>\n",
              "      <td>0.00</td>\n",
              "      <td>-9.344744</td>\n",
              "    </tr>\n",
              "    <tr>\n",
              "      <th>1</th>\n",
              "      <td>2.0</td>\n",
              "      <td>-0.00620</td>\n",
              "      <td>AW799417 Corp</td>\n",
              "      <td>France</td>\n",
              "      <td>0.00</td>\n",
              "      <td>-18.801545</td>\n",
              "    </tr>\n",
              "    <tr>\n",
              "      <th>2</th>\n",
              "      <td>3.0</td>\n",
              "      <td>-0.00589</td>\n",
              "      <td>AP173983 Corp</td>\n",
              "      <td>France</td>\n",
              "      <td>0.00</td>\n",
              "      <td>-28.342882</td>\n",
              "    </tr>\n",
              "    <tr>\n",
              "      <th>3</th>\n",
              "      <td>4.0</td>\n",
              "      <td>-0.00510</td>\n",
              "      <td>AT122915 Corp</td>\n",
              "      <td>France</td>\n",
              "      <td>0.00</td>\n",
              "      <td>-37.863727</td>\n",
              "    </tr>\n",
              "    <tr>\n",
              "      <th>4</th>\n",
              "      <td>5.0</td>\n",
              "      <td>-0.00412</td>\n",
              "      <td>ZS171522 Corp</td>\n",
              "      <td>France</td>\n",
              "      <td>0.00</td>\n",
              "      <td>-47.292085</td>\n",
              "    </tr>\n",
              "    <tr>\n",
              "      <th>5</th>\n",
              "      <td>6.0</td>\n",
              "      <td>-0.00382</td>\n",
              "      <td>UV715505 Corp</td>\n",
              "      <td>France</td>\n",
              "      <td>1.00</td>\n",
              "      <td>-673.157251</td>\n",
              "    </tr>\n",
              "    <tr>\n",
              "      <th>6</th>\n",
              "      <td>7.0</td>\n",
              "      <td>-0.00312</td>\n",
              "      <td>QZ358353 Corp</td>\n",
              "      <td>France</td>\n",
              "      <td>0.25</td>\n",
              "      <td>-39.668378</td>\n",
              "    </tr>\n",
              "    <tr>\n",
              "      <th>7</th>\n",
              "      <td>8.0</td>\n",
              "      <td>-0.00275</td>\n",
              "      <td>EJ346891 Corp</td>\n",
              "      <td>France</td>\n",
              "      <td>2.75</td>\n",
              "      <td>-2505.550600</td>\n",
              "    </tr>\n",
              "  </tbody>\n",
              "</table>\n",
              "</div>"
            ],
            "text/plain": [
              "   Maturity    rates     underlying country  coupon   Duration_i\n",
              "0       1.0 -0.00632  ZQ078370 Corp  France    0.00    -9.344744\n",
              "1       2.0 -0.00620  AW799417 Corp  France    0.00   -18.801545\n",
              "2       3.0 -0.00589  AP173983 Corp  France    0.00   -28.342882\n",
              "3       4.0 -0.00510  AT122915 Corp  France    0.00   -37.863727\n",
              "4       5.0 -0.00412  ZS171522 Corp  France    0.00   -47.292085\n",
              "5       6.0 -0.00382  UV715505 Corp  France    1.00  -673.157251\n",
              "6       7.0 -0.00312  QZ358353 Corp  France    0.25   -39.668378\n",
              "7       8.0 -0.00275  EJ346891 Corp  France    2.75 -2505.550600"
            ]
          },
          "metadata": {}
        }
      ],
      "execution_count": 19,
      "metadata": {
        "ExecuteTime": {
          "end_time": "2019-12-24T14:38:24.723639Z",
          "start_time": "2019-12-24T14:38:24.706650Z"
        }
      }
    },
    {
      "cell_type": "code",
      "source": [
        "def matrice_d_construction(df):\n",
        "    \"\"\"\n",
        "    Me permet d'afficher une matrice triangulaire sup avec les cash_flow dans l'ordres de maturité\n",
        "    Pour la 2 ème colonne, le cash flow s'arrète à partir de la \n",
        "    troisième ligne, avec une suite de 0.\n",
        "    \n",
        "    C'est un traitement nécessaire pour construire la matrice de dérivé par rapport à tous les taux\n",
        "    obligataires\n",
        "    \n",
        "    Voici un exemple d'ouput:\n",
        "                1.0\t2.0\t3.0\t4.0\t5.0\t6.0\t7.0\t8.0\n",
        "        0\t100.0\t0.0\t0.0\t0.0\t0.0\t1.0\t0.25\t2.75\n",
        "        1\t0.0\t100.0\t0.0\t0.0\t0.0\t1.0\t0.25\t2.75\n",
        "        2\t0.0\t0.0\t100.0\t0.0\t0.0\t1.0\t0.25\t2.75\n",
        "        3\t0.0\t0.0\t0.0\t100.0\t0.0\t1.0\t0.25\t2.75\n",
        "        4\t0.0\t0.0\t0.0\t0.0\t100.0\t1.0\t0.25\t2.75\n",
        "        5\t0.0\t0.0\t0.0\t0.0\t0.0\t101.0\t0.25\t2.75\n",
        "        6\t0.0\t0.0\t0.0\t0.0\t0.0\t0.0\t100.25\t2.75\n",
        "        7\t0.0\t0.0\t0.0\t0.0\t0.0\t0.0\t0.00\t102.75\n",
        "    \"\"\"\n",
        "    dicto= {i:np.array(np.repeat(df[df[\"Maturity\"] == i][\"coupon\"], df.shape[0]))\\\n",
        "                    for i in df[\"Maturity\"].values}\n",
        "    \n",
        "    test_df= pd.DataFrame.from_dict(dicto)\n",
        "    test_matrix= pd.DataFrame.from_dict(dicto).to_numpy()\n",
        "    #je rempli ma diagonal par la valeur du nominal (ici n=100)\n",
        "    np.fill_diagonal(test_matrix, test_matrix.diagonal() + 100)\n",
        "    df_out= pd.DataFrame(test_matrix, columns= [i for i in df[\"Maturity\"].values])\n",
        "    colname= df_out.columns\n",
        "    #je met toutes les valeurs en dessous de la diagonale à 0\n",
        "    return pd.DataFrame(np.triu(df_out, 0), columns= colname)\n",
        "\n",
        "matrice_d_construction(french_data2)"
      ],
      "outputs": [
        {
          "output_type": "execute_result",
          "execution_count": 20,
          "data": {
            "text/html": [
              "<div>\n",
              "<style scoped>\n",
              "    .dataframe tbody tr th:only-of-type {\n",
              "        vertical-align: middle;\n",
              "    }\n",
              "\n",
              "    .dataframe tbody tr th {\n",
              "        vertical-align: top;\n",
              "    }\n",
              "\n",
              "    .dataframe thead th {\n",
              "        text-align: right;\n",
              "    }\n",
              "</style>\n",
              "<table border=\"1\" class=\"dataframe\">\n",
              "  <thead>\n",
              "    <tr style=\"text-align: right;\">\n",
              "      <th></th>\n",
              "      <th>1.0</th>\n",
              "      <th>2.0</th>\n",
              "      <th>3.0</th>\n",
              "      <th>4.0</th>\n",
              "      <th>5.0</th>\n",
              "      <th>6.0</th>\n",
              "      <th>7.0</th>\n",
              "      <th>8.0</th>\n",
              "    </tr>\n",
              "  </thead>\n",
              "  <tbody>\n",
              "    <tr>\n",
              "      <th>0</th>\n",
              "      <td>100.0</td>\n",
              "      <td>0.0</td>\n",
              "      <td>0.0</td>\n",
              "      <td>0.0</td>\n",
              "      <td>0.0</td>\n",
              "      <td>1.0</td>\n",
              "      <td>0.25</td>\n",
              "      <td>2.75</td>\n",
              "    </tr>\n",
              "    <tr>\n",
              "      <th>1</th>\n",
              "      <td>0.0</td>\n",
              "      <td>100.0</td>\n",
              "      <td>0.0</td>\n",
              "      <td>0.0</td>\n",
              "      <td>0.0</td>\n",
              "      <td>1.0</td>\n",
              "      <td>0.25</td>\n",
              "      <td>2.75</td>\n",
              "    </tr>\n",
              "    <tr>\n",
              "      <th>2</th>\n",
              "      <td>0.0</td>\n",
              "      <td>0.0</td>\n",
              "      <td>100.0</td>\n",
              "      <td>0.0</td>\n",
              "      <td>0.0</td>\n",
              "      <td>1.0</td>\n",
              "      <td>0.25</td>\n",
              "      <td>2.75</td>\n",
              "    </tr>\n",
              "    <tr>\n",
              "      <th>3</th>\n",
              "      <td>0.0</td>\n",
              "      <td>0.0</td>\n",
              "      <td>0.0</td>\n",
              "      <td>100.0</td>\n",
              "      <td>0.0</td>\n",
              "      <td>1.0</td>\n",
              "      <td>0.25</td>\n",
              "      <td>2.75</td>\n",
              "    </tr>\n",
              "    <tr>\n",
              "      <th>4</th>\n",
              "      <td>0.0</td>\n",
              "      <td>0.0</td>\n",
              "      <td>0.0</td>\n",
              "      <td>0.0</td>\n",
              "      <td>100.0</td>\n",
              "      <td>1.0</td>\n",
              "      <td>0.25</td>\n",
              "      <td>2.75</td>\n",
              "    </tr>\n",
              "    <tr>\n",
              "      <th>5</th>\n",
              "      <td>0.0</td>\n",
              "      <td>0.0</td>\n",
              "      <td>0.0</td>\n",
              "      <td>0.0</td>\n",
              "      <td>0.0</td>\n",
              "      <td>101.0</td>\n",
              "      <td>0.25</td>\n",
              "      <td>2.75</td>\n",
              "    </tr>\n",
              "    <tr>\n",
              "      <th>6</th>\n",
              "      <td>0.0</td>\n",
              "      <td>0.0</td>\n",
              "      <td>0.0</td>\n",
              "      <td>0.0</td>\n",
              "      <td>0.0</td>\n",
              "      <td>0.0</td>\n",
              "      <td>100.25</td>\n",
              "      <td>2.75</td>\n",
              "    </tr>\n",
              "    <tr>\n",
              "      <th>7</th>\n",
              "      <td>0.0</td>\n",
              "      <td>0.0</td>\n",
              "      <td>0.0</td>\n",
              "      <td>0.0</td>\n",
              "      <td>0.0</td>\n",
              "      <td>0.0</td>\n",
              "      <td>0.00</td>\n",
              "      <td>102.75</td>\n",
              "    </tr>\n",
              "  </tbody>\n",
              "</table>\n",
              "</div>"
            ],
            "text/plain": [
              "     1.0    2.0    3.0    4.0    5.0    6.0     7.0     8.0\n",
              "0  100.0    0.0    0.0    0.0    0.0    1.0    0.25    2.75\n",
              "1    0.0  100.0    0.0    0.0    0.0    1.0    0.25    2.75\n",
              "2    0.0    0.0  100.0    0.0    0.0    1.0    0.25    2.75\n",
              "3    0.0    0.0    0.0  100.0    0.0    1.0    0.25    2.75\n",
              "4    0.0    0.0    0.0    0.0  100.0    1.0    0.25    2.75\n",
              "5    0.0    0.0    0.0    0.0    0.0  101.0    0.25    2.75\n",
              "6    0.0    0.0    0.0    0.0    0.0    0.0  100.25    2.75\n",
              "7    0.0    0.0    0.0    0.0    0.0    0.0    0.00  102.75"
            ]
          },
          "metadata": {}
        }
      ],
      "execution_count": 20,
      "metadata": {
        "ExecuteTime": {
          "end_time": "2019-12-24T14:38:24.787438Z",
          "start_time": "2019-12-24T14:38:24.726596Z"
        }
      }
    },
    {
      "cell_type": "code",
      "source": [
        "#rappel de la fonction\n",
        "#pour ne pas oublier la façon dont je dois l'appeller\n",
        "def duration_i(y, C, m):\n",
        "    return -(m*(C))/pow(1+y, (m+1))\n",
        "\n",
        "def matrice_d(df):\n",
        "    \"\"\"\n",
        "    Sortie est la matrice n*n contenant la dérivé des n titres par rapports à leurs\n",
        "    n taux\n",
        "    -df : DataFrame qui doit contenir les colonnes suivantes: Maturity et coupon \n",
        "    (attention aux majuscules)\n",
        "    \"\"\"\n",
        "    try_df= matrice_d_construction(df)\n",
        "\n",
        "    iterator= itertools.product(df[\"Maturity\"].index,\n",
        "                               df[\"Maturity\"].values)\n",
        "\n",
        "    df_copy= df.copy()\n",
        "    df_copy= df_copy.reset_index(drop= True, inplace= False)\n",
        "\n",
        "    listed_stock= []\n",
        "    for ite in iterator:\n",
        "        m= ite[1]\n",
        "        idx= ite[0]\n",
        "        r= df_copy[\"rates\"][idx]\n",
        "        listed_stock.append(duration_i(r, try_df[m][idx], m))\n",
        "\n",
        "    matrice_d_out= np.array(listed_stock).reshape(df.shape[0], df.shape[0])\n",
        "    \n",
        "    return matrice_d_out\n",
        "\n",
        "\n",
        "def poids_couverture(matrice_d, vector_d):\n",
        "    \"\"\"\n",
        "    Ressort le poids pour nous protéger contre les variations de la courbe des taux\n",
        "    \"\"\"\n",
        "    return -np.dot(vector_d, np.linalg.inv(matrice_d))"
      ],
      "outputs": [],
      "execution_count": 21,
      "metadata": {
        "ExecuteTime": {
          "end_time": "2019-12-24T14:38:24.804390Z",
          "start_time": "2019-12-24T14:38:24.790427Z"
        },
        "scrolled": false
      }
    },
    {
      "cell_type": "code",
      "source": [
        "#construison un df contenant que 2 titres = celui a la maturité 1an, et l'autre à la maturité 8ans\n",
        "french_data_18= french_data2[np.logical_or(french_data2[\"Maturity\"] == 1, french_data2[\"Maturity\"] == 8)]\n",
        "french_data_18= french_data_18.reset_index(drop= True)\n",
        "\n",
        "#try\n",
        "matrice_d_fr_18= matrice_d(french_data_18)\n",
        "vecteur_d_fr_18= np.array(french_data_18[\"Duration_i\"].values)\n",
        "poids_couverture_18ans= poids_couverture(matrice_d_fr_18, vecteur_d_fr_18)\n",
        "poids_couverture_18ans"
      ],
      "outputs": [
        {
          "output_type": "execute_result",
          "execution_count": 22,
          "data": {
            "text/plain": [
              "array([-0.09227   , -2.97094826])"
            ]
          },
          "metadata": {}
        }
      ],
      "execution_count": 22,
      "metadata": {
        "ExecuteTime": {
          "end_time": "2019-12-24T14:38:24.864338Z",
          "start_time": "2019-12-24T14:38:24.808065Z"
        }
      }
    },
    {
      "cell_type": "markdown",
      "source": [
        "### Remarque\n",
        "\n",
        "Les valeurs obtenue semblent correctes : elles sont bien négatives (pour se couvrir contre la variation des taux, on va shorter des titres souverains, donc un (-) est attendu).\n",
        "\n",
        "Ainsi, pour se couvrir à la fois contre un risque variation des taux à 1 an et à 8 ans, il nous faudrait shorter 0.1 et 3 obligations souveraines françaises de maturité 1 an et 8 ans respectivement pour couvrir une unité de notre portefeuille (c'est à dire notre portefeuille)."
      ],
      "metadata": {}
    },
    {
      "cell_type": "markdown",
      "source": [
        "### 5)\n",
        "*Calculez désormais les quantités d’actifs nécessaires pour se couvrir contre une variation de l’ensemble de la courbe des taux.*"
      ],
      "metadata": {}
    },
    {
      "cell_type": "code",
      "source": [
        "matrice_d_fr= matrice_d(french_data2)\n",
        "matrice_d_fr\n",
        "vecteur_d_fr= np.array(french_data2[\"Duration_i\"].values)\n",
        "poids= np.round(poids_couverture(matrice_d_fr, vecteur_d_fr), 5)\n",
        "print(poids)"
      ],
      "outputs": [
        {
          "output_type": "stream",
          "name": "stdout",
          "text": [
            "[-0.09227 -0.09227 -0.09227 -0.09227 -0.09227 -1.07683 -0.05126 -2.93036]\n"
          ]
        }
      ],
      "execution_count": 23,
      "metadata": {
        "ExecuteTime": {
          "end_time": "2019-12-24T14:38:24.901150Z",
          "start_time": "2019-12-24T14:38:24.867261Z"
        }
      }
    },
    {
      "cell_type": "markdown",
      "source": [
        "#### Remarque\n",
        "\n",
        "*Voici les poids qui sont nécessaires pour couvrir notre portefeuille contre une variation de la courbe des taux.\n",
        "Attention, ici, nous avons utilisé les obligations souveraines françaises et pas allemandes.*"
      ],
      "metadata": {}
    },
    {
      "cell_type": "markdown",
      "source": [
        "## Partie 2\n",
        "On souhaite désormais se couvrir en supposant que la courbe des taux est générée par le modèle de Vasicek. Dans ce cadre, la diffusion du taux court r<sub>t</sub> est donnée par :\n",
        "\n",
        "$dr_t = a(b-r_t)dt + \\sigma d W_t$ avec a > 0 la vitesse de retour à la moyenne, b la moyenne de long terme, σ > 0 l’écart-type et Wt un mouvement brownien.\n",
        "\n",
        "Tout d’abord on souhaite approximer l’équation continue afin d’effectuer des simulations. On divise l’intervalle [0, T] en k intervalles de longueurs h tel que T = hk. Dans le cas où un intervalle dure un mois, alors h = 1 12 et k = 36 si T = 3.\n",
        "\n",
        "Une version discrète est donnée par : $r_{t+1} = r_t + a(b-r_t)h + \\sigma \\sqrt{h} z_{t+1}$ avec $z_t$ ~ $N(0,1)$"
      ],
      "metadata": {}
    },
    {
      "cell_type": "markdown",
      "source": [
        "### 1)\n",
        "*Simulez des processus pour r0 = 0.01, a = 0.02, σ = 0.02, b = 0.005, h = 112 et k = 36. Puis pour a = 0.1. Qu’observez-vous ?*"
      ],
      "metadata": {}
    },
    {
      "cell_type": "code",
      "source": [
        "def taux_vasicek_disc(r0, a, b, sig, h, k):\n",
        "    r= [r0]\n",
        "    i= 0\n",
        "    for i in range(0, k):\n",
        "        alea= sig*np.sqrt(h)*np.random.normal(0, 1, 1)\n",
        "        retour= a*(b-r[i])*h\n",
        "        r.append(r[i] + retour + alea)\n",
        "    return r"
      ],
      "outputs": [],
      "execution_count": 24,
      "metadata": {
        "ExecuteTime": {
          "end_time": "2019-12-24T14:38:24.920077Z",
          "start_time": "2019-12-24T14:38:24.910105Z"
        }
      }
    },
    {
      "cell_type": "code",
      "source": [
        "np.random.seed(55)\n",
        "data1= taux_vasicek_disc(0.01, 0.02, 0.005, 0.02, 1/12, 36)\n",
        "data1"
      ],
      "outputs": [
        {
          "output_type": "execute_result",
          "execution_count": 25,
          "data": {
            "text/plain": [
              "[0.01,\n",
              " array([0.00061705]),\n",
              " array([3.67058139e-05]),\n",
              " array([-0.01040386]),\n",
              " array([-0.00886175]),\n",
              " array([-0.00733781]),\n",
              " array([-0.00951745]),\n",
              " array([-0.00950647]),\n",
              " array([-0.00750998]),\n",
              " array([-0.002307]),\n",
              " array([-0.00437963]),\n",
              " array([0.0051995]),\n",
              " array([-0.00166559]),\n",
              " array([0.00796665]),\n",
              " array([-0.00360515]),\n",
              " array([-0.00634981]),\n",
              " array([0.00157187]),\n",
              " array([0.00306812]),\n",
              " array([0.00712637]),\n",
              " array([0.0122519]),\n",
              " array([0.01640955]),\n",
              " array([0.00841096]),\n",
              " array([0.00266956]),\n",
              " array([0.00169504]),\n",
              " array([0.0033632]),\n",
              " array([0.00508099]),\n",
              " array([0.00399788]),\n",
              " array([0.00187436]),\n",
              " array([0.01025564]),\n",
              " array([0.01151237]),\n",
              " array([0.01407143]),\n",
              " array([0.01284038]),\n",
              " array([0.00990071]),\n",
              " array([0.0122023]),\n",
              " array([0.01806491]),\n",
              " array([0.02503459]),\n",
              " array([0.0276177])]"
            ]
          },
          "metadata": {}
        }
      ],
      "execution_count": 25,
      "metadata": {
        "ExecuteTime": {
          "end_time": "2019-12-24T14:38:24.948003Z",
          "start_time": "2019-12-24T14:38:24.924068Z"
        },
        "scrolled": false
      }
    },
    {
      "cell_type": "code",
      "source": [
        "mpl.style.use('seaborn')\n",
        "fig, ax= plt.subplots()\n",
        "\n",
        "ax.plot([i for i in range(len(data1))]\n",
        "            , np.ravel(data1)\n",
        "            , marker= '.'\n",
        "            , markerfacecolor= 'black'\n",
        "            , markersize= 9\n",
        "            , c= 'orange'\n",
        "            )\n",
        "b= 0.005\n",
        "ax.plot([i for i in range(len(data1))]\n",
        "        , [b for i in range(len(data1))]\n",
        "        , label= \"Moyenne de Long Terme\"\n",
        "       )\n",
        "\n",
        "ax.set_ylabel(\"Taux\", rotation= 0, fontsize= 12)\n",
        "ax.set_xlabel(\"Maturite\", fontsize= 12)\n",
        "ax.set_title(\"Courbe de taux\", fontsize= 18)\n",
        "ax.legend()\n",
        "\n",
        "plt.show()"
      ],
      "outputs": [
        {
          "output_type": "display_data",
          "data": {
            "image/png": "[encoded data removed]",
            "text/plain": [
              "<Figure size 576x396 with 1 Axes>"
            ]
          },
          "metadata": {}
        }
      ],
      "execution_count": 26,
      "metadata": {
        "ExecuteTime": {
          "end_time": "2019-12-24T14:38:25.325030Z",
          "start_time": "2019-12-24T14:38:24.950996Z"
        }
      }
    },
    {
      "cell_type": "markdown",
      "source": [
        "### Remarque\n",
        "\n",
        "C'est un modèle de modélisation des taux en continu. On considère qu'à long terme, notre taux = b et que les taux court fluctuent autour de cette moyenne de long terme. On considère aussi une vitesse de retour vers cette moyenne de long terme, a.\n",
        "\n",
        "Dans notre plot, on remarque alors les taux semblent en effet fluctuer autours du seuil b=0.005."
      ],
      "metadata": {
        "ExecuteTime": {
          "end_time": "2019-11-22T20:10:01.299659Z",
          "start_time": "2019-11-22T20:10:01.295670Z"
        }
      }
    },
    {
      "cell_type": "code",
      "source": [
        "np.random.seed(5)\n",
        "data2= taux_vasicek_disc(0.01, 0.1, 0.005, 0.02, 1/12, 36)\n",
        "data2"
      ],
      "outputs": [
        {
          "output_type": "execute_result",
          "execution_count": 27,
          "data": {
            "text/plain": [
              "[0.01,\n",
              " array([0.01250576]),\n",
              " array([0.01053293]),\n",
              " array([0.02452089]),\n",
              " array([0.02290276]),\n",
              " array([0.0233864]),\n",
              " array([0.03236964]),\n",
              " array([0.02689211]),\n",
              " array([0.02329386]),\n",
              " array([0.02422454]),\n",
              " array([0.02215983]),\n",
              " array([0.0151304]),\n",
              " array([0.01386312]),\n",
              " array([0.01171756]),\n",
              " array([0.01514573]),\n",
              " array([0.00544952]),\n",
              " array([0.00140329]),\n",
              " array([0.00808082]),\n",
              " array([0.01877845]),\n",
              " array([0.00993883]),\n",
              " array([0.0136207]),\n",
              " array([0.00788732]),\n",
              " array([0.00291622]),\n",
              " array([-0.00210021]),\n",
              " array([-0.0044804]),\n",
              " array([0.00135156]),\n",
              " array([0.00549513]),\n",
              " array([0.00583247]),\n",
              " array([0.00372795]),\n",
              " array([0.00375754]),\n",
              " array([0.00315631]),\n",
              " array([0.00775037]),\n",
              " array([0.00408107]),\n",
              " array([0.00405296]),\n",
              " array([0.00347734]),\n",
              " array([0.00318802]),\n",
              " array([0.00464198])]"
            ]
          },
          "metadata": {}
        }
      ],
      "execution_count": 27,
      "metadata": {
        "ExecuteTime": {
          "end_time": "2019-12-24T14:38:25.343014Z",
          "start_time": "2019-12-24T14:38:25.326989Z"
        },
        "scrolled": false
      }
    },
    {
      "cell_type": "code",
      "source": [
        "mpl.style.use('seaborn')\n",
        "fig, ax= plt.subplots()\n",
        "\n",
        "ax.plot([i for i in range(len(data2))]\n",
        "            , np.ravel(data2)\n",
        "            , marker= '.'\n",
        "            , markerfacecolor= 'black'\n",
        "            , markersize= 9\n",
        "            , c= 'orange'\n",
        "            )\n",
        "b= 0.005\n",
        "ax.plot([i for i in range(len(data2))]\n",
        "        , [b for i in range(len(data2))]\n",
        "        , label= \"Moyenne de Long Terme\"\n",
        "       )\n",
        "\n",
        "ax.set_ylabel(\"Taux\", rotation= 0, fontsize= 12)\n",
        "ax.set_xlabel(\"Maturite\", fontsize= 12)\n",
        "ax.set_title(\"Courbe de taux\", fontsize= 18)\n",
        "ax.legend()\n",
        "\n",
        "plt.show()"
      ],
      "outputs": [
        {
          "output_type": "display_data",
          "data": {
            "image/png": "[encoded data removed]",
            "text/plain": [
              "<Figure size 576x396 with 1 Axes>"
            ]
          },
          "metadata": {}
        }
      ],
      "execution_count": 28,
      "metadata": {
        "ExecuteTime": {
          "end_time": "2019-12-24T14:38:25.644397Z",
          "start_time": "2019-12-24T14:38:25.346942Z"
        }
      }
    },
    {
      "cell_type": "markdown",
      "source": [
        "### Remarque\n",
        "\n",
        "On a donc augmenté notre vitesse de retour vers la moyenne de long terme. Toutes choses égales par ailleurs, on constate alors que les taux flanchent beaucoup plus rapidement vers notre b=0.005.\n",
        "\n",
        "*Mais il ne faut pas oublier que le modèle est fondé sur un noyau aléatoire (distribution normale), donc on pourrait très bien ne pas avoir la même conclusion. \n",
        "C'est pourquoi, dans notre cas, nous avons décidé de fixer une seed, vers un résultat qui possède une explication qui nous paraissait censée.*"
      ],
      "metadata": {}
    },
    {
      "cell_type": "markdown",
      "source": [
        "### 2)\n",
        "*On appelle z(T) le taux zéro-coupon de maturité T tel que : $z(T)=z_\\infty + s \\frac{\\Phi(T)}{T} + \\frac{\\sigma^2}{4a^3} \\frac{\\Phi(T)^2}{T}$ avec :*\n",
        "\n",
        "- $z_\\infty = b- \\frac{\\sigma^2}{2a^2}$\n",
        "- $s = r_0 - z_\\infty$ *où $r_0$ est le taux court vu en 0*\n",
        "- $\\Phi(T) = \\frac{1-e^{-aT}}{a}$\n",
        "\n",
        "*Pour le reste du TP, on considèrera le facteur d’actualisation à la maturité i sous sa forme continue i.e. $\\frac{1}{(1+z_i)}$ devient $e^{-iz(i,z_\\infty, s, \\sigma^2)}$, et $z_i$ devient $z(i, z_\\infty, s, \\sigma^2)$*\n",
        "\n",
        "### 3)\n",
        "*Définir une fonction permettant de simuler une courbe de taux à partir de l’équation ci-dessus. Simuler une courbe de taux avec les paramètres suivants :*\n",
        "- b=0\n",
        "- r0=-0.005\n",
        "- a=0.01\n",
        "- sigma=0.001\n",
        "- T=10\n",
        "- une fréquence d’un an\n",
        "\n",
        "*Qu’observez-vous ?*"
      ],
      "metadata": {}
    },
    {
      "cell_type": "code",
      "source": [
        "def vasicek_new(T, b, r_0, a, sigma):\n",
        "    \"\"\"\n",
        "    Retourne la valeur en T de la courbe de taux simulée par la nouvelle équation fournie après Vasicek.\n",
        "    \"\"\"\n",
        "    z_infty = b - (sigma**2)/(2*a**2)\n",
        "    s = r_0 - z_infty\n",
        "    phi_T = (1-math.exp(-a*T))/a\n",
        "    z_T = z_infty + s*phi_T/T + sigma**2 / (4*a**3) * phi_T**2 / T\n",
        "    return z_T"
      ],
      "outputs": [],
      "execution_count": 29,
      "metadata": {
        "ExecuteTime": {
          "end_time": "2019-12-24T14:38:25.657108Z",
          "start_time": "2019-12-24T14:38:25.647133Z"
        }
      }
    },
    {
      "cell_type": "code",
      "source": [
        "#génération valeur pour la courbe\n",
        "r0= -0.005\n",
        "a= 0.01\n",
        "b= 0\n",
        "sig= 0.001\n",
        "dico_courbe_taux ={\n",
        "    i:vasicek_new(i, b, r0, a, sig) for i in range(1, 11)\n",
        "}\n",
        "dico_courbe_taux"
      ],
      "outputs": [
        {
          "output_type": "execute_result",
          "execution_count": 30,
          "data": {
            "text/plain": [
              "{1: 0.242514521047985,\n",
              " 2: 0.48511567351575857,\n",
              " 3: 0.7228887393602974,\n",
              " 4: 0.9559175512433539,\n",
              " 5: 1.1842845172657772,\n",
              " 6: 1.4080706452750393,\n",
              " 7: 1.6273555667533413,\n",
              " 8: 1.8422175602936797,\n",
              " 9: 2.0527335746710125,\n",
              " 10: 2.25897925151568}"
            ]
          },
          "metadata": {}
        }
      ],
      "execution_count": 30,
      "metadata": {
        "ExecuteTime": {
          "end_time": "2019-12-24T14:38:25.677051Z",
          "start_time": "2019-12-24T14:38:25.661095Z"
        }
      }
    },
    {
      "cell_type": "code",
      "source": [
        "data= list(dico_courbe_taux.items())\n",
        "\n",
        "mpl.style.use('seaborn')\n",
        "fig, ax= plt.subplots()\n",
        "\n",
        "ax.plot([i[0] for i in data]\n",
        "            ,[i[1] for i in data]\n",
        "            , marker= '.'\n",
        "            , markerfacecolor= 'black'\n",
        "            , markersize= 9\n",
        "            , c= 'orange'\n",
        "            )\n",
        "\n",
        "ax.set_ylabel(\"Taux\", rotation= 0, fontsize= 12)\n",
        "ax.set_xlabel(\"Maturite\", fontsize= 12)\n",
        "ax.set_title(\"Courbe de taux\", fontsize= 18)\n",
        "\n",
        "plt.show()"
      ],
      "outputs": [
        {
          "output_type": "display_data",
          "data": {
            "image/png": "[encoded data removed]",
            "text/plain": [
              "<Figure size 576x396 with 1 Axes>"
            ]
          },
          "metadata": {}
        }
      ],
      "execution_count": 31,
      "metadata": {
        "ExecuteTime": {
          "end_time": "2019-12-24T14:38:25.952475Z",
          "start_time": "2019-12-24T14:38:25.681476Z"
        },
        "scrolled": false
      }
    },
    {
      "cell_type": "markdown",
      "source": [
        "### Remarque\n",
        "\n",
        "On pourrait penser que notre fonction n'est pas bonne, mais si la courbe des taux ressemble à une fonction affine, c'est pour plusieurs raisons:\n",
        "\n",
        "1. La vitesse de retour vers la moyenne de LT, a, est très faible\n",
        "\n",
        "2. Notre moyenne de long terme b = 0. \n",
        "\n",
        "Ces 2 facteurs cumulés font en sorte que la force de montée est plus forte que notre force de rappel, au moins jusqu'à ce qu'on atteigne le taux = 10, alors à partir de ce moment, la pente de notre courbe est négative et on retourne bien vers notre b = 0.\n",
        "\n",
        "Mais, si on modifie les extras paramètres qui sont fourni dans la consigne, (augmente b, augmente a, augmente r0 et sigma), on obtient bien une belle courbe de taux."
      ],
      "metadata": {}
    },
    {
      "cell_type": "markdown",
      "source": [
        "### 4)\n",
        "On isole désormais les trois facteurs générant des mouvements de courbe des taux : z∞ (shift), s (pente), σ2 (torsion). Calculez et écrivez une fonction renvoyant : $\\frac{\\partial V_i}{\\partial z_\\infty}$, \n",
        "$\\frac{\\partial V_i}{\\partial s}$,\n",
        "$\\frac{\\partial V_i}{\\partial \\sigma^2}$. \n",
        "On supposera que $V_i = CF_i e^{-iz(i, z_\\infty, s, \\sigma^2)}$"
      ],
      "metadata": {}
    },
    {
      "cell_type": "markdown",
      "source": [
        "$\\frac{\\partial V_i}{\\partial z_\\infty} = \\frac{\\partial(CFi e^{-iz(i, z_\\infty, s, \\sigma^2)})}{\\partial z_\\infty}$\n",
        "\n",
        "$= CF_i *(-i)* \\frac{\\partial z(i, z_\\infty, s, \\sigma^2)}{\\partial z_\\infty} e^{-iz(i, z_\\infty, s, \\sigma^2)}$ avec $-i \\frac{\\partial z(i, z_\\infty, s, \\sigma^2)}{\\partial z_\\infty} = i(\\frac{\\Phi(T)}{T}-1)$\n",
        "\n",
        "$\\frac{\\partial V_i}{\\partial z_\\infty} =  CF_i i(\\frac{\\Phi(T)}{T}-1) e^{-iz(i, z_\\infty, s, \\sigma^2)}$"
      ],
      "metadata": {}
    },
    {
      "cell_type": "code",
      "source": [
        "def derivative_z_infty(CF_T, T, b, r_0, a, sigma):\n",
        "    \"\"\"\n",
        "    Returns the derivative of V_T relative to z_infty.\n",
        "    \"\"\"\n",
        "    phi_T = (1-math.exp(-a*T))/a\n",
        "    return CF_T * T *(phi_T / T -1) * math.exp(-T * vasicek_new(T, b, r_0, a, sigma))"
      ],
      "outputs": [],
      "execution_count": 32,
      "metadata": {
        "ExecuteTime": {
          "end_time": "2019-12-24T14:38:25.965314Z",
          "start_time": "2019-12-24T14:38:25.956919Z"
        }
      }
    },
    {
      "cell_type": "markdown",
      "source": [
        "$\\frac{\\partial V_i}{\\partial s} = \\frac{\\partial(CFi e^{-iz(i, z_\\infty, s, \\sigma^2)})}{\\partial s}$\n",
        "\n",
        "$= CF_i *(-i)* \\frac{\\partial z(i, z_s, s, \\sigma^2)}{\\partial z_s} e^{-iz(i, z_\\infty, s, \\sigma^2)}$ avec $\\frac{\\partial z(i, z_s, s, \\sigma^2)}{\\partial z_s} = \\frac{\\Phi(T)}{T}$\n",
        "\n",
        "$\\frac{\\partial V_i}{\\partial s} = CF_i (-i) \\frac{\\Phi(T)}{T} e^{-i z(i, z_\\infty, s, \\sigma^2)}$"
      ],
      "metadata": {}
    },
    {
      "cell_type": "code",
      "source": [
        "def derivative_s(CF_T, T, b, r_0, a, sigma):\n",
        "    \"\"\"\n",
        "    Returns the derivative of V_T relative to s.\n",
        "    \"\"\"\n",
        "    phi_T = (1-math.exp(-a*T))/a\n",
        "    return CF_T * -T * phi_T / T * math.exp(-T * vasicek_new(T, b, r_0, a, sigma))"
      ],
      "outputs": [],
      "execution_count": 33,
      "metadata": {
        "ExecuteTime": {
          "end_time": "2019-12-24T14:38:25.984230Z",
          "start_time": "2019-12-24T14:38:25.970267Z"
        }
      }
    },
    {
      "cell_type": "markdown",
      "source": [
        "$\\frac{\\partial V_i}{\\partial \\sigma^2} = \\frac{\\partial(CFi e^{-iz(i, z_\\infty, s, \\sigma^2)})}{\\partial \\sigma^2}$\n",
        "\n",
        "$= CF_i (-i) \\frac{\\partial z}{\\partial \\sigma^2} e^{-iz(i, z_\\infty, s, \\sigma^2)}$ avec $\\frac{\\partial z}{\\partial \\sigma^2} = \\frac{\\partial z_\\infty}{\\partial \\sigma^2} + \\frac{1}{4a^3}$ et $\\frac{\\partial z_\\infty}{\\partial \\sigma^2} = \\frac{-1}{2a^2}$\n",
        "\n",
        "$\\frac{\\partial V_i}{\\partial \\sigma^2} = CF_i (-i) (\\frac{-1}{2a^2} + \\frac{1}{4a^3}) e^{-iz(i, z_\\infty, s, \\sigma^2)}$"
      ],
      "metadata": {}
    },
    {
      "cell_type": "code",
      "source": [
        "def derivative_sigma_2(CF_T, T, b, r_0, a, sigma):\n",
        "    \"\"\"\n",
        "    Returns the derivative of V_T relative to s.\n",
        "    \"\"\"\n",
        "    return CF_T * -T * (-1/(2*a**2) + 1/(4*a**3)) * math.exp(-T * vasicek_new(T, b, r_0, a, sigma))"
      ],
      "outputs": [],
      "execution_count": 34,
      "metadata": {
        "ExecuteTime": {
          "end_time": "2019-12-24T14:38:25.996343Z",
          "start_time": "2019-12-24T14:38:25.988220Z"
        }
      }
    },
    {
      "cell_type": "markdown",
      "source": [
        "### 5)\n",
        "*On souhaite dans un premier temps couvrir le portefeuille contre une shift. Calculez la quantité d’obligation souveraine française maturité 1 an à vendre.*"
      ],
      "metadata": {}
    },
    {
      "cell_type": "code",
      "source": [
        "derivative_z_infty(100, 10, b, r0, a, sig)"
      ],
      "outputs": [
        {
          "output_type": "execute_result",
          "execution_count": 35,
          "data": {
            "text/plain": [
              "-7.481546556649866e-09"
            ]
          },
          "metadata": {}
        }
      ],
      "execution_count": 35,
      "metadata": {
        "ExecuteTime": {
          "end_time": "2019-12-24T14:38:26.010175Z",
          "start_time": "2019-12-24T14:38:26.000187Z"
        }
      }
    },
    {
      "cell_type": "code",
      "source": [
        "derivative_sigma_2(100, 1, b, r0, a, sig)"
      ],
      "outputs": [
        {
          "output_type": "execute_result",
          "execution_count": 36,
          "data": {
            "text/plain": [
              "-19223982.66127721"
            ]
          },
          "metadata": {}
        }
      ],
      "execution_count": 36,
      "metadata": {
        "ExecuteTime": {
          "end_time": "2019-12-24T14:38:26.024139Z",
          "start_time": "2019-12-24T14:38:26.014150Z"
        }
      }
    },
    {
      "cell_type": "code",
      "source": [
        "derivative_sigma_2(9.227, 1, b, r0, a, sig)"
      ],
      "outputs": [
        {
          "output_type": "execute_result",
          "execution_count": 37,
          "data": {
            "text/plain": [
              "-1773796.8801560483"
            ]
          },
          "metadata": {}
        }
      ],
      "execution_count": 37,
      "metadata": {
        "ExecuteTime": {
          "end_time": "2019-12-24T14:38:26.038084Z",
          "start_time": "2019-12-24T14:38:26.027115Z"
        }
      }
    },
    {
      "cell_type": "code",
      "source": [
        "# on va donc chercher à résoudre une équation à 1 inconnu (le nombre d'actif de couverture que nous devons\n",
        "# détenir pour rendre insensible notre poretefeuille aux risque de shift)\n",
        "v2 = derivative_z_infty(100, 1, b, r0, a, sig)\n",
        "v1 = derivative_z_infty(9.227, 1, b, r0, a, sig)\n",
        "-v1/v2"
      ],
      "outputs": [
        {
          "output_type": "execute_result",
          "execution_count": 38,
          "data": {
            "text/plain": [
              "-0.09227"
            ]
          },
          "metadata": {}
        }
      ],
      "execution_count": 38,
      "metadata": {
        "ExecuteTime": {
          "end_time": "2019-12-24T14:38:26.051550Z",
          "start_time": "2019-12-24T14:38:26.041293Z"
        },
        "scrolled": true
      }
    },
    {
      "cell_type": "markdown",
      "source": [
        "### Remarque\n",
        "\n",
        "Ainsi, pour couvrir notre portefeuille contre le risque de court terme (${z_\\infty}$), il nous faudrait shorter 1 dixième d'une obligation française de maturité 1 an ne versant pas de coupon.\n",
        "\n",
        "Ce résultat n'est pas incohérent, car cette petite proportion est le résultat du faible cashflow généré par notre portefeuille par rapport à celui de l'obligation souveraine. "
      ],
      "metadata": {}
    },
    {
      "cell_type": "markdown",
      "source": [
        "### 6)\n",
        "*Calculez les quantités d’actifs à vendre pour couvrir le portefeuille contre les trois risques. Vous utiliserez les obligations françaises de maturités 1 an, 5 ans et 7 ans.*"
      ],
      "metadata": {}
    },
    {
      "cell_type": "code",
      "source": [
        "sigma_c= derivative_sigma_2(100.25, 7, b, r0, a, sig)\n",
        "sigma_p= derivative_sigma_2(5.527, 7, b, r0, a, sig)\n",
        "poids_c= -sigma_p/sigma_c\n",
        "print(\"Il faut {} pour se convrir contre le risque de concavité\".format(poids_c))\n",
        "\n",
        "pente_lambda= derivative_s(100, 5, b, r0, a, sig)\n",
        "pente_p= derivative_s(9.227, 5, b, r0, a, sig)\n",
        "pente_c= derivative_s(0.25, 5, b, r0, a, sig)\n",
        "poids_lambda= -(pente_p + pente_c*poids_c)/pente_lambda\n",
        "print(\"\\nIl faut {} pour se convrir contre le risque de pente\".format(poids_lambda))\n",
        "\n",
        "\n",
        "zoo_rho= derivative_z_infty(100, 1, b, r0, a, sig)\n",
        "zoo_p= derivative_z_infty(9.227, 1, b, r0, a, sig)\n",
        "zoo_c= derivative_z_infty(0.25, 1, b, r0, a, sig)\n",
        "zoo_lambda= derivative_z_infty(0, 1, b, r0, a, sig)\n",
        "poids_rho= -(zoo_p + poids_lambda*zoo_lambda + poids_c*zoo_c)/zoo_rho\n",
        "print(\"\\nIl faut {} pour se convrir contre le risque de shift\".format(poids_rho))"
      ],
      "outputs": [
        {
          "output_type": "stream",
          "name": "stdout",
          "text": [
            "Il faut -0.055132169576059854 pour se convrir contre le risque de concavité\n",
            "\n",
            "Il faut -0.09213216957605985 pour se convrir contre le risque de pente\n",
            "\n",
            "Il faut -0.09213216957605985 pour se convrir contre le risque de shift\n"
          ]
        }
      ],
      "execution_count": 39,
      "metadata": {
        "ExecuteTime": {
          "end_time": "2019-12-24T14:38:26.074988Z",
          "start_time": "2019-12-24T14:38:26.055723Z"
        }
      }
    },
    {
      "cell_type": "markdown",
      "source": [
        "### Remarque\n",
        "\n",
        "Le raisonnement est le suivant:\n",
        "\n",
        "On doit acheter 3 titres pour se convrir contre 3 types de riques (1an, 5ans et 7ans). On doit les acheter à la période 0, c'est à dire au moment ou on possède notre portefeuille. Ainsi, si on souhaite calculer la quantité de titre de CT nécessaire pour se couvrir contre le risque de $z_\\infty$, je dois considérer le $z_\\infty$ de mon portefeuille mais aussi celui des 3 autres titres de couverture.\n",
        "\n",
        "Pour me protéger face au risque de PENTE, je dois considérer ce risque pour mon portefeuille, mais aussi pour mes 2 titres de converture restants (le titre de maturité 5ans et celui de 7ans, car le titre de maturité 1 an qui nous a servi d'outil de couverture contre le risque de $z_\\infty$ n'existe plus à la maturité 5ans).\n",
        "\n",
        "Finalement, pour se couvrir contre le risque de CONCAVITE, il ne reste qu'un seul titre, celui avec la maturité de 7ans. Je peux facilement calculer la quantité de ce titre nécessaire pour me couvrir contre le risque de CONCAVITE. Puis à rebourt, on peut déterminer les quantités de titre à shorter pour se couvrir contre le risque de PENTE et infine on trouve le nombre de titre pour se protéger contre le risque de $z_\\infty$.\n",
        "Avec cette approche, on admet une intéraction entre les titres de couvertures.\n",
        "\n",
        "Cependant, les poids dans chacun des titres sont faible ce qui nous laisse penser que soit:\n",
        "- notre méthode n'est pas la bonne ce qui expliquerai ces résultats (et donc possiblement, la question 5) serait aussi fausse).\n",
        "- les extras paramètres (a, b, r0, sigma) qui nous ont été donné dans la consigne sont suffisament bizarre pour perturber nos résultats. Par bizarre, on part du principe que la moyenne de long terme du taux (b) est faible, tout comme la volatilité et la vitesse de retour à la normale (a).\n",
        "- ou bien les 2 premiers points à la fois."
      ],
      "metadata": {}
    }
  ],
  "metadata": {
    "kernelspec": {
      "display_name": "Python 3",
      "language": "python",
      "name": "python3"
    },
    "language_info": {
      "codemirror_mode": {
        "name": "ipython",
        "version": 3
      },
      "file_extension": ".py",
      "mimetype": "text/x-python",
      "name": "python",
      "nbconvert_exporter": "python",
      "pygments_lexer": "ipython3",
      "version": "3.7.4"
    },
    "nteract": {
      "version": "0.15.0"
    }
  },
  "nbformat": 4,
  "nbformat_minor": 2
}