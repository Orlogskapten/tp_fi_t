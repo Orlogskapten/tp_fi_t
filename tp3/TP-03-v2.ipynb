{
 "cells": [
  {
   "cell_type": "markdown",
   "metadata": {},
   "source": [
    "# TP 03\n",
    "\n",
    "On détient un portefeuille V contenant quatre obligations corporates émises en Euro, de nominal 100. Les obligations versent toute un coupon annuel à une même date.\n",
    "- Compagnie des Alpes, coupon 3.504 euros, maturité 24/10/2027, prix de marché 113\n",
    "- Korian, coupon 3.70, maturité 07/10/2025, prix de marché 110.23\n",
    "- Carrefour,coupon 1, maturité 27/10/2027, prix de marché 102.22\n",
    "- Total, coupon 1.023, maturité 27/10/2027, prix de marché 106.57\n",
    "\n",
    "Les titres sont équipondérés dans le portefeuille.\n",
    "\n",
    "L’objectif du TP est de construire un portefeuille couvert contre les variations de la courbe des taux. La table data_tp3.csv contient les courbes de taux souverains allemands et français."
   ]
  },
  {
   "cell_type": "code",
   "execution_count": 1,
   "metadata": {
    "ExecuteTime": {
     "end_time": "2019-11-29T13:19:48.362866Z",
     "start_time": "2019-11-29T13:19:47.061680Z"
    }
   },
   "outputs": [
    {
     "data": {
      "text/html": [
       "<div>\n",
       "<style scoped>\n",
       "    .dataframe tbody tr th:only-of-type {\n",
       "        vertical-align: middle;\n",
       "    }\n",
       "\n",
       "    .dataframe tbody tr th {\n",
       "        vertical-align: top;\n",
       "    }\n",
       "\n",
       "    .dataframe thead th {\n",
       "        text-align: right;\n",
       "    }\n",
       "</style>\n",
       "<table border=\"1\" class=\"dataframe\">\n",
       "  <thead>\n",
       "    <tr style=\"text-align: right;\">\n",
       "      <th></th>\n",
       "      <th>Maturity</th>\n",
       "      <th>rates</th>\n",
       "      <th>underlying</th>\n",
       "      <th>country</th>\n",
       "      <th>coupon</th>\n",
       "    </tr>\n",
       "  </thead>\n",
       "  <tbody>\n",
       "    <tr>\n",
       "      <td>0</td>\n",
       "      <td>0.083333</td>\n",
       "      <td>-0.00597</td>\n",
       "      <td>AZ066741 Corp</td>\n",
       "      <td>Germany</td>\n",
       "      <td>0.0</td>\n",
       "    </tr>\n",
       "    <tr>\n",
       "      <td>1</td>\n",
       "      <td>0.250000</td>\n",
       "      <td>-0.00633</td>\n",
       "      <td>AZ923444 Corp</td>\n",
       "      <td>Germany</td>\n",
       "      <td>0.0</td>\n",
       "    </tr>\n",
       "    <tr>\n",
       "      <td>2</td>\n",
       "      <td>0.500000</td>\n",
       "      <td>-0.00617</td>\n",
       "      <td>ZR961307 Corp</td>\n",
       "      <td>Germany</td>\n",
       "      <td>0.0</td>\n",
       "    </tr>\n",
       "    <tr>\n",
       "      <td>3</td>\n",
       "      <td>1.000000</td>\n",
       "      <td>-0.00645</td>\n",
       "      <td>AU025425 Corp</td>\n",
       "      <td>Germany</td>\n",
       "      <td>0.0</td>\n",
       "    </tr>\n",
       "    <tr>\n",
       "      <td>4</td>\n",
       "      <td>2.000000</td>\n",
       "      <td>-0.00661</td>\n",
       "      <td>ZR204844 Corp</td>\n",
       "      <td>Germany</td>\n",
       "      <td>0.0</td>\n",
       "    </tr>\n",
       "  </tbody>\n",
       "</table>\n",
       "</div>"
      ],
      "text/plain": [
       "   Maturity    rates     underlying  country  coupon\n",
       "0  0.083333 -0.00597  AZ066741 Corp  Germany     0.0\n",
       "1  0.250000 -0.00633  AZ923444 Corp  Germany     0.0\n",
       "2  0.500000 -0.00617  ZR961307 Corp  Germany     0.0\n",
       "3  1.000000 -0.00645  AU025425 Corp  Germany     0.0\n",
       "4  2.000000 -0.00661  ZR204844 Corp  Germany     0.0"
      ]
     },
     "execution_count": 1,
     "metadata": {},
     "output_type": "execute_result"
    }
   ],
   "source": [
    "import pandas as pd\n",
    "import numpy as np\n",
    "import matplotlib as mpl\n",
    "import matplotlib.pyplot as plt\n",
    "mpl.style.use('seaborn')\n",
    "\n",
    "df = pd.read_csv('data_tp3.csv', sep=';')\n",
    "df.head()"
   ]
  },
  {
   "cell_type": "markdown",
   "metadata": {},
   "source": [
    "## Exercice 1"
   ]
  },
  {
   "cell_type": "markdown",
   "metadata": {},
   "source": [
    "### 1.\n",
    "Représentez, sur un même graphique les courbes zéro-coupons françaises et allemandes. Comment expliquez-vous les différences obtenues ?"
   ]
  },
  {
   "cell_type": "code",
   "execution_count": 2,
   "metadata": {
    "ExecuteTime": {
     "end_time": "2019-11-29T13:19:48.719949Z",
     "start_time": "2019-11-29T13:19:48.365466Z"
    }
   },
   "outputs": [
    {
     "data": {
      "image/png": "[encoded data removed]",
      "text/plain": [
       "<Figure size 432x288 with 1 Axes>"
      ]
     },
     "metadata": {
      "needs_background": "light"
     },
     "output_type": "display_data"
    }
   ],
   "source": [
    "germany_sovereign = df[df['country']=='Germany']\n",
    "french_sovereign = df[df['country']=='France']\n",
    "plt.plot(germany_sovereign['Maturity'], germany_sovereign['rates'], label='Germany')\n",
    "plt.plot(french_sovereign['Maturity'], french_sovereign['rates'], label='France')\n",
    "plt.legend()\n",
    "plt.show()"
   ]
  },
  {
   "cell_type": "markdown",
   "metadata": {},
   "source": [
    "On peut voir que :\n",
    "\n",
    "- La courbe des taux zéro coupons française est plus élevée que la courbe allemande, ce qui souligne le fait que les investisseurs ont moins confiance en la France qu'en l'Allemagne\n",
    "- De manière générale, les courbes zéro coupons sont croissantes, ce qui souligne que les investisseurs ont moins confiance en l'avenir lointain que proche\n",
    "- De manière locale, sur les premières années, la courbe des taux est décroissante : on parle d'inversement de la courbe des taux. Cela représente le fait que les investisseurs ont moins confiance à très court terme en l'avenir des pays évoqués. La guerre commerciale entre les Etats-Unis et la Chine ainsi que le Brexit peuvent en partie expliquer ce phénomène."
   ]
  },
  {
   "cell_type": "markdown",
   "metadata": {},
   "source": [
    "### 2.\n",
    "Construire une dataframe contenant les flux de paiements reçus par échéances. Calculez le yield to maturity de chacune des positions, puis celle du portefeuille. Calculez ensuite sa duration (en fonction du yield to maturity)."
   ]
  },
  {
   "cell_type": "code",
   "execution_count": 3,
   "metadata": {
    "ExecuteTime": {
     "end_time": "2019-11-29T13:19:48.750051Z",
     "start_time": "2019-11-29T13:19:48.722814Z"
    }
   },
   "outputs": [
    {
     "data": {
      "text/html": [
       "<div>\n",
       "<style scoped>\n",
       "    .dataframe tbody tr th:only-of-type {\n",
       "        vertical-align: middle;\n",
       "    }\n",
       "\n",
       "    .dataframe tbody tr th {\n",
       "        vertical-align: top;\n",
       "    }\n",
       "\n",
       "    .dataframe thead th {\n",
       "        text-align: right;\n",
       "    }\n",
       "</style>\n",
       "<table border=\"1\" class=\"dataframe\">\n",
       "  <thead>\n",
       "    <tr style=\"text-align: right;\">\n",
       "      <th></th>\n",
       "      <th>name</th>\n",
       "      <th>maturity</th>\n",
       "      <th>coupon</th>\n",
       "      <th>price</th>\n",
       "      <th>nominal</th>\n",
       "    </tr>\n",
       "  </thead>\n",
       "  <tbody>\n",
       "    <tr>\n",
       "      <td>0</td>\n",
       "      <td>Compagnie des Alpes</td>\n",
       "      <td>8</td>\n",
       "      <td>3.504</td>\n",
       "      <td>113.00</td>\n",
       "      <td>100</td>\n",
       "    </tr>\n",
       "    <tr>\n",
       "      <td>1</td>\n",
       "      <td>Korian</td>\n",
       "      <td>6</td>\n",
       "      <td>3.700</td>\n",
       "      <td>110.23</td>\n",
       "      <td>100</td>\n",
       "    </tr>\n",
       "    <tr>\n",
       "      <td>2</td>\n",
       "      <td>Carrefour</td>\n",
       "      <td>8</td>\n",
       "      <td>1.000</td>\n",
       "      <td>102.22</td>\n",
       "      <td>100</td>\n",
       "    </tr>\n",
       "    <tr>\n",
       "      <td>3</td>\n",
       "      <td>Total</td>\n",
       "      <td>8</td>\n",
       "      <td>1.023</td>\n",
       "      <td>106.57</td>\n",
       "      <td>100</td>\n",
       "    </tr>\n",
       "  </tbody>\n",
       "</table>\n",
       "</div>"
      ],
      "text/plain": [
       "                  name  maturity  coupon   price  nominal\n",
       "0  Compagnie des Alpes         8   3.504  113.00      100\n",
       "1               Korian         6   3.700  110.23      100\n",
       "2            Carrefour         8   1.000  102.22      100\n",
       "3                Total         8   1.023  106.57      100"
      ]
     },
     "execution_count": 3,
     "metadata": {},
     "output_type": "execute_result"
    }
   ],
   "source": [
    "portfolio = pd.DataFrame({\n",
    "    'name':['Compagnie des Alpes', 'Korian', 'Carrefour','Total'],\n",
    "    'maturity': pd.to_datetime(['24/10/2027', '07/10/2025', '27/10/2027', '27/10/2027']),\n",
    "    'coupon':[3.504, 3.7, 1, 1.023],\n",
    "    'price':[113, 110.23, 102.22, 106.57],\n",
    "    'nominal':100\n",
    "})\n",
    "# On approxime : on prend uniquement l'écart entre les années\n",
    "portfolio['maturity'] = [(pd.to_datetime(mat).year-pd.to_datetime('24/10/2019').year) for mat in portfolio['maturity']]\n",
    "portfolio"
   ]
  },
  {
   "cell_type": "code",
   "execution_count": 4,
   "metadata": {
    "ExecuteTime": {
     "end_time": "2019-11-29T13:19:48.796401Z",
     "start_time": "2019-11-29T13:19:48.753345Z"
    }
   },
   "outputs": [
    {
     "data": {
      "text/html": [
       "<div>\n",
       "<style scoped>\n",
       "    .dataframe tbody tr th:only-of-type {\n",
       "        vertical-align: middle;\n",
       "    }\n",
       "\n",
       "    .dataframe tbody tr th {\n",
       "        vertical-align: top;\n",
       "    }\n",
       "\n",
       "    .dataframe thead th {\n",
       "        text-align: right;\n",
       "    }\n",
       "</style>\n",
       "<table border=\"1\" class=\"dataframe\">\n",
       "  <thead>\n",
       "    <tr style=\"text-align: right;\">\n",
       "      <th></th>\n",
       "      <th>maturity</th>\n",
       "      <th>cash_flow</th>\n",
       "    </tr>\n",
       "  </thead>\n",
       "  <tbody>\n",
       "    <tr>\n",
       "      <td>0</td>\n",
       "      <td>1</td>\n",
       "      <td>8</td>\n",
       "    </tr>\n",
       "    <tr>\n",
       "      <td>1</td>\n",
       "      <td>2</td>\n",
       "      <td>8</td>\n",
       "    </tr>\n",
       "    <tr>\n",
       "      <td>2</td>\n",
       "      <td>3</td>\n",
       "      <td>8</td>\n",
       "    </tr>\n",
       "    <tr>\n",
       "      <td>3</td>\n",
       "      <td>4</td>\n",
       "      <td>8</td>\n",
       "    </tr>\n",
       "    <tr>\n",
       "      <td>4</td>\n",
       "      <td>5</td>\n",
       "      <td>8</td>\n",
       "    </tr>\n",
       "    <tr>\n",
       "      <td>5</td>\n",
       "      <td>6</td>\n",
       "      <td>108</td>\n",
       "    </tr>\n",
       "    <tr>\n",
       "      <td>6</td>\n",
       "      <td>7</td>\n",
       "      <td>8</td>\n",
       "    </tr>\n",
       "    <tr>\n",
       "      <td>7</td>\n",
       "      <td>8</td>\n",
       "      <td>308</td>\n",
       "    </tr>\n",
       "  </tbody>\n",
       "</table>\n",
       "</div>"
      ],
      "text/plain": [
       "   maturity  cash_flow\n",
       "0         1          8\n",
       "1         2          8\n",
       "2         3          8\n",
       "3         4          8\n",
       "4         5          8\n",
       "5         6        108\n",
       "6         7          8\n",
       "7         8        308"
      ]
     },
     "execution_count": 4,
     "metadata": {},
     "output_type": "execute_result"
    }
   ],
   "source": [
    "# ========== Cash flows ==========\n",
    "cash_flows = pd.DataFrame({\n",
    "    'maturity': range(1,9),\n",
    "    'cash_flow': 0\n",
    "})\n",
    "for t in range(1,9):\n",
    "    for i,row in portfolio.iterrows():\n",
    "        cash_flows['cash_flow'][t-1] += row['coupon']\n",
    "        if(t==row['maturity']):\n",
    "            cash_flows['cash_flow'][t-1] += row['nominal']\n",
    "cash_flows"
   ]
  },
  {
   "cell_type": "code",
   "execution_count": 5,
   "metadata": {
    "ExecuteTime": {
     "end_time": "2019-11-29T13:19:49.051390Z",
     "start_time": "2019-11-29T13:19:48.801075Z"
    },
    "code_folding": [
     10,
     25
    ]
   },
   "outputs": [],
   "source": [
    "# ========== Yield to Maturity ==========\n",
    "from scipy.optimize import newton\n",
    "def yield_to_maturity(P,c,T,N):\n",
    "    \"\"\"\n",
    "    Renvoie le yield to maturity d'une obligation. Paramètres :\n",
    "        - P : le prix de l'obligation\n",
    "        - c : le taux de coupon de l'obligation\n",
    "        - T : la maturité de l'obligation\n",
    "        - N : le nominal de l'obligation\n",
    "    \"\"\"\n",
    "    def f(x,P,c,T,N):\n",
    "        \"\"\"\n",
    "        Approxime la fonction de cash flows. Paramètres :\n",
    "            - x : la variable permettant l'optimisation par Newton\n",
    "            - P : le prix de l'obligation\n",
    "            - c : le taux de coupon de l'obligation\n",
    "            - T : la maturité de l'obligation\n",
    "            - N : le nominal de l'obligation\n",
    "        \"\"\"\n",
    "        result = P\n",
    "        for i in range(1,int(T)):\n",
    "            result -= c*N*(x**i)\n",
    "        result -= N*(1+c)*(x**T)\n",
    "        return result\n",
    "    \n",
    "    def fprime(x,P,c,T,N):\n",
    "        \"\"\"\n",
    "        Dérivée de l'approximation de la fonction de cash flows. Paramètres :\n",
    "            - x : la variable permettant l'optimisation par Newton\n",
    "            - P : le prix de l'obligation\n",
    "            - c : le taux de coupon de l'obligation\n",
    "            - T : la maturité de l'obligation\n",
    "            - N : le nominal de l'obligation\n",
    "        \"\"\"\n",
    "        result = 0\n",
    "        for i in range(1,int(T)):\n",
    "            result -= i*c*N*(x**(i-1))\n",
    "        result -= T*N*(1+c)*(x**(T-1))\n",
    "        return result\n",
    "    \n",
    "    x = newton(func=f,\n",
    "           x0=1.1, # puisque y est de l'ordre 0.01 et que x = 1/(1+y) 1.1 semble etre un ordre de grandeur raisonable\n",
    "           fprime=fprime,\n",
    "           args=(P,c,T,N)\n",
    "        )\n",
    "    y = 1/x - 1\n",
    "    return y"
   ]
  },
  {
   "cell_type": "code",
   "execution_count": 6,
   "metadata": {
    "ExecuteTime": {
     "end_time": "2019-11-29T13:19:49.084090Z",
     "start_time": "2019-11-29T13:19:49.054331Z"
    }
   },
   "outputs": [
    {
     "data": {
      "text/html": [
       "<div>\n",
       "<style scoped>\n",
       "    .dataframe tbody tr th:only-of-type {\n",
       "        vertical-align: middle;\n",
       "    }\n",
       "\n",
       "    .dataframe tbody tr th {\n",
       "        vertical-align: top;\n",
       "    }\n",
       "\n",
       "    .dataframe thead th {\n",
       "        text-align: right;\n",
       "    }\n",
       "</style>\n",
       "<table border=\"1\" class=\"dataframe\">\n",
       "  <thead>\n",
       "    <tr style=\"text-align: right;\">\n",
       "      <th></th>\n",
       "      <th>name</th>\n",
       "      <th>maturity</th>\n",
       "      <th>coupon</th>\n",
       "      <th>price</th>\n",
       "      <th>nominal</th>\n",
       "      <th>yield_to_maturity</th>\n",
       "    </tr>\n",
       "  </thead>\n",
       "  <tbody>\n",
       "    <tr>\n",
       "      <td>0</td>\n",
       "      <td>Compagnie des Alpes</td>\n",
       "      <td>8</td>\n",
       "      <td>3.504</td>\n",
       "      <td>113.00</td>\n",
       "      <td>100</td>\n",
       "      <td>0.017486</td>\n",
       "    </tr>\n",
       "    <tr>\n",
       "      <td>1</td>\n",
       "      <td>Korian</td>\n",
       "      <td>6</td>\n",
       "      <td>3.700</td>\n",
       "      <td>110.23</td>\n",
       "      <td>100</td>\n",
       "      <td>0.018810</td>\n",
       "    </tr>\n",
       "    <tr>\n",
       "      <td>2</td>\n",
       "      <td>Carrefour</td>\n",
       "      <td>8</td>\n",
       "      <td>1.000</td>\n",
       "      <td>102.22</td>\n",
       "      <td>100</td>\n",
       "      <td>0.007135</td>\n",
       "    </tr>\n",
       "    <tr>\n",
       "      <td>3</td>\n",
       "      <td>Total</td>\n",
       "      <td>8</td>\n",
       "      <td>1.023</td>\n",
       "      <td>106.57</td>\n",
       "      <td>100</td>\n",
       "      <td>0.001945</td>\n",
       "    </tr>\n",
       "  </tbody>\n",
       "</table>\n",
       "</div>"
      ],
      "text/plain": [
       "                  name  maturity  coupon   price  nominal  yield_to_maturity\n",
       "0  Compagnie des Alpes         8   3.504  113.00      100           0.017486\n",
       "1               Korian         6   3.700  110.23      100           0.018810\n",
       "2            Carrefour         8   1.000  102.22      100           0.007135\n",
       "3                Total         8   1.023  106.57      100           0.001945"
      ]
     },
     "execution_count": 6,
     "metadata": {},
     "output_type": "execute_result"
    }
   ],
   "source": [
    "portfolio['yield_to_maturity'] = [yield_to_maturity(row['price'],\n",
    "                                                    row['coupon'] / row['nominal'],\n",
    "                                                    row['maturity'],\n",
    "                                                    row['nominal']) \n",
    "                                  for i,row in portfolio.iterrows()]\n",
    "portfolio"
   ]
  },
  {
   "cell_type": "code",
   "execution_count": 7,
   "metadata": {
    "ExecuteTime": {
     "end_time": "2019-11-29T13:19:49.096406Z",
     "start_time": "2019-11-29T13:19:49.085804Z"
    }
   },
   "outputs": [
    {
     "data": {
      "text/plain": [
       "0.011344050816573747"
      ]
     },
     "execution_count": 7,
     "metadata": {},
     "output_type": "execute_result"
    }
   ],
   "source": [
    "portfolio['yield_to_maturity'].mean() # Le yield to maturity est un opérateur linéaire"
   ]
  },
  {
   "cell_type": "code",
   "execution_count": 8,
   "metadata": {
    "ExecuteTime": {
     "end_time": "2019-11-29T13:19:49.106247Z",
     "start_time": "2019-11-29T13:19:49.101243Z"
    }
   },
   "outputs": [],
   "source": [
    "# ========== Duration ==========\n",
    "def duration(c,T,N,y):\n",
    "    \"\"\"\n",
    "    Renvoie la duration d'une obligation. Paramètres :\n",
    "        - c : le taux de coupon de l'obligation\n",
    "        - T : la maturité de l'obligation\n",
    "        - N : le nominal de l'obligation\n",
    "        - y : le yield to return de l'obligation\n",
    "    \"\"\"\n",
    "    result = 0\n",
    "    for i in range(1,int(T)):\n",
    "        CF_i = c*N\n",
    "        result -= (i*CF_i)/((1+y)**(i+1))\n",
    "    CF_T = c*N+N\n",
    "    result -= (T*CF_T)/((1+y)**(T+1))\n",
    "    return result"
   ]
  },
  {
   "cell_type": "code",
   "execution_count": 9,
   "metadata": {
    "ExecuteTime": {
     "end_time": "2019-11-29T13:19:49.132363Z",
     "start_time": "2019-11-29T13:19:49.110152Z"
    }
   },
   "outputs": [
    {
     "data": {
      "text/html": [
       "<div>\n",
       "<style scoped>\n",
       "    .dataframe tbody tr th:only-of-type {\n",
       "        vertical-align: middle;\n",
       "    }\n",
       "\n",
       "    .dataframe tbody tr th {\n",
       "        vertical-align: top;\n",
       "    }\n",
       "\n",
       "    .dataframe thead th {\n",
       "        text-align: right;\n",
       "    }\n",
       "</style>\n",
       "<table border=\"1\" class=\"dataframe\">\n",
       "  <thead>\n",
       "    <tr style=\"text-align: right;\">\n",
       "      <th></th>\n",
       "      <th>name</th>\n",
       "      <th>maturity</th>\n",
       "      <th>coupon</th>\n",
       "      <th>price</th>\n",
       "      <th>nominal</th>\n",
       "      <th>yield_to_maturity</th>\n",
       "      <th>duration</th>\n",
       "    </tr>\n",
       "  </thead>\n",
       "  <tbody>\n",
       "    <tr>\n",
       "      <td>0</td>\n",
       "      <td>Compagnie des Alpes</td>\n",
       "      <td>8</td>\n",
       "      <td>3.504</td>\n",
       "      <td>113.00</td>\n",
       "      <td>100</td>\n",
       "      <td>0.017486</td>\n",
       "      <td>-796.884068</td>\n",
       "    </tr>\n",
       "    <tr>\n",
       "      <td>1</td>\n",
       "      <td>Korian</td>\n",
       "      <td>6</td>\n",
       "      <td>3.700</td>\n",
       "      <td>110.23</td>\n",
       "      <td>100</td>\n",
       "      <td>0.018810</td>\n",
       "      <td>-596.997700</td>\n",
       "    </tr>\n",
       "    <tr>\n",
       "      <td>2</td>\n",
       "      <td>Carrefour</td>\n",
       "      <td>8</td>\n",
       "      <td>1.000</td>\n",
       "      <td>102.22</td>\n",
       "      <td>100</td>\n",
       "      <td>0.007135</td>\n",
       "      <td>-784.749514</td>\n",
       "    </tr>\n",
       "    <tr>\n",
       "      <td>3</td>\n",
       "      <td>Total</td>\n",
       "      <td>8</td>\n",
       "      <td>1.023</td>\n",
       "      <td>106.57</td>\n",
       "      <td>100</td>\n",
       "      <td>0.001945</td>\n",
       "      <td>-822.482275</td>\n",
       "    </tr>\n",
       "  </tbody>\n",
       "</table>\n",
       "</div>"
      ],
      "text/plain": [
       "                  name  maturity  coupon   price  nominal  yield_to_maturity  \\\n",
       "0  Compagnie des Alpes         8   3.504  113.00      100           0.017486   \n",
       "1               Korian         6   3.700  110.23      100           0.018810   \n",
       "2            Carrefour         8   1.000  102.22      100           0.007135   \n",
       "3                Total         8   1.023  106.57      100           0.001945   \n",
       "\n",
       "     duration  \n",
       "0 -796.884068  \n",
       "1 -596.997700  \n",
       "2 -784.749514  \n",
       "3 -822.482275  "
      ]
     },
     "execution_count": 9,
     "metadata": {},
     "output_type": "execute_result"
    }
   ],
   "source": [
    "portfolio['duration'] = [duration(row['coupon'] / row['nominal'],\n",
    "                                    row['maturity'],\n",
    "                                    row['nominal'],\n",
    "                                    row['yield_to_maturity']) \n",
    "                                  for i,row in portfolio.iterrows()]\n",
    "portfolio"
   ]
  },
  {
   "cell_type": "code",
   "execution_count": 10,
   "metadata": {
    "ExecuteTime": {
     "end_time": "2019-11-29T13:19:49.142296Z",
     "start_time": "2019-11-29T13:19:49.134634Z"
    }
   },
   "outputs": [
    {
     "data": {
      "text/plain": [
       "-750.2783893053507"
      ]
     },
     "execution_count": 10,
     "metadata": {},
     "output_type": "execute_result"
    }
   ],
   "source": [
    "portfolio['duration'].mean() # La duration est un opérateur linéaire"
   ]
  },
  {
   "cell_type": "markdown",
   "metadata": {},
   "source": [
    "### 3.\n",
    "On appelle $D_i$ l’exposition du portefeuille à un mouvement du taux zéro-coupon i. L’exposition du portefeuille à l’ensemble des taux est $D =\\sum_i D_i$ avec $D_i=\\frac{\\partial V_i}{\\partial z_i}$ et $V_i=\\frac{CF_i}{(1+z_i)^i}$\n",
    "\n",
    "Calculez D pour les taux zéro-coupons allemands puis français. Comment expliquer la différence obtenue ? Pour les deux courbes de taux\n",
    "à quelle maturité la duration est-elle la plus forte ? Pourquoi ?"
   ]
  },
  {
   "cell_type": "markdown",
   "metadata": {},
   "source": [
    "$V_i=\\frac{CF_i}{(1+z_i)^i}=CF_i(1+z_i)^{-i}$\n",
    "\n",
    "$D_i=\\frac{\\partial V_i}{\\partial z_i} = -iCF_i(1+z_i)^{-(i+1)} = \\frac{-iCF_i}{(1+z_i)^{i+1}}$"
   ]
  },
  {
   "cell_type": "code",
   "execution_count": 11,
   "metadata": {
    "ExecuteTime": {
     "end_time": "2019-11-29T13:19:49.218892Z",
     "start_time": "2019-11-29T13:19:49.143941Z"
    }
   },
   "outputs": [
    {
     "data": {
      "text/html": [
       "<div>\n",
       "<style scoped>\n",
       "    .dataframe tbody tr th:only-of-type {\n",
       "        vertical-align: middle;\n",
       "    }\n",
       "\n",
       "    .dataframe tbody tr th {\n",
       "        vertical-align: top;\n",
       "    }\n",
       "\n",
       "    .dataframe thead th {\n",
       "        text-align: right;\n",
       "    }\n",
       "</style>\n",
       "<table border=\"1\" class=\"dataframe\">\n",
       "  <thead>\n",
       "    <tr style=\"text-align: right;\">\n",
       "      <th></th>\n",
       "      <th>maturity</th>\n",
       "      <th>french_duration</th>\n",
       "      <th>german_duration</th>\n",
       "    </tr>\n",
       "  </thead>\n",
       "  <tbody>\n",
       "    <tr>\n",
       "      <td>0</td>\n",
       "      <td>1</td>\n",
       "      <td>-8.102087</td>\n",
       "      <td>-8.104207</td>\n",
       "    </tr>\n",
       "    <tr>\n",
       "      <td>1</td>\n",
       "      <td>2</td>\n",
       "      <td>-16.301329</td>\n",
       "      <td>-16.321521</td>\n",
       "    </tr>\n",
       "    <tr>\n",
       "      <td>2</td>\n",
       "      <td>3</td>\n",
       "      <td>-24.573865</td>\n",
       "      <td>-24.674980</td>\n",
       "    </tr>\n",
       "    <tr>\n",
       "      <td>3</td>\n",
       "      <td>4</td>\n",
       "      <td>-32.828635</td>\n",
       "      <td>-33.090557</td>\n",
       "    </tr>\n",
       "    <tr>\n",
       "      <td>4</td>\n",
       "      <td>5</td>\n",
       "      <td>-41.003217</td>\n",
       "      <td>-41.498277</td>\n",
       "    </tr>\n",
       "    <tr>\n",
       "      <td>5</td>\n",
       "      <td>6</td>\n",
       "      <td>-665.595348</td>\n",
       "      <td>-675.690762</td>\n",
       "    </tr>\n",
       "    <tr>\n",
       "      <td>6</td>\n",
       "      <td>7</td>\n",
       "      <td>-57.417590</td>\n",
       "      <td>-58.554375</td>\n",
       "    </tr>\n",
       "    <tr>\n",
       "      <td>7</td>\n",
       "      <td>8</td>\n",
       "      <td>-2525.831055</td>\n",
       "      <td>-2580.036356</td>\n",
       "    </tr>\n",
       "  </tbody>\n",
       "</table>\n",
       "</div>"
      ],
      "text/plain": [
       "   maturity  french_duration  german_duration\n",
       "0         1        -8.102087        -8.104207\n",
       "1         2       -16.301329       -16.321521\n",
       "2         3       -24.573865       -24.674980\n",
       "3         4       -32.828635       -33.090557\n",
       "4         5       -41.003217       -41.498277\n",
       "5         6      -665.595348      -675.690762\n",
       "6         7       -57.417590       -58.554375\n",
       "7         8     -2525.831055     -2580.036356"
      ]
     },
     "execution_count": 11,
     "metadata": {},
     "output_type": "execute_result"
    }
   ],
   "source": [
    "durations = pd.DataFrame({\n",
    "    'maturity': range(1,9)\n",
    "})\n",
    "durations['french_duration'] = [(-i*cash_flows[cash_flows['maturity']==i]['cash_flow'].values[0])/\n",
    "                                ((1+french_sovereign[french_sovereign['Maturity']==i]['rates'].values[0])**(i+1))\n",
    "                                for i in range(1,9)]\n",
    "durations['german_duration'] = [(-i*cash_flows[cash_flows['maturity']==i]['cash_flow'].values[0])/\n",
    "                                ((1+germany_sovereign[germany_sovereign['Maturity']==i]['rates'].values[0])**(i+1))\n",
    "                                for i in range(1,9)]\n",
    "\n",
    "durations"
   ]
  },
  {
   "cell_type": "code",
   "execution_count": 12,
   "metadata": {
    "ExecuteTime": {
     "end_time": "2019-11-29T13:19:49.471999Z",
     "start_time": "2019-11-29T13:19:49.222126Z"
    }
   },
   "outputs": [
    {
     "data": {
      "image/png": "[encoded data removed]",
      "text/plain": [
       "<Figure size 432x288 with 1 Axes>"
      ]
     },
     "metadata": {
      "needs_background": "light"
     },
     "output_type": "display_data"
    }
   ],
   "source": [
    "plt.plot(durations['maturity'], durations['french_duration'], label='French Duration')\n",
    "plt.plot(durations['maturity'], durations['german_duration'], label='German Duration')\n",
    "plt.xlabel('Maturity')\n",
    "plt.ylabel('Duration')\n",
    "plt.legend()\n",
    "plt.show()"
   ]
  },
  {
   "cell_type": "markdown",
   "metadata": {},
   "source": [
    "Les différences entre les durations françaises et allemandes de notre portefeuille sont très faibles, ce qui s'explique par le fait qu'il est équitablement constitués d'obligations françaises et allemandes.\n",
    "\n",
    "Les durations sont les plus fortes aux 8emes et 6emes maturités, car ce sont les maturités lors desquelles nous recevons les nominaux des obligations."
   ]
  },
  {
   "cell_type": "markdown",
   "metadata": {},
   "source": [
    "### 4.\n",
    "On souhaite désormais couvrir le risque d’un mouvement de courbe des taux. Pour cela, on va shorter des obligations souveraines (on utilise les obligations présentes dans la Table data_tp3). Nous cherchons donc à nous immuniser contre 8 risques, correspondants aux 8 maturités de la courbe des taux. Pour cela, on considère 8 obligations souveraines : O1, ..., O8 et l’on cherche les quantités φ1, ...φ8 annulant un mouvement de la courbe des taux.\n",
    "\n",
    "On pose D, le vecteur de durations du portefeuille aux maturités 1,...,8 : \n",
    "$D = \\begin{bmatrix} D1 & ... & D8\\end{bmatrix}$ ; Φ, le vecteur de quantités des actifs souverains $Φ = \\begin{bmatrix}φ1 & ... & φ8\\end{bmatrix}$ ; et $D_0$ la matrice carrée telle que :\n",
    "\n",
    "$D_0=\\begin{bmatrix}\n",
    "\\frac{\\partial O_1}{\\partial z_1} & ... & \\frac{\\partial O_8}{\\partial z_1} \\\\\n",
    "... &  & ... \\\\\n",
    "\\frac{\\partial O_1}{\\partial z_8} & ... & \\frac{\\partial O_8}{\\partial z_8}\n",
    "\\end{bmatrix}$\n",
    "\n",
    "On rappelle qui si $D_O$ est inversible, alors : $\\Phi = -DD_0^{-1}$\n",
    "\n",
    "Dans un premier temps, on cherche se couvrir contre des mouvements de taux 1 an et de taux 8 ans. On utilise les obligations souveraines correspondants aux maturités 1 et 8.\n",
    "**Dans Python, utiliser les fonctions np.dot et np.linalg.inv**."
   ]
  },
  {
   "cell_type": "code",
   "execution_count": 13,
   "metadata": {
    "ExecuteTime": {
     "end_time": "2019-11-29T13:19:49.502629Z",
     "start_time": "2019-11-29T13:19:49.474900Z"
    }
   },
   "outputs": [
    {
     "data": {
      "text/plain": [
       "array([14.9340803 , -1.79364645])"
      ]
     },
     "execution_count": 13,
     "metadata": {},
     "output_type": "execute_result"
    }
   ],
   "source": [
    "# Couverture Contre les mouvements de taux allemands\n",
    "# D : duration \n",
    "D=np.array([durations['german_duration'].values[0], durations['german_duration'].values[-1]])\n",
    "# D_O : duration des obligations allemandes de maturités 1 et 8\n",
    "germ_1 = germany_sovereign.iloc[3,:]\n",
    "germ_8 = germany_sovereign.iloc[10,:]\n",
    "D_O = np.array([\n",
    "    [duration(germ_1['coupon'], 1, 100, germ_1['rates']), duration(germ_8['coupon'], 1, 100, germ_8['rates'])],\n",
    "    [duration(germ_1['coupon'], 8, 100, germ_1['rates']), duration(germ_8['coupon'], 8, 100, germ_8['rates'])]\n",
    "])\n",
    "phi = np.dot(-D, np.linalg.inv(D_O))\n",
    "phi"
   ]
  },
  {
   "cell_type": "code",
   "execution_count": 14,
   "metadata": {
    "ExecuteTime": {
     "end_time": "2019-11-29T13:19:49.513516Z",
     "start_time": "2019-11-29T13:19:49.502629Z"
    }
   },
   "outputs": [
    {
     "data": {
      "text/plain": [
       "array([   -8.10420712, -2580.0363556 ])"
      ]
     },
     "execution_count": 14,
     "metadata": {},
     "output_type": "execute_result"
    }
   ],
   "source": [
    "D"
   ]
  },
  {
   "cell_type": "code",
   "execution_count": 15,
   "metadata": {
    "ExecuteTime": {
     "end_time": "2019-11-29T13:19:49.526054Z",
     "start_time": "2019-11-29T13:19:49.516901Z"
    }
   },
   "outputs": [
    {
     "data": {
      "text/plain": [
       "array([[ -101.30258896,  -151.5417846 ],\n",
       "       [ -847.97380742, -2700.18294217]])"
      ]
     },
     "execution_count": 15,
     "metadata": {},
     "output_type": "execute_result"
    }
   ],
   "source": [
    "D_O"
   ]
  },
  {
   "cell_type": "code",
   "execution_count": 16,
   "metadata": {
    "ExecuteTime": {
     "end_time": "2019-11-29T13:19:49.546833Z",
     "start_time": "2019-11-29T13:19:49.528814Z"
    }
   },
   "outputs": [
    {
     "data": {
      "text/plain": [
       "array([30.39699854, -3.64527682])"
      ]
     },
     "execution_count": 16,
     "metadata": {},
     "output_type": "execute_result"
    }
   ],
   "source": [
    "# Couverture Contre les mouvements de taux français\n",
    "# D : duration \n",
    "D=np.array([durations['french_duration'].values[0], durations['french_duration'].values[-1]])\n",
    "# D_O : duration des obligations fr de maturités 1 et 8\n",
    "french_1 = french_sovereign.iloc[3,:]\n",
    "french_8 = french_sovereign.iloc[10,:]\n",
    "D_O = np.array([\n",
    "    [duration(french_1['coupon'], 1, 100, french_1['rates']), duration(french_8['coupon'], 1, 100, french_8['rates'])],\n",
    "    [duration(french_1['coupon'], 8, 100, french_1['rates']), duration(french_8['coupon'], 8, 100, french_8['rates'])]\n",
    "])\n",
    "phi = np.dot(-D, np.linalg.inv(D_O))\n",
    "phi"
   ]
  },
  {
   "cell_type": "markdown",
   "metadata": {},
   "source": [
    "### 5.\n",
    "Calculez désormais les quantités d’actifs nécessaires pour se couvrir contre une variation de l’ensemble de la courbe des taux."
   ]
  },
  {
   "cell_type": "markdown",
   "metadata": {},
   "source": [
    "## Exercice 2\n",
    "On souhaite désormais se couvrir en supposant que la courbe des taux est générée par le modèle de Vasicek. Dans ce cadre, la diffusion du taux court r<sub>t</sub> est donnée par :\n",
    "\n",
    "$dr_t = a(b-r_t)dt + \\sigma d W_t$ avec a > 0 la vitesse de retour à la moyenne, b la moyenne de long terme, σ > 0 l’écart-type et Wt un mouvement brownien.\n",
    "\n",
    "Tout d’abord on souhaite approximer l’équation continue afin d’effectuer des simulations. On divise l’intervalle [0, T] en k intervalles de longueurs h tel que T = hk. Dans le cas où un intervalle dure un mois, alors h = 1 12 et k = 36 si T = 3.\n",
    "\n",
    "Une version discrète est donnée par : $r_{t+1} = r_t + a(b-r_t)h + \\sigma \\sqrt{h} z_{t+1}$ avec $z_t$ ~ $N(0,1)$"
   ]
  },
  {
   "cell_type": "markdown",
   "metadata": {},
   "source": [
    "### 1.\n",
    "Simulez des processus pour r0 = 0.01, a = 0.02, σ = 0.02, b = 0.005, h = 112 et k = 36. Puis pour a = 0.1. Qu’observez-vous ?"
   ]
  },
  {
   "cell_type": "code",
   "execution_count": 17,
   "metadata": {
    "ExecuteTime": {
     "end_time": "2019-11-29T13:19:49.562689Z",
     "start_time": "2019-11-29T13:19:49.550721Z"
    }
   },
   "outputs": [],
   "source": [
    "import math\n",
    "def discrete_vasicek(r_t, a, b, h, sigma):\n",
    "    \"\"\"\n",
    "    Returns the r_t_plus_1 based on the discrete version of Vasicek model.\n",
    "    Parameters:\n",
    "        - r_t: the rate in the current time period.\n",
    "        - a:tThe speed of come back to b\n",
    "        - b: the long term mean\n",
    "        - h: length of the time intervals (in year)\n",
    "        - sigma:\n",
    "    \"\"\"\n",
    "    z_t_plus_1 = np.random.normal()\n",
    "    return r_t + a * (b - r_t) * h + sigma * math.sqrt(h) * z_t_plus_1"
   ]
  },
  {
   "cell_type": "code",
   "execution_count": 18,
   "metadata": {
    "ExecuteTime": {
     "end_time": "2019-11-29T13:19:49.764855Z",
     "start_time": "2019-11-29T13:19:49.564684Z"
    }
   },
   "outputs": [
    {
     "data": {
      "image/png": "[encoded data removed]",
      "text/plain": [
       "<Figure size 432x288 with 1 Axes>"
      ]
     },
     "metadata": {
      "needs_background": "light"
     },
     "output_type": "display_data"
    }
   ],
   "source": [
    "r = np.array([.01])\n",
    "a = .02\n",
    "sigma = .02\n",
    "b = .005\n",
    "h = 1/12\n",
    "k = 36\n",
    "\n",
    "for t in range(1, k+1):\n",
    "    r = np.append(r, discrete_vasicek(r[-1], a, b, h, sigma))\n",
    "    \n",
    "plt.plot(range(k+1), r)\n",
    "plt.hlines(y=b, xmin=0, xmax=k+1, colors='yellow', label='Long term mean')\n",
    "plt.legend()\n",
    "plt.show()"
   ]
  },
  {
   "cell_type": "markdown",
   "metadata": {},
   "source": [
    "On peut observer que, selon le modèle de Vasicek, notre taux fluctue autour de la moyenne de long terme, en l'occurence b = 0.005."
   ]
  },
  {
   "cell_type": "markdown",
   "metadata": {},
   "source": [
    "### 2.\n",
    "On appelle z(T) le taux zéro-coupon de maturité T tel que : $z(T)=z_\\infty + s \\frac{\\Phi(T)}{T} + \\frac{\\sigma^2}{4a^3} \\frac{\\Phi(T)^2}{T}$ avec :\n",
    "\n",
    "- $z_\\infty = b- \\frac{\\sigma^2}{2a^2}$\n",
    "- $s = r_0 - z_\\infty$ où $r_0$ est le taux court vu en 0\n",
    "- $\\Phi(T) = \\frac{1-e^{-aT}}{a}$\n",
    "\n",
    "Pour le reste du TP, on considèrera le facteur d’actualisation à la maturité i sous sa forme continue i.e. $\\frac{1}{(1+z_i)}$ devient $e^{-iz(i,z_\\infty, s, \\sigma^2)}$, et $z_i$ devient $z(i, z_\\infty, s, \\sigma^2)$"
   ]
  },
  {
   "cell_type": "markdown",
   "metadata": {},
   "source": [
    "### 3.\n",
    "Définir une fonction permettant de simuler une courbe de taux à partir de l’équation ci-dessus. Simuler une courbe de taux avec les paramètres suivants :\n",
    "- b=0\n",
    "- r0=-0.005\n",
    "- a=0.01\n",
    "- sigma=0.001\n",
    "- T=10\n",
    "- une fréquence d’un an\n",
    "\n",
    "Qu’observez-vous ?"
   ]
  },
  {
   "cell_type": "code",
   "execution_count": 19,
   "metadata": {
    "ExecuteTime": {
     "end_time": "2019-11-29T13:19:49.777056Z",
     "start_time": "2019-11-29T13:19:49.766710Z"
    }
   },
   "outputs": [],
   "source": [
    "def vasicek_new(T, b, r_0, a, sigma):\n",
    "    \"\"\"\n",
    "    Retourne la valeur en T de la courbe de taux simulée par la nouvelle équation fournie après Vasicek.\n",
    "    \"\"\"\n",
    "    z_infty = b - (sigma**2)/(2*a**2)\n",
    "    s = r_0 - z_infty\n",
    "    phi_T = (1-math.exp(-a*T))/a\n",
    "    z_T = z_infty + s*phi_T/T + sigma**2 / (4*a**3) * phi_T**2 / T\n",
    "    return z_T"
   ]
  },
  {
   "cell_type": "code",
   "execution_count": 20,
   "metadata": {
    "ExecuteTime": {
     "end_time": "2019-11-29T13:19:50.061121Z",
     "start_time": "2019-11-29T13:19:49.780210Z"
    }
   },
   "outputs": [
    {
     "data": {
      "image/png": "[encoded data removed]",
      "text/plain": [
       "<Figure size 432x288 with 1 Axes>"
      ]
     },
     "metadata": {
      "needs_background": "light"
     },
     "output_type": "display_data"
    }
   ],
   "source": [
    "b = 0\n",
    "r_0 = -0.005\n",
    "a = .01\n",
    "sigma = .001\n",
    "T = 10\n",
    "\n",
    "r = np.array(r_0)\n",
    "for T in range(1,11):\n",
    "    r = np.append(r, vasicek_new(T, b, r_0, a, sigma))\n",
    "\n",
    "plt.plot(range(11), r)\n",
    "plt.show()"
   ]
  },
  {
   "cell_type": "markdown",
   "metadata": {},
   "source": [
    "### 4.\n",
    "On isole désormais les trois facteurs générant des mouvements de courbe des taux : z∞ (shift), s (pente), σ2 (torsion). Calculez et écrivez une fonction renvoyant : $\\frac{\\partial V_i}{\\partial z_\\infty}$, \n",
    "$\\frac{\\partial V_i}{\\partial s}$,\n",
    "$\\frac{\\partial V_i}{\\partial \\sigma^2}$. \n",
    "On supposera que $V_i = CF_i e^{-iz(i, z_\\infty, s, \\sigma^2)}$"
   ]
  },
  {
   "cell_type": "markdown",
   "metadata": {},
   "source": [
    "$\\frac{\\partial V_i}{\\partial z_\\infty} = \\frac{\\partial(CFi e^{-iz(i, z_\\infty, s, \\sigma^2)})}{\\partial z_\\infty}$\n",
    "\n",
    "$= CF_i *(-i)* \\frac{\\partial z(i, z_\\infty, s, \\sigma^2)}{\\partial z_\\infty} e^{-iz(i, z_\\infty, s, \\sigma^2)}$ avec $-i \\frac{\\partial z(i, z_\\infty, s, \\sigma^2)}{\\partial z_\\infty} = i(\\frac{\\Phi(T)}{T}-1)$\n",
    "\n",
    "$\\frac{\\partial V_i}{\\partial z_\\infty} =  CF_i i(\\frac{\\Phi(T)}{T}-1) e^{-iz(i, z_\\infty, s, \\sigma^2)}$"
   ]
  },
  {
   "cell_type": "code",
   "execution_count": 21,
   "metadata": {
    "ExecuteTime": {
     "end_time": "2019-11-29T13:19:50.073767Z",
     "start_time": "2019-11-29T13:19:50.065163Z"
    }
   },
   "outputs": [],
   "source": [
    "#TODO: i=T, simplifier"
   ]
  },
  {
   "cell_type": "code",
   "execution_count": 22,
   "metadata": {
    "ExecuteTime": {
     "end_time": "2019-11-29T13:19:50.085960Z",
     "start_time": "2019-11-29T13:19:50.078047Z"
    }
   },
   "outputs": [],
   "source": [
    "def derivative_z_infty(CF_T, T, b, r_0, a, sigma):\n",
    "    \"\"\"\n",
    "    Returns the derivative of V_T relative to z_infty.\n",
    "    \"\"\"\n",
    "    phi_T = (1-math.exp(-a*T))/a\n",
    "    return CF_T * T *(phi_T / T -1) * math.exp(-T * vasicek_new(T, b, r_0, a, sigma))"
   ]
  },
  {
   "cell_type": "markdown",
   "metadata": {},
   "source": [
    "$\\frac{\\partial V_i}{\\partial s} = \\frac{\\partial(CFi e^{-iz(i, z_\\infty, s, \\sigma^2)})}{\\partial s}$\n",
    "\n",
    "$= CF_i *(-i)* \\frac{\\partial z(i, z_s, s, \\sigma^2)}{\\partial z_s} e^{-iz(i, z_\\infty, s, \\sigma^2)}$ avec $\\frac{\\partial z(i, z_s, s, \\sigma^2)}{\\partial z_s} = \\frac{\\Phi(T)}{T}$\n",
    "\n",
    "$\\frac{\\partial V_i}{\\partial s} = CF_i (-i) \\frac{\\Phi(T)}{T} e^{-i z(i, z_\\infty, s, \\sigma^2)}$"
   ]
  },
  {
   "cell_type": "code",
   "execution_count": 23,
   "metadata": {
    "ExecuteTime": {
     "end_time": "2019-11-29T13:19:50.102773Z",
     "start_time": "2019-11-29T13:19:50.093392Z"
    }
   },
   "outputs": [],
   "source": [
    "#TODO: i=T, simplifier"
   ]
  },
  {
   "cell_type": "code",
   "execution_count": 24,
   "metadata": {
    "ExecuteTime": {
     "end_time": "2019-11-29T13:19:50.115744Z",
     "start_time": "2019-11-29T13:19:50.106763Z"
    }
   },
   "outputs": [],
   "source": [
    "def derivative_s(CF_T, T, b, r_0, a, sigma):\n",
    "    \"\"\"\n",
    "    Returns the derivative of V_T relative to s.\n",
    "    \"\"\"\n",
    "    phi_T = (1-math.exp(-a*T))/a\n",
    "    return CF_T * -T * phi_T / T * math.exp(-T * vasicek_new(T, b, r_0, a, sigma))"
   ]
  },
  {
   "cell_type": "markdown",
   "metadata": {},
   "source": [
    "$\\frac{\\partial V_i}{\\partial \\sigma^2} = \\frac{\\partial(CFi e^{-iz(i, z_\\infty, s, \\sigma^2)})}{\\partial \\sigma^2}$\n",
    "\n",
    "$= CF_i (-i) \\frac{\\partial z}{\\partial \\sigma^2} e^{-iz(i, z_\\infty, s, \\sigma^2)}$ avec $\\frac{\\partial z}{\\partial \\sigma^2} = \\frac{\\partial z_\\infty}{\\partial \\sigma^2} + \\frac{1}{4a^3}$ et $\\frac{\\partial z_\\infty}{\\partial \\sigma^2} = \\frac{-1}{2a^2}$\n",
    "\n",
    "$\\frac{\\partial V_i}{\\partial \\sigma^2} = CF_i (-i) (\\frac{-1}{2a^2} + \\frac{1}{4a^3}) e^{-iz(i, z_\\infty, s, \\sigma^2)}$"
   ]
  },
  {
   "cell_type": "code",
   "execution_count": 25,
   "metadata": {
    "ExecuteTime": {
     "end_time": "2019-11-29T13:19:50.139661Z",
     "start_time": "2019-11-29T13:19:50.118642Z"
    }
   },
   "outputs": [],
   "source": [
    "def derivative_sigma_2(CF_T, T, b, r_0, a, sigma):\n",
    "    \"\"\"\n",
    "    Returns the derivative of V_T relative to s.\n",
    "    \"\"\"\n",
    "    return CF_T * -T * (-1/(2*a**2) + 1/(4*a**3)) * math.exp(-T * vasicek_new(T, b, r_0, a, sigma))"
   ]
  },
  {
   "cell_type": "code",
   "execution_count": null,
   "metadata": {},
   "outputs": [],
   "source": []
  }
 ],
 "metadata": {
  "kernelspec": {
   "display_name": "Python 3",
   "language": "python",
   "name": "python3"
  },
  "language_info": {
   "codemirror_mode": {
    "name": "ipython",
    "version": 3
   },
   "file_extension": ".py",
   "mimetype": "text/x-python",
   "name": "python",
   "nbconvert_exporter": "python",
   "pygments_lexer": "ipython3",
   "version": "3.7.4"
  }
 },
 "nbformat": 4,
 "nbformat_minor": 2
}
