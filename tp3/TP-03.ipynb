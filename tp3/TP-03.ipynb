{
 "cells": [
  {
   "cell_type": "markdown",
   "metadata": {
    "heading_collapsed": true
   },
   "source": [
    "# 3. Couverture de portefeuille"
   ]
  },
  {
   "cell_type": "markdown",
   "metadata": {
    "hidden": true
   },
   "source": [
    "TP à rendre dans deux semaines,\n",
    "Notation 50% sur les TPs, 50% sur un test de validation des acquis (questions du type : grandes étapes de la méthode de bootstrap, à quels risques sommes nous exposés ?)"
   ]
  },
  {
   "cell_type": "markdown",
   "metadata": {
    "hidden": true
   },
   "source": [
    "Comment réussir à se couvrir en utilisant 3 produits et non plus n produits, mais avec une courbe des taux non plate ?"
   ]
  },
  {
   "cell_type": "markdown",
   "metadata": {
    "hidden": true
   },
   "source": [
    "Soit un portefeuille de trois actions composé de la manière suivante :\n",
    "$Π(y_A,y_B,y_C) = P_A(y_A) + Φ_1 P_B(y_B) + Φ_2 P_C(y_C)$\n",
    "\n",
    "Auparavant, nous supposions que :\n",
    "- La courbe des taux est plate -> y est fixe\n",
    "- La variation des taux est parrallèle -> $\\partial y_A = \\partial y_B = \\partial y_C = \\partial y$\n",
    "- $\\partial y < ε$\n",
    "\n",
    "Désormais, nous avons relâché l'hypothèse 3 avec l'ajout du terme de convexité. **Nous relâchons maintenant l'hypothèse deux** en posant :\n",
    "\n",
    "$\\partial y_B=f(\\partial y_A)$\n",
    "\n",
    "$\\partial Π(y_A) = \\frac{\\partial P_A}{\\partial y_A}\\partial y_A + Φ\\frac{\\partial P_B}{\\partial y_B}f(\\partial y_A)$ où on peut estimer f par moindre carré ordinaire (régression linéaire) non paramétrique."
   ]
  },
  {
   "cell_type": "markdown",
   "metadata": {
    "hidden": true
   },
   "source": [
    "**Nous relâchons maintenant l'hypothèse 1** en posant : $y_B = g(y_A)$\n",
    "\n",
    "$\\partial Π(y_A) = \\frac{\\partial P_A}{\\partial y_A}\\partial y_A + Φ\\frac{\\partial P_A}{\\partial g}\\frac{\\partial g}{\\partial y_A} f(\\partial y_A)$\n",
    "\n",
    "Si on réintroduit l'hypothèse deux :\n",
    "\n",
    "$\\partial Π(y_A) = \\frac{\\partial P_A}{\\partial y_A}\\partial y_A + Φ\\frac{\\partial P_A}{\\partial g}\\frac{\\partial g}{\\partial y_A} \\partial y_A$\n"
   ]
  },
  {
   "cell_type": "markdown",
   "metadata": {
    "hidden": true
   },
   "source": [
    "On sait que la valorisation d'une obligation est égale à la somme de ses cash flows actualisés :\n",
    "$P(c,T,N) = \\sum_{i=1}^N {\\frac{CF_i}{(1+r_i)^i}}$\n",
    "\n",
    "On cherche à couvrir notre portefeuille contre une variation des taux de $r_1,r_2,r_3,.. r_T$\n",
    "\n",
    "![IMAGE 4](TP_03_img/img_4.png)\n",
    "\n",
    "$\\frac{\\partial P}{\\partial R}(c,T,N) = \\sum_{i=1}^T{\\frac{\\partial(\\frac{CF_i}{(1+r_i)^i})}{\\partial r_i}}$"
   ]
  },
  {
   "cell_type": "markdown",
   "metadata": {
    "hidden": true
   },
   "source": [
    "$D = \\begin{bmatrix}\n",
    "\\frac{\\partial P}{\\partial r_1}\\\\\n",
    "...\\\\\n",
    "\\frac{\\partial P}{\\partial r_T}\n",
    "\\end{bmatrix}$, \n",
    "$Φ=\\begin{bmatrix}\n",
    "Φ_1\\\\\n",
    "...\\\\\n",
    "Φ_T\n",
    "\\end{bmatrix}$, \n",
    "$M=\\begin{bmatrix}\n",
    "\\frac{\\partial P_1}{\\partial r_1} & ... & \\frac{\\partial P_T}{\\partial r_1}\\\\\n",
    "... & ... & ...\\\\\n",
    "\\frac{\\partial P_1}{\\partial r_T} & ... & \\frac{\\partial P_T}{\\partial r_T}\n",
    "\\end{bmatrix}$\n",
    "\n",
    "$Φ = -DM^{-1}$"
   ]
  },
  {
   "cell_type": "markdown",
   "metadata": {
    "hidden": true
   },
   "source": [
    "Entrons désormais en **temps continu** :\n",
    "$P(r,T)=E[e^{-\\int_0^T r_S d_S}]$ avec $r_S$ le taux court terme en s, $d_S$ la variable aléatoire (ici, on actualise simplement d'une manière différente).\n",
    "\n",
    "Soit une obligation taux variable :\n",
    "- Coupon = Euribor 3 mois\n",
    "- Coupon trimestriel\n",
    "- T = 1 an\n",
    "- N = $100e^6$"
   ]
  },
  {
   "cell_type": "markdown",
   "metadata": {
    "hidden": true
   },
   "source": [
    "![IMAGE 5](TP_03_img/img_5.png)"
   ]
  },
  {
   "cell_type": "markdown",
   "metadata": {
    "hidden": true
   },
   "source": [
    "Si au temps $T_2$ : $x_2=2$%\n",
    "- Versé au $T_1$ : 1 million\n",
    "- Version au $T_2$ : 2 millions\n",
    "=> la hausse du taux coûte 1 million\n",
    "\n",
    "Le caplet (protège le détenteur contre une hausse du taux): $max(x_1-k,0)$ <= une option d'achat (call) qu'on active que si le taux est en hausse.\n",
    "\n",
    "Avec :\n",
    "- $x_1 =$ Variable aléatoire\n",
    "- $c(T=T_2,K=0.01,x_1)=E[max(x_1-k,0)]e^{-\\int_0^{T_1} r_S d_S}$"
   ]
  },
  {
   "cell_type": "markdown",
   "metadata": {
    "hidden": true
   },
   "source": [
    "Avec le **modèle de Ho-Lee** (1986) : $\\partial r_t= \\theta \\partial t + \\sigma \\partial W_t$ qui suppose que le taux fluctue autour d'une valeur de long terme et subis simplement des chocs régulièrement. Il ne tient pas compte de l'équilibre avec le marché monétaire.\n",
    "\n",
    "Or, avec l'équilibre, les taux courts sont caractérisés par un phénomène de retour à la moyenne :\n",
    "![IMAGE 6](TP_03_img/img_6.png)"
   ]
  },
  {
   "cell_type": "markdown",
   "metadata": {
    "hidden": true
   },
   "source": [
    "Avec le **modèle de Vasicek** (1977) :\n",
    "\n",
    "$\\partial r_T = a(b-r_t)\\partial t + \\sigma \\partial W_t$\n",
    "\n",
    "avec :\n",
    "- a > 0 : vitesse de retour vers b\n",
    "- b : moyenne de long terme\n",
    "- $\\sigma$ : volatilité\n",
    "\n",
    "![IMAGE 7](TP_03_img/img_7.png)\n",
    "\n",
    "Néanmoins, ce modèle a été critiqué par le fait que $r_T$ peut être négatif."
   ]
  },
  {
   "cell_type": "markdown",
   "metadata": {
    "hidden": true
   },
   "source": [
    "Pour résoudre **Vasicek**, on peut utiliser le **Lemme d'Itô** :\n",
    "\n",
    "Si $f \\in \\zeta^2(\\Re^+ x \\Re, \\Re)$ alors $\\partial f = \\frac{\\partial f}{\\partial t}\\partial t + \\frac{\\partial f}{\\partial x}\\partial x + \\frac{1}{2}\\sigma^2 \\frac{\\partial^2 f}{\\partial x^2}\\partial t^2$\n",
    "\n",
    "On pose : $f(t,r)=re^{at}$ donc $\\frac{\\partial f}{\\partial t}(x,r)=-are^{at}$ et $\\frac{\\partial f}{\\partial t^2}(x,r)=0$ <= vérifier les x ici ?\n",
    "\n",
    "$\\partial f = -are^{at}\\partial t + e^{at}(a(b-r_t)\\partial t + \\sigma dW_t)$\n",
    "\n",
    "<=> $\\partial f = e^{at}(-2ar+ab)\\partial t + e^{at}\\sigma \\partial W_t$\n",
    "\n",
    "<=> $\\int_0^t r_s e{-a_s}d_s=\\int_0^t(-2ar+ab)e^{-as} \\partial s + \\sigma e^{-\\int_0^t a_s}\\partial W_s$\n",
    "\n",
    "<=> $\\frac{1}{a}(r_te^{at}-r_0)=b(e^{at}-1)+\\sigma \\int_0^s e^{as} \\partial Ws$\n",
    "\n",
    "Ainsi on trouve que :\n",
    "\n",
    "$r_t = r_0 e^{-at} + b(1-e^{-at}) + \\sigma \\int_0^t e^{-a(t-s)}\\partial W_s$\n",
    "\n",
    "$E(r_T)=r_0 e^{-at} + b(1-e^{-at})$, $lim_{t\\rightarrow \\infty} E(r_t)=b$\n",
    "\n",
    "$Var(r_t)=\\frac{\\sigma^2}{2a}(1-e^{-2at})$"
   ]
  },
  {
   "cell_type": "markdown",
   "metadata": {
    "hidden": true
   },
   "source": [
    "Ce qui nous intéresse : exprimer le taux zéro coupon en fonction d'une maturité (la yield curve)\n",
    "\n",
    "Avec $P(t) = E(e^{-\\int_O^t r_s d_s})$ on peut trouver $P(t) = e^{-tz(t)}$\n",
    "\n",
    "$z_t = z\\infty + s \\frac{\\Phi(t)}{t}+\\frac{\\sigma^2}{4a^3}\\frac{\\Phi(i)^2}{i}$ avec :\n",
    "- $z\\infty = b - \\frac{\\sigma^2}{2a^2}$\n",
    "- $s = r_0 - z\\infty$\n",
    "- $\\Phi(t) = \\frac{1-e^{-at}}{a}$\n",
    "\n",
    "qui sont les facteurs de risque que l'on souhaite couvrir dans un portefeuille obligataire."
   ]
  },
  {
   "cell_type": "markdown",
   "metadata": {
    "hidden": true
   },
   "source": [
    "*Exemple : pour se couvrir à court terme, on peut prendre :*\n",
    "- $z\\infty$ : 1 an - 1 ans\n",
    "- s : 4-5 ans\n",
    "- $\\sigma^2$ : 10 ans"
   ]
  },
  {
   "cell_type": "markdown",
   "metadata": {},
   "source": [
    "# TP 03\n",
    "\n",
    "On détient un portefeuille V contenant quatre obligations corporates émises en Euro, de nominal 100. Les obligations versent toute un coupon annuel à une même date.\n",
    "- Compagnie des Alpes, coupon 3.504 euros, maturité 24/10/2027, prix de marché 113\n",
    "- Korian, coupon 3.70, maturité 07/10/2025, prix de marché 110.23\n",
    "- Carrefour,coupon 1, maturité 27/10/2027, prix de marché 102.22\n",
    "- Total, coupon 1.023, maturité 27/10/2027, prix de marché 106.57\n",
    "\n",
    "Les titres sont équipondérés dans le portefeuille.\n",
    "\n",
    "L’objectif du TP est de construire un portefeuille couvert contre les variations de la courbe des taux. La table data_tp3.csv contient les courbes de taux souverains allemands et français."
   ]
  },
  {
   "cell_type": "code",
   "execution_count": 1,
   "metadata": {
    "ExecuteTime": {
     "end_time": "2019-11-22T11:50:28.475770Z",
     "start_time": "2019-11-22T11:50:24.923666Z"
    }
   },
   "outputs": [
    {
     "data": {
      "text/html": [
       "<div>\n",
       "<style scoped>\n",
       "    .dataframe tbody tr th:only-of-type {\n",
       "        vertical-align: middle;\n",
       "    }\n",
       "\n",
       "    .dataframe tbody tr th {\n",
       "        vertical-align: top;\n",
       "    }\n",
       "\n",
       "    .dataframe thead th {\n",
       "        text-align: right;\n",
       "    }\n",
       "</style>\n",
       "<table border=\"1\" class=\"dataframe\">\n",
       "  <thead>\n",
       "    <tr style=\"text-align: right;\">\n",
       "      <th></th>\n",
       "      <th>Maturity</th>\n",
       "      <th>rates</th>\n",
       "      <th>underlying</th>\n",
       "      <th>country</th>\n",
       "      <th>coupon</th>\n",
       "    </tr>\n",
       "  </thead>\n",
       "  <tbody>\n",
       "    <tr>\n",
       "      <td>0</td>\n",
       "      <td>0.083333</td>\n",
       "      <td>-0.00597</td>\n",
       "      <td>AZ066741 Corp</td>\n",
       "      <td>Germany</td>\n",
       "      <td>0.0</td>\n",
       "    </tr>\n",
       "    <tr>\n",
       "      <td>1</td>\n",
       "      <td>0.250000</td>\n",
       "      <td>-0.00633</td>\n",
       "      <td>AZ923444 Corp</td>\n",
       "      <td>Germany</td>\n",
       "      <td>0.0</td>\n",
       "    </tr>\n",
       "    <tr>\n",
       "      <td>2</td>\n",
       "      <td>0.500000</td>\n",
       "      <td>-0.00617</td>\n",
       "      <td>ZR961307 Corp</td>\n",
       "      <td>Germany</td>\n",
       "      <td>0.0</td>\n",
       "    </tr>\n",
       "    <tr>\n",
       "      <td>3</td>\n",
       "      <td>1.000000</td>\n",
       "      <td>-0.00645</td>\n",
       "      <td>AU025425 Corp</td>\n",
       "      <td>Germany</td>\n",
       "      <td>0.0</td>\n",
       "    </tr>\n",
       "    <tr>\n",
       "      <td>4</td>\n",
       "      <td>2.000000</td>\n",
       "      <td>-0.00661</td>\n",
       "      <td>ZR204844 Corp</td>\n",
       "      <td>Germany</td>\n",
       "      <td>0.0</td>\n",
       "    </tr>\n",
       "  </tbody>\n",
       "</table>\n",
       "</div>"
      ],
      "text/plain": [
       "   Maturity    rates     underlying  country  coupon\n",
       "0  0.083333 -0.00597  AZ066741 Corp  Germany     0.0\n",
       "1  0.250000 -0.00633  AZ923444 Corp  Germany     0.0\n",
       "2  0.500000 -0.00617  ZR961307 Corp  Germany     0.0\n",
       "3  1.000000 -0.00645  AU025425 Corp  Germany     0.0\n",
       "4  2.000000 -0.00661  ZR204844 Corp  Germany     0.0"
      ]
     },
     "execution_count": 1,
     "metadata": {},
     "output_type": "execute_result"
    }
   ],
   "source": [
    "import pandas as pd\n",
    "import numpy as np\n",
    "import matplotlib as mpl\n",
    "import matplotlib.pyplot as plt\n",
    "\n",
    "df = pd.read_csv('data_tp3.csv', sep=';')\n",
    "df.head()"
   ]
  },
  {
   "cell_type": "markdown",
   "metadata": {},
   "source": [
    "## Exercice 1"
   ]
  },
  {
   "cell_type": "markdown",
   "metadata": {},
   "source": [
    "### 1.\n",
    "Représentez, sur un même graphique les courbes zéro-coupons françaises et allemandes. Comment expliquez-vous les différences obtenues ?"
   ]
  },
  {
   "cell_type": "code",
   "execution_count": 2,
   "metadata": {
    "ExecuteTime": {
     "end_time": "2019-11-22T11:50:28.812853Z",
     "start_time": "2019-11-22T11:50:28.478725Z"
    }
   },
   "outputs": [
    {
     "data": {
      "image/png": "[encoded data removed]",
      "text/plain": [
       "<Figure size 576x396 with 1 Axes>"
      ]
     },
     "metadata": {},
     "output_type": "display_data"
    }
   ],
   "source": [
    "#Construction des tables France et Allemagne\n",
    "germany_data= df[df[\"country\"] == \"Germany\"]\n",
    "french_data= df[df[\"country\"] != \"Germany\"]\n",
    "\n",
    "#Création des courbes\n",
    "mpl.style.use('seaborn')\n",
    "fig, ax= plt.subplots()\n",
    "plt.grid(b= True)\n",
    "\n",
    "ax.plot(germany_data[\"Maturity\"]\n",
    "            ,germany_data[\"rates\"]\n",
    "            , marker= '.'\n",
    "            , markerfacecolor= 'black'\n",
    "            , markersize= 9\n",
    "            , c= 'blue'\n",
    "            , label= \"Courbe des Taux Allemande\")\n",
    "\n",
    "ax.plot(french_data[\"Maturity\"]\n",
    "            ,french_data[\"rates\"]\n",
    "            , marker= '.'\n",
    "            , markerfacecolor= 'black'\n",
    "            , markersize= 9\n",
    "            , c= 'orangered'\n",
    "            , label= \"Courbe des Taux Française\")\n",
    "\n",
    "ax.set_ylabel(\"Taux\", rotation= 0, fontsize= 12)\n",
    "ax.set_xlabel(\"Maturite\", fontsize= 12)\n",
    "ax.set_title(\"Courbe des taux pour les obligations \", fontsize= 18)\n",
    "ax.legend()\n",
    "\n",
    "plt.show()\n"
   ]
  },
  {
   "cell_type": "markdown",
   "metadata": {},
   "source": [
    "### 2.\n",
    "Construire une dataframe contenant les flux de paiements reçus par échéances. Calculez le yield to maturity de chacune des positions, puis celle du portefeuille. Calculez ensuite sa duration (en fonction du yield to maturity)."
   ]
  },
  {
   "cell_type": "code",
   "execution_count": 3,
   "metadata": {
    "ExecuteTime": {
     "end_time": "2019-11-22T11:50:28.885154Z",
     "start_time": "2019-11-22T11:50:28.815812Z"
    }
   },
   "outputs": [
    {
     "data": {
      "text/html": [
       "<div>\n",
       "<style scoped>\n",
       "    .dataframe tbody tr th:only-of-type {\n",
       "        vertical-align: middle;\n",
       "    }\n",
       "\n",
       "    .dataframe tbody tr th {\n",
       "        vertical-align: top;\n",
       "    }\n",
       "\n",
       "    .dataframe thead th {\n",
       "        text-align: right;\n",
       "    }\n",
       "</style>\n",
       "<table border=\"1\" class=\"dataframe\">\n",
       "  <thead>\n",
       "    <tr style=\"text-align: right;\">\n",
       "      <th></th>\n",
       "      <th>Name</th>\n",
       "      <th>Coupon</th>\n",
       "      <th>Maturité</th>\n",
       "      <th>Prix</th>\n",
       "    </tr>\n",
       "  </thead>\n",
       "  <tbody>\n",
       "    <tr>\n",
       "      <td>0</td>\n",
       "      <td>Compagnie des Alpes</td>\n",
       "      <td>0.03504</td>\n",
       "      <td>8</td>\n",
       "      <td>113.00</td>\n",
       "    </tr>\n",
       "    <tr>\n",
       "      <td>1</td>\n",
       "      <td>Korian</td>\n",
       "      <td>0.03700</td>\n",
       "      <td>6</td>\n",
       "      <td>110.23</td>\n",
       "    </tr>\n",
       "    <tr>\n",
       "      <td>2</td>\n",
       "      <td>Carrefour</td>\n",
       "      <td>0.01000</td>\n",
       "      <td>8</td>\n",
       "      <td>102.22</td>\n",
       "    </tr>\n",
       "    <tr>\n",
       "      <td>3</td>\n",
       "      <td>Total</td>\n",
       "      <td>0.01023</td>\n",
       "      <td>8</td>\n",
       "      <td>106.57</td>\n",
       "    </tr>\n",
       "  </tbody>\n",
       "</table>\n",
       "</div>"
      ],
      "text/plain": [
       "                  Name   Coupon  Maturité    Prix\n",
       "0  Compagnie des Alpes  0.03504         8  113.00\n",
       "1               Korian  0.03700         6  110.23\n",
       "2            Carrefour  0.01000         8  102.22\n",
       "3                Total  0.01023         8  106.57"
      ]
     },
     "execution_count": 3,
     "metadata": {},
     "output_type": "execute_result"
    }
   ],
   "source": [
    "df = pd.DataFrame(\n",
    "    {\n",
    "        'Name':['Compagnie des Alpes','Korian','Carrefour','Total'],\n",
    "        'Coupon':[3.504,3.70,1,1.023],\n",
    "        'Maturité':['24/10/2027','07/10/2025','27/10/2027','27/10/2027'],\n",
    "        'Prix':[113,110.23,102.22,106.57]\n",
    "    }\n",
    ")\n",
    "df['Coupon']=df['Coupon']/100\n",
    "df['Maturité'] = [(pd.to_datetime(mat).year-pd.to_datetime('25/10/2019').year) for mat in df['Maturité']]\n",
    "df"
   ]
  },
  {
   "cell_type": "code",
   "execution_count": 4,
   "metadata": {
    "ExecuteTime": {
     "end_time": "2019-11-22T11:50:29.014269Z",
     "start_time": "2019-11-22T11:50:28.888114Z"
    },
    "code_folding": [],
    "scrolled": true
   },
   "outputs": [
    {
     "data": {
      "text/plain": [
       "Maturity\n",
       "1      9.227\n",
       "2      9.227\n",
       "3      9.227\n",
       "4      9.227\n",
       "5      9.227\n",
       "6    109.227\n",
       "7      5.527\n",
       "8    305.527\n",
       "Name: Cash Flow, dtype: float64"
      ]
     },
     "execution_count": 4,
     "metadata": {},
     "output_type": "execute_result"
    }
   ],
   "source": [
    "cash_flows = pd.DataFrame(columns=['Maturity','Security','Cash Flow'])\n",
    "#Pour chaque obligation dans df\n",
    "    # ajouter des lignes à cash_flows représentant les CF\n",
    "for i,row in df.iterrows():\n",
    "    for t in range(1,row['Maturité']): # Tous les CF sauf le dernier\n",
    "        cash_flows = cash_flows.append(\n",
    "            {\n",
    "                'Maturity':t,\n",
    "                'Security':row['Name'],\n",
    "                'Cash Flow':row['Coupon']*100 # En supposant que le nominal vaut 100\n",
    "            }, ignore_index = True\n",
    "        )\n",
    "    cash_flows = cash_flows.append( # Dernier CF\n",
    "            {\n",
    "                'Maturity':row['Maturité'],\n",
    "                'Security':row['Name'],\n",
    "                'Cash Flow':row['Coupon']*100 + 100 # En supposant que le nominal vaut 100\n",
    "            }, ignore_index = True\n",
    "        )\n",
    "cash_flows = cash_flows.groupby('Maturity')['Cash Flow'].sum()\n",
    "cash_flows"
   ]
  },
  {
   "cell_type": "code",
   "execution_count": 5,
   "metadata": {
    "ExecuteTime": {
     "end_time": "2019-11-22T11:50:29.961783Z",
     "start_time": "2019-11-22T11:50:29.017261Z"
    },
    "code_folding": [
     1
    ]
   },
   "outputs": [],
   "source": [
    "from scipy.optimize import newton\n",
    "def yield_to_maturity(P,c,T,N):\n",
    "    \"\"\"\n",
    "    Renvoie le yield to maturity d'une obligation. Paramètres :\n",
    "        - P : le prix de l'obligation\n",
    "        - c : le taux de coupon de l'obligation\n",
    "        - T : la maturité de l'obligation\n",
    "        - N : le nominal de l'obligation\n",
    "    \"\"\"\n",
    "    def f(x,P,c,T,N):\n",
    "        \"\"\"\n",
    "        Approxime la fonction de cash flows. Paramètres :\n",
    "            - x : la variable permettant l'optimisation par Newton\n",
    "            - P : le prix de l'obligation\n",
    "            - c : le taux de coupon de l'obligation\n",
    "            - T : la maturité de l'obligation\n",
    "            - N : le nominal de l'obligation\n",
    "        \"\"\"\n",
    "        result = P\n",
    "        for i in range(1,int(T)):\n",
    "            result -= c*N*(x**i)\n",
    "        result -= N*(1+c)*(x**T)\n",
    "        return result\n",
    "    \n",
    "    def fprime(x,P,c,T,N):\n",
    "        \"\"\"\n",
    "        Dérivée de l'approximation de la fonction de cash flows. Paramètres :\n",
    "            - x : la variable permettant l'optimisation par Newton\n",
    "            - P : le prix de l'obligation\n",
    "            - c : le taux de coupon de l'obligation\n",
    "            - T : la maturité de l'obligation\n",
    "            - N : le nominal de l'obligation\n",
    "        \"\"\"\n",
    "        result = 0\n",
    "        for i in range(1,int(T)):\n",
    "            result -= i*c*N*(x**(i-1))\n",
    "        result -= T*N*(1+c)*(x**(T-1))\n",
    "        return result\n",
    "    \n",
    "    x = newton(func=f,\n",
    "           x0=1.1, # puisque y est de l'ordre 0.01 et que x = 1/(1+y) 1.1 semble etre un ordre de grandeur raisonable\n",
    "           fprime=fprime,\n",
    "           args=(P,c,T,N)\n",
    "        )\n",
    "    y = 1/x - 1\n",
    "    return y"
   ]
  },
  {
   "cell_type": "code",
   "execution_count": 6,
   "metadata": {
    "ExecuteTime": {
     "end_time": "2019-11-22T11:50:29.986663Z",
     "start_time": "2019-11-22T11:50:29.964728Z"
    }
   },
   "outputs": [
    {
     "data": {
      "text/html": [
       "<div>\n",
       "<style scoped>\n",
       "    .dataframe tbody tr th:only-of-type {\n",
       "        vertical-align: middle;\n",
       "    }\n",
       "\n",
       "    .dataframe tbody tr th {\n",
       "        vertical-align: top;\n",
       "    }\n",
       "\n",
       "    .dataframe thead th {\n",
       "        text-align: right;\n",
       "    }\n",
       "</style>\n",
       "<table border=\"1\" class=\"dataframe\">\n",
       "  <thead>\n",
       "    <tr style=\"text-align: right;\">\n",
       "      <th></th>\n",
       "      <th>Name</th>\n",
       "      <th>Coupon</th>\n",
       "      <th>Maturité</th>\n",
       "      <th>Prix</th>\n",
       "      <th>yield_to_maturity</th>\n",
       "    </tr>\n",
       "  </thead>\n",
       "  <tbody>\n",
       "    <tr>\n",
       "      <td>0</td>\n",
       "      <td>Compagnie des Alpes</td>\n",
       "      <td>0.03504</td>\n",
       "      <td>8</td>\n",
       "      <td>113.00</td>\n",
       "      <td>0.017486</td>\n",
       "    </tr>\n",
       "    <tr>\n",
       "      <td>1</td>\n",
       "      <td>Korian</td>\n",
       "      <td>0.03700</td>\n",
       "      <td>6</td>\n",
       "      <td>110.23</td>\n",
       "      <td>0.018810</td>\n",
       "    </tr>\n",
       "    <tr>\n",
       "      <td>2</td>\n",
       "      <td>Carrefour</td>\n",
       "      <td>0.01000</td>\n",
       "      <td>8</td>\n",
       "      <td>102.22</td>\n",
       "      <td>0.007135</td>\n",
       "    </tr>\n",
       "    <tr>\n",
       "      <td>3</td>\n",
       "      <td>Total</td>\n",
       "      <td>0.01023</td>\n",
       "      <td>8</td>\n",
       "      <td>106.57</td>\n",
       "      <td>0.001945</td>\n",
       "    </tr>\n",
       "  </tbody>\n",
       "</table>\n",
       "</div>"
      ],
      "text/plain": [
       "                  Name   Coupon  Maturité    Prix  yield_to_maturity\n",
       "0  Compagnie des Alpes  0.03504         8  113.00           0.017486\n",
       "1               Korian  0.03700         6  110.23           0.018810\n",
       "2            Carrefour  0.01000         8  102.22           0.007135\n",
       "3                Total  0.01023         8  106.57           0.001945"
      ]
     },
     "execution_count": 6,
     "metadata": {},
     "output_type": "execute_result"
    }
   ],
   "source": [
    "df['yield_to_maturity'] = [yield_to_maturity(row['Prix'],row['Coupon'],row['Maturité'],100) for i,row in df.iterrows()]\n",
    "df"
   ]
  },
  {
   "cell_type": "code",
   "execution_count": 7,
   "metadata": {
    "ExecuteTime": {
     "end_time": "2019-11-22T11:50:30.002620Z",
     "start_time": "2019-11-22T11:50:29.989654Z"
    }
   },
   "outputs": [
    {
     "data": {
      "text/plain": [
       "0.011344050816573747"
      ]
     },
     "execution_count": 7,
     "metadata": {},
     "output_type": "execute_result"
    }
   ],
   "source": [
    "# Le yield to maturity est un opérateur linéaire ?\n",
    "portfolio_yield_to_maturity = df['yield_to_maturity'].sum()/df.shape[0]\n",
    "portfolio_yield_to_maturity"
   ]
  },
  {
   "cell_type": "code",
   "execution_count": 18,
   "metadata": {
    "ExecuteTime": {
     "end_time": "2019-11-22T12:05:35.989551Z",
     "start_time": "2019-11-22T12:05:35.982568Z"
    }
   },
   "outputs": [],
   "source": [
    "def duration(c,T,N,y):\n",
    "    \"\"\"\n",
    "    Renvoie la duration d'une obligation. Paramètres :\n",
    "        - c : le taux de coupon de l'obligation\n",
    "        - T : la maturité de l'obligation\n",
    "        - N : le nominal de l'obligation\n",
    "        - y : le yield to return de l'obligation\n",
    "    \"\"\"\n",
    "    result = 0\n",
    "    for i in range(1,int(T)):\n",
    "        CF_i = c*N\n",
    "        result -= (i*CF_i)/((1+y)**(i+1))\n",
    "    CF_T = c*N+N\n",
    "    result -= (T*CF_T)/((1+y)**(T+1))\n",
    "    return result"
   ]
  },
  {
   "cell_type": "code",
   "execution_count": 9,
   "metadata": {
    "ExecuteTime": {
     "end_time": "2019-11-22T11:50:30.052485Z",
     "start_time": "2019-11-22T11:50:30.020569Z"
    },
    "scrolled": true
   },
   "outputs": [
    {
     "data": {
      "text/html": [
       "<div>\n",
       "<style scoped>\n",
       "    .dataframe tbody tr th:only-of-type {\n",
       "        vertical-align: middle;\n",
       "    }\n",
       "\n",
       "    .dataframe tbody tr th {\n",
       "        vertical-align: top;\n",
       "    }\n",
       "\n",
       "    .dataframe thead th {\n",
       "        text-align: right;\n",
       "    }\n",
       "</style>\n",
       "<table border=\"1\" class=\"dataframe\">\n",
       "  <thead>\n",
       "    <tr style=\"text-align: right;\">\n",
       "      <th></th>\n",
       "      <th>Name</th>\n",
       "      <th>Coupon</th>\n",
       "      <th>Maturité</th>\n",
       "      <th>Prix</th>\n",
       "      <th>yield_to_maturity</th>\n",
       "      <th>duration</th>\n",
       "    </tr>\n",
       "  </thead>\n",
       "  <tbody>\n",
       "    <tr>\n",
       "      <td>0</td>\n",
       "      <td>Compagnie des Alpes</td>\n",
       "      <td>0.03504</td>\n",
       "      <td>8</td>\n",
       "      <td>113.00</td>\n",
       "      <td>0.017486</td>\n",
       "      <td>-796.884068</td>\n",
       "    </tr>\n",
       "    <tr>\n",
       "      <td>1</td>\n",
       "      <td>Korian</td>\n",
       "      <td>0.03700</td>\n",
       "      <td>6</td>\n",
       "      <td>110.23</td>\n",
       "      <td>0.018810</td>\n",
       "      <td>-596.997700</td>\n",
       "    </tr>\n",
       "    <tr>\n",
       "      <td>2</td>\n",
       "      <td>Carrefour</td>\n",
       "      <td>0.01000</td>\n",
       "      <td>8</td>\n",
       "      <td>102.22</td>\n",
       "      <td>0.007135</td>\n",
       "      <td>-784.749514</td>\n",
       "    </tr>\n",
       "    <tr>\n",
       "      <td>3</td>\n",
       "      <td>Total</td>\n",
       "      <td>0.01023</td>\n",
       "      <td>8</td>\n",
       "      <td>106.57</td>\n",
       "      <td>0.001945</td>\n",
       "      <td>-822.482275</td>\n",
       "    </tr>\n",
       "  </tbody>\n",
       "</table>\n",
       "</div>"
      ],
      "text/plain": [
       "                  Name   Coupon  Maturité    Prix  yield_to_maturity  \\\n",
       "0  Compagnie des Alpes  0.03504         8  113.00           0.017486   \n",
       "1               Korian  0.03700         6  110.23           0.018810   \n",
       "2            Carrefour  0.01000         8  102.22           0.007135   \n",
       "3                Total  0.01023         8  106.57           0.001945   \n",
       "\n",
       "     duration  \n",
       "0 -796.884068  \n",
       "1 -596.997700  \n",
       "2 -784.749514  \n",
       "3 -822.482275  "
      ]
     },
     "execution_count": 9,
     "metadata": {},
     "output_type": "execute_result"
    }
   ],
   "source": [
    "df['duration'] = [duration(row['Coupon'],row['Maturité'],100,row['yield_to_maturity']) for i,row in df.iterrows()]\n",
    "df"
   ]
  },
  {
   "cell_type": "code",
   "execution_count": 10,
   "metadata": {
    "ExecuteTime": {
     "end_time": "2019-11-22T11:50:30.066447Z",
     "start_time": "2019-11-22T11:50:30.055475Z"
    }
   },
   "outputs": [
    {
     "data": {
      "text/plain": [
       "-750.2783893053507"
      ]
     },
     "execution_count": 10,
     "metadata": {},
     "output_type": "execute_result"
    }
   ],
   "source": [
    "# La duration est un opérateur linéaire\n",
    "portfolio_duration = df['duration_y'].sum()/df.shape[0]\n",
    "portfolio_duration"
   ]
  },
  {
   "cell_type": "markdown",
   "metadata": {},
   "source": [
    "### 3.\n",
    "On appelle $D_i$ l’exposition du portefeuille à un mouvement du taux zéro-coupon i. L’exposition du portefeuille à l’ensemble des taux est $D =\\sum_i D_i$ avec $D_i=\\frac{\\partial V_i}{\\partial z_i}$ et $V_i=\\frac{CF_i}{(1+z_i)^i}$\n",
    "\n",
    "Calculez D pour les taux zéro-coupons allemands puis français. Comment expliquer la différence obtenue ? Pour les deux courbes de taux\n",
    "à quelle maturité la duration est-elle la plus forte ? Pourquoi ?"
   ]
  },
  {
   "cell_type": "markdown",
   "metadata": {},
   "source": [
    "$V_i=\\frac{CF_i}{(1+z_i)^i}=CF_i(1+z_i)^{-i}$\n",
    "\n",
    "$D_i=\\frac{\\partial V_i}{\\partial z_i} = -iCF_i(1+z_i)^{-(i+1)} = \\frac{-iCF_i}{(1+z_i)^{i+1}}$"
   ]
  },
  {
   "cell_type": "code",
   "execution_count": 99,
   "metadata": {
    "ExecuteTime": {
     "end_time": "2019-11-22T13:18:16.631428Z",
     "start_time": "2019-11-22T13:18:16.617596Z"
    }
   },
   "outputs": [],
   "source": [
    "#=========== TBC ==========\n",
    "\n",
    "def duration_per_maturity(c,T,N,y,max_maturity):\n",
    "    \"\"\"\n",
    "    Renvoie la duration d'une obligation pour chaque échéances. Paramètres :\n",
    "        - c : le taux de coupon de l'obligation\n",
    "        - T : la maturité de l'obligation\n",
    "        - N : le nominal de l'obligation\n",
    "        - y : le yield to return de l'obligation\n",
    "    \"\"\"\n",
    "    durations = []\n",
    "    for i in range(1,max_maturity+1):\n",
    "        if i < T:\n",
    "            durations.append(-(T*(c*N))/((1+y)**(T+1)))\n",
    "        elif i == T:\n",
    "            durations.append(- (T*(c*N+N))/((1+y)**(T+1)))\n",
    "        else:\n",
    "            durations.append(0)\n",
    "    return np.array(durations)"
   ]
  },
  {
   "cell_type": "code",
   "execution_count": 101,
   "metadata": {
    "ExecuteTime": {
     "end_time": "2019-11-22T13:18:25.941303Z",
     "start_time": "2019-11-22T13:18:25.930523Z"
    }
   },
   "outputs": [
    {
     "data": {
      "text/plain": [
       "array([  -64.82005395,   -64.82005395,   -64.82005395,   -64.82005395,\n",
       "         -64.82005395,  -645.31497475,   -43.34174188, -2421.60833434])"
      ]
     },
     "execution_count": 101,
     "metadata": {},
     "output_type": "execute_result"
    }
   ],
   "source": [
    "# ============= Test avec notre portefeuille =========\n",
    "durations_per_maturity = np.zeros(max(df['Maturité']))\n",
    "for i,row in df.iterrows():\n",
    "    durations_per_maturity += duration_per_maturity(\n",
    "        c=row['Coupon'], T=row['Maturité'], N=row['Prix'], y=row['yield_to_maturity'], max_maturity=max(df['Maturité'])\n",
    "    )\n",
    "durations_per_maturity"
   ]
  },
  {
   "cell_type": "code",
   "execution_count": 80,
   "metadata": {
    "ExecuteTime": {
     "end_time": "2019-11-22T13:05:24.347317Z",
     "start_time": "2019-11-22T13:05:24.323435Z"
    }
   },
   "outputs": [],
   "source": [
    "french_data['exposition_portefeuille'] = [duration(c= row['coupon'], T=row['Maturity'], N=100, y=row['rates']) \n",
    "                                          for j,row in french_data.iterrows()]\n",
    "germany_data['exposition_portefeuille'] = [duration(c= row['coupon'], T=row['Maturity'], N=100, y=row['rates']) \n",
    "                                          for j,row in germany_data.iterrows()]"
   ]
  },
  {
   "cell_type": "code",
   "execution_count": 50,
   "metadata": {
    "ExecuteTime": {
     "end_time": "2019-11-22T12:24:37.108894Z",
     "start_time": "2019-11-22T12:24:36.917035Z"
    }
   },
   "outputs": [
    {
     "data": {
      "image/png": "[encoded data removed]",
      "text/plain": [
       "<Figure size 576x396 with 1 Axes>"
      ]
     },
     "metadata": {},
     "output_type": "display_data"
    }
   ],
   "source": [
    "plt.plot(germany_data['Maturity'], germany_data['exposition_portefeuille'],label='German')\n",
    "plt.plot(french_data['Maturity'], french_data['exposition_portefeuille'], label='French')\n",
    "plt.legend()\n",
    "plt.ylabel('Duration')\n",
    "plt.xlabel('Maturity')\n",
    "plt.show()"
   ]
  },
  {
   "cell_type": "markdown",
   "metadata": {},
   "source": [
    "### 4.\n",
    "On souhaite désormais couvrir le risque d’un mouvement de courbe des taux. Pour cela, on va shorter des obligations souveraines (on utilise les obligations présentes dans la Table data_tp3). Nous cherchons donc à nous immuniser contre 8 risques, correspondants aux 8 maturités de la courbe des taux. Pour cela, on considère 8 obligations souveraines : O1, ..., O8 et l’on cherche les quantités φ1, ...φ8 annulant un mouvement de la courbe des taux.\n",
    "\n",
    "On pose D, le vecteur de durations du portefeuille aux maturités 1,...,8 : \n",
    "$D = \\begin{bmatrix} D1 & ... & D8\\end{bmatrix}$ ; Φ, le vecteur de quantités des actifs souverains $Φ = \\begin{bmatrix}φ1 & ... & φ8\\end{bmatrix}$ ; et $D_0$ la matrice carrée telle que :\n",
    "\n",
    "$D_0=\\begin{bmatrix}\n",
    "\\frac{\\partial O_1}{\\partial z_1} & ... & \\frac{\\partial O_8}{\\partial z_1} \\\\\n",
    "... &  & ... \\\\\n",
    "\\frac{\\partial O_1}{\\partial z_8} & ... & \\frac{\\partial O_8}{\\partial z_8}\n",
    "\\end{bmatrix}$\n",
    "\n",
    "On rappelle qui si $D_O$ est inversible, alors : $\\Phi = -DD_0^{-1}$\n",
    "\n",
    "Dans un premier temps, on cherche se couvrir contre des mouvements de taux 1 an et de taux 8 ans. On utilise les obligations souveraines correspondants aux maturités 1 et 8.\n",
    "**Dans Python, utiliser les fonctions np.dot et np.linalg.inv**."
   ]
  },
  {
   "cell_type": "markdown",
   "metadata": {},
   "source": [
    "### 5.\n",
    "Calculez désormais les quantités d’actifs nécessaires pour se couvrir contre une variation de l’ensemble de la courbe des taux."
   ]
  }
 ],
 "metadata": {
  "kernelspec": {
   "display_name": "Python 3",
   "language": "python",
   "name": "python3"
  },
  "language_info": {
   "codemirror_mode": {
    "name": "ipython",
    "version": 3
   },
   "file_extension": ".py",
   "mimetype": "text/x-python",
   "name": "python",
   "nbconvert_exporter": "python",
   "pygments_lexer": "ipython3",
   "version": "3.7.4"
  }
 },
 "nbformat": 4,
 "nbformat_minor": 2
}
