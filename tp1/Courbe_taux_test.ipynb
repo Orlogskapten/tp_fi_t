{
 "cells": [
  {
   "cell_type": "code",
   "execution_count": 1,
   "metadata": {},
   "outputs": [],
   "source": [
    "import pandas as pd\n",
    "import numpy as np\n",
    "import datetime as dt\n",
    "import time\n",
    "import matplotlib.pyplot as plt"
   ]
  },
  {
   "cell_type": "code",
   "execution_count": 2,
   "metadata": {
    "scrolled": true
   },
   "outputs": [
    {
     "data": {
      "text/html": [
       "<div>\n",
       "<style scoped>\n",
       "    .dataframe tbody tr th:only-of-type {\n",
       "        vertical-align: middle;\n",
       "    }\n",
       "\n",
       "    .dataframe tbody tr th {\n",
       "        vertical-align: top;\n",
       "    }\n",
       "\n",
       "    .dataframe thead th {\n",
       "        text-align: right;\n",
       "    }\n",
       "</style>\n",
       "<table border=\"1\" class=\"dataframe\">\n",
       "  <thead>\n",
       "    <tr style=\"text-align: right;\">\n",
       "      <th></th>\n",
       "      <th>Coupon</th>\n",
       "      <th>Maturite</th>\n",
       "      <th>Prix</th>\n",
       "    </tr>\n",
       "  </thead>\n",
       "  <tbody>\n",
       "    <tr>\n",
       "      <td>0</td>\n",
       "      <td>0</td>\n",
       "      <td>6</td>\n",
       "      <td>99.87</td>\n",
       "    </tr>\n",
       "    <tr>\n",
       "      <td>1</td>\n",
       "      <td>0</td>\n",
       "      <td>9</td>\n",
       "      <td>99.65</td>\n",
       "    </tr>\n",
       "    <tr>\n",
       "      <td>2</td>\n",
       "      <td>0</td>\n",
       "      <td>12</td>\n",
       "      <td>99.25</td>\n",
       "    </tr>\n",
       "    <tr>\n",
       "      <td>3</td>\n",
       "      <td>0</td>\n",
       "      <td>24</td>\n",
       "      <td>99.13</td>\n",
       "    </tr>\n",
       "    <tr>\n",
       "      <td>4</td>\n",
       "      <td>0</td>\n",
       "      <td>36</td>\n",
       "      <td>98.17</td>\n",
       "    </tr>\n",
       "    <tr>\n",
       "      <td>5</td>\n",
       "      <td>0</td>\n",
       "      <td>60</td>\n",
       "      <td>97.86</td>\n",
       "    </tr>\n",
       "    <tr>\n",
       "      <td>6</td>\n",
       "      <td>0</td>\n",
       "      <td>120</td>\n",
       "      <td>96.12</td>\n",
       "    </tr>\n",
       "  </tbody>\n",
       "</table>\n",
       "</div>"
      ],
      "text/plain": [
       "   Coupon  Maturite   Prix\n",
       "0       0         6  99.87\n",
       "1       0         9  99.65\n",
       "2       0        12  99.25\n",
       "3       0        24  99.13\n",
       "4       0        36  98.17\n",
       "5       0        60  97.86\n",
       "6       0       120  96.12"
      ]
     },
     "execution_count": 2,
     "metadata": {},
     "output_type": "execute_result"
    }
   ],
   "source": [
    "table= [(0, 6, 99.87),(0, 9, 99.65),(0, 12, 99.25),(0, 24, 99.13),(0, 36, 98.17),(0, 60, 97.86),(0, 120, 96.12)]  \n",
    "df1= pd.DataFrame(data= table, columns= [\"Coupon\", \"Maturite\", \"Prix\"])\n",
    "                  \n",
    "table_1= [(0, 12, 99.05),(0, 9, 98.45),(0, 12, 97.85),(0.035, 24, 101.4),(0.04, 36, 102.20)]\n",
    "\n",
    "df= pd.DataFrame(data= table_1, columns= [\"Coupon\", \"Maturite\", \"Prix\"])\n",
    "df1"
   ]
  },
  {
   "cell_type": "code",
   "execution_count": null,
   "metadata": {},
   "outputs": [],
   "source": [
    "# def taux(T, c, p= None, df_f=df,n=100, t=0):\n",
    "#     \"\"\"\n",
    "    \n",
    "#     \"\"\"\n",
    "#     ind= df_f[np.logical_and(df_f[\"Maturite\"] == T, df_f[\"Prix\"] == p)].index[0]\n",
    "#     p= df_f[\"Prix\"].iloc[ind]\n",
    "#     C= c*100\n",
    "#     Tn= T/12\n",
    "#     if Tn - t <= 1 or c == 0:\n",
    "#         return pow(n/p, 1/(Tn - t)) -1\n",
    "#     else:\n",
    "#         recu= C/pow(1+taux(T-12, c, p=df_f[\"Prix\"].iloc[ind-1]), (Tn-1 - t))\n",
    "#         return pow((C+n)/(p - recu),1/(Tn-t)) - 1\n",
    "    "
   ]
  },
  {
   "cell_type": "code",
   "execution_count": 3,
   "metadata": {},
   "outputs": [],
   "source": [
    "# ///////////////////////////\n",
    "def taux(T, c, p= None, df_f=df,n=100, t=0):\n",
    "    \"\"\"\n",
    "    \n",
    "    \"\"\"\n",
    "    ind= df_f[np.logical_and(df_f[\"Maturite\"] == T, df_f[\"Prix\"] == p)].index[0]\n",
    "    p= df_f[\"Prix\"].iloc[ind]\n",
    "    C= c*100\n",
    "    Tn= T/12\n",
    "    if Tn - t <= 1 or c == 0:\n",
    "        return pow(n/p, 1/(Tn - t)) -1\n",
    "    else:\n",
    "        recu= C/pow(1+taux(df_f[\"Maturite\"][ind-1], c, p=df_f[\"Prix\"].iloc[ind-1], df_f=df_f), (Tn-1 - t))\n",
    "        return pow((C+n)/(p - recu),1/(Tn-t)) - 1"
   ]
  },
  {
   "cell_type": "code",
   "execution_count": 12,
   "metadata": {},
   "outputs": [
    {
     "name": "stdout",
     "output_type": "stream",
     "text": [
      "0.0026050788023028737\n",
      "0.004685796609194659\n",
      "0.007556675062972307\n",
      "0.0043785911110687525\n",
      "0.006175495658579555\n",
      "0.004335832665508077\n",
      "0.003965117873386159\n"
     ]
    },
    {
     "data": {
      "text/html": [
       "<div>\n",
       "<style scoped>\n",
       "    .dataframe tbody tr th:only-of-type {\n",
       "        vertical-align: middle;\n",
       "    }\n",
       "\n",
       "    .dataframe tbody tr th {\n",
       "        vertical-align: top;\n",
       "    }\n",
       "\n",
       "    .dataframe thead th {\n",
       "        text-align: right;\n",
       "    }\n",
       "</style>\n",
       "<table border=\"1\" class=\"dataframe\">\n",
       "  <thead>\n",
       "    <tr style=\"text-align: right;\">\n",
       "      <th></th>\n",
       "      <th>Coupon</th>\n",
       "      <th>Maturite</th>\n",
       "      <th>Prix</th>\n",
       "      <th>Taux</th>\n",
       "    </tr>\n",
       "  </thead>\n",
       "  <tbody>\n",
       "    <tr>\n",
       "      <td>0</td>\n",
       "      <td>0</td>\n",
       "      <td>6</td>\n",
       "      <td>99.87</td>\n",
       "      <td>0.002605</td>\n",
       "    </tr>\n",
       "    <tr>\n",
       "      <td>1</td>\n",
       "      <td>0</td>\n",
       "      <td>9</td>\n",
       "      <td>99.65</td>\n",
       "      <td>0.004686</td>\n",
       "    </tr>\n",
       "    <tr>\n",
       "      <td>2</td>\n",
       "      <td>0</td>\n",
       "      <td>12</td>\n",
       "      <td>99.25</td>\n",
       "      <td>0.007557</td>\n",
       "    </tr>\n",
       "    <tr>\n",
       "      <td>3</td>\n",
       "      <td>0</td>\n",
       "      <td>24</td>\n",
       "      <td>99.13</td>\n",
       "      <td>0.004379</td>\n",
       "    </tr>\n",
       "    <tr>\n",
       "      <td>4</td>\n",
       "      <td>0</td>\n",
       "      <td>36</td>\n",
       "      <td>98.17</td>\n",
       "      <td>0.006175</td>\n",
       "    </tr>\n",
       "    <tr>\n",
       "      <td>5</td>\n",
       "      <td>0</td>\n",
       "      <td>60</td>\n",
       "      <td>97.86</td>\n",
       "      <td>0.004336</td>\n",
       "    </tr>\n",
       "    <tr>\n",
       "      <td>6</td>\n",
       "      <td>0</td>\n",
       "      <td>120</td>\n",
       "      <td>96.12</td>\n",
       "      <td>0.003965</td>\n",
       "    </tr>\n",
       "  </tbody>\n",
       "</table>\n",
       "</div>"
      ],
      "text/plain": [
       "   Coupon  Maturite   Prix      Taux\n",
       "0       0         6  99.87  0.002605\n",
       "1       0         9  99.65  0.004686\n",
       "2       0        12  99.25  0.007557\n",
       "3       0        24  99.13  0.004379\n",
       "4       0        36  98.17  0.006175\n",
       "5       0        60  97.86  0.004336\n",
       "6       0       120  96.12  0.003965"
      ]
     },
     "execution_count": 12,
     "metadata": {},
     "output_type": "execute_result"
    }
   ],
   "source": [
    "listed= []\n",
    "for i in df1.index:\n",
    "    a= taux(df1[\"Maturite\"][i]\n",
    "              ,df1[\"Coupon\"][i]\n",
    "              ,df1[\"Prix\"][i]\n",
    "              ,df_f= df1)\n",
    "    print(a)\n",
    "    listed.append(a)\n",
    "to= pd.Series(listed, name= 'Taux')\n",
    "df1_final= pd.concat([df1, to], axis= 1)\n",
    "df1_final"
   ]
  },
  {
   "cell_type": "code",
   "execution_count": 10,
   "metadata": {
    "scrolled": true
   },
   "outputs": [
    {
     "name": "stdout",
     "output_type": "stream",
     "text": [
      "0.009591115598182709\n",
      "0.021046935109294562\n",
      "0.02197240674501799\n",
      "0.027807978739411654\n",
      "0.01844695607687763\n"
     ]
    }
   ],
   "source": [
    "for i in df.index:\n",
    "    print(taux(df[\"Maturite\"][i]\n",
    "               ,df[\"Coupon\"][i]\n",
    "               ,df[\"Prix\"][i]\n",
    "              ))\n",
    "    "
   ]
  },
  {
   "cell_type": "code",
   "execution_count": 11,
   "metadata": {},
   "outputs": [
    {
     "data": {
      "text/html": [
       "<div>\n",
       "<style scoped>\n",
       "    .dataframe tbody tr th:only-of-type {\n",
       "        vertical-align: middle;\n",
       "    }\n",
       "\n",
       "    .dataframe tbody tr th {\n",
       "        vertical-align: top;\n",
       "    }\n",
       "\n",
       "    .dataframe thead th {\n",
       "        text-align: right;\n",
       "    }\n",
       "</style>\n",
       "<table border=\"1\" class=\"dataframe\">\n",
       "  <thead>\n",
       "    <tr style=\"text-align: right;\">\n",
       "      <th></th>\n",
       "      <th>Coupon</th>\n",
       "      <th>Maturite</th>\n",
       "      <th>Prix</th>\n",
       "      <th>Taux</th>\n",
       "    </tr>\n",
       "  </thead>\n",
       "  <tbody>\n",
       "    <tr>\n",
       "      <td>0</td>\n",
       "      <td>0</td>\n",
       "      <td>6</td>\n",
       "      <td>99.87</td>\n",
       "      <td>0.009591</td>\n",
       "    </tr>\n",
       "    <tr>\n",
       "      <td>1</td>\n",
       "      <td>0</td>\n",
       "      <td>9</td>\n",
       "      <td>99.65</td>\n",
       "      <td>0.021047</td>\n",
       "    </tr>\n",
       "    <tr>\n",
       "      <td>2</td>\n",
       "      <td>0</td>\n",
       "      <td>12</td>\n",
       "      <td>99.25</td>\n",
       "      <td>0.021972</td>\n",
       "    </tr>\n",
       "    <tr>\n",
       "      <td>3</td>\n",
       "      <td>0</td>\n",
       "      <td>24</td>\n",
       "      <td>99.13</td>\n",
       "      <td>0.027808</td>\n",
       "    </tr>\n",
       "    <tr>\n",
       "      <td>4</td>\n",
       "      <td>0</td>\n",
       "      <td>36</td>\n",
       "      <td>98.17</td>\n",
       "      <td>0.018447</td>\n",
       "    </tr>\n",
       "    <tr>\n",
       "      <td>5</td>\n",
       "      <td>0</td>\n",
       "      <td>60</td>\n",
       "      <td>97.86</td>\n",
       "      <td>NaN</td>\n",
       "    </tr>\n",
       "    <tr>\n",
       "      <td>6</td>\n",
       "      <td>0</td>\n",
       "      <td>120</td>\n",
       "      <td>96.12</td>\n",
       "      <td>NaN</td>\n",
       "    </tr>\n",
       "  </tbody>\n",
       "</table>\n",
       "</div>"
      ],
      "text/plain": [
       "   Coupon  Maturite   Prix      Taux\n",
       "0       0         6  99.87  0.009591\n",
       "1       0         9  99.65  0.021047\n",
       "2       0        12  99.25  0.021972\n",
       "3       0        24  99.13  0.027808\n",
       "4       0        36  98.17  0.018447\n",
       "5       0        60  97.86       NaN\n",
       "6       0       120  96.12       NaN"
      ]
     },
     "execution_count": 11,
     "metadata": {},
     "output_type": "execute_result"
    }
   ],
   "source": [
    "to= pd.Series(listed, name= 'Taux')\n",
    "df1_final= pd.concat([df1, to], axis= 1)\n",
    "df1_final"
   ]
  },
  {
   "cell_type": "code",
   "execution_count": 6,
   "metadata": {
    "scrolled": true
   },
   "outputs": [],
   "source": [
    "df2= pd.DataFrame({\n",
    "    \"Type\": [\"BTF\", \"BTF\", \"BTF\", \"FRTR\", \"FRTR\", \"FRTR\", \"FRTR\"]\n",
    "    , \"Coupon\": [0, 0, 0, 3.25, 0, 0, 0]\n",
    "    , \"Maturite\": pd.to_datetime([\"09/01/2020\", \"22/04/2020\"\n",
    "                                 ,\"12/01/2020\",\"25/10/2021\"\n",
    "                                 ,\"25/02/2022\",\"25/03/2024\"\n",
    "                                 ,\"25/11/2029\"], format= '%d/%m/%Y')\n",
    "    , \"Prix\": [100.6160, 100.3620, 100.18, 108.2940, 101.7920, 102.9090, 102.4720]\n",
    "})\n",
    "\n",
    "t=  dt.date(day= 3, month= 10, year= 2019)\n",
    "df2[\"Coupon\"] = df2[\"Coupon\"]/100\n",
    "\n",
    "df2_mat= [val for val in df2[\"Maturite\"]]\n",
    "\n",
    "df2[\"Maturite\"]=df2[\"Maturite\"].apply(lambda x: (x.year - t.year)*12 + (x.month - t.month))\n",
    "# df2= df2.sort_values(\"Maturite\").reset_index(drop= True)\n"
   ]
  },
  {
   "cell_type": "code",
   "execution_count": 7,
   "metadata": {},
   "outputs": [
    {
     "name": "stdout",
     "output_type": "stream",
     "text": [
      "-0.02426516899466813\n",
      "-0.0072008756967996135\n",
      "-0.007167716273639546\n",
      "-0.00846530937933565\n",
      "-0.0075831005011467445\n",
      "-0.006471403631553296\n",
      "-0.002418829035174208\n"
     ]
    }
   ],
   "source": [
    "listed= []\n",
    "for i in df2[df2[\"Type\"] == \"BTF\"].index:\n",
    "    print(taux(df2[\"Maturite\"][i], df2[\"Coupon\"][i], df2[\"Prix\"][i],df_f= df2))\n",
    "    listed.append(taux(df2[\"Maturite\"][i], df2[\"Coupon\"][i], df2[\"Prix\"][i],df_f= df2))\n",
    "for i in df2[df2[\"Type\"] == \"FRTR\"].index:\n",
    "    print(taux(df2[\"Maturite\"][i], df2[\"Coupon\"][i], df2[\"Prix\"][i],df_f= df2))\n",
    "    listed.append(taux(df2[\"Maturite\"][i], df2[\"Coupon\"][i], df2[\"Prix\"][i],df_f= df2))\n",
    "\n",
    "to= pd.Series(listed, name= 'Taux')\n",
    "df_final= pd.concat([df2, to], axis= 1)"
   ]
  },
  {
   "cell_type": "code",
   "execution_count": 14,
   "metadata": {},
   "outputs": [
    {
     "data": {
      "image/png": "[encoded data removed]",
      "text/plain": [
       "<Figure size 432x288 with 1 Axes>"
      ]
     },
     "metadata": {
      "needs_background": "light"
     },
     "output_type": "display_data"
    }
   ],
   "source": [
    "#graph\n",
    "df_final[\"Maturite\"]= df2_mat\n",
    "\n",
    "def courbe_taux_print(df):\n",
    "    fig, ax= plt.subplots()\n",
    "    plt.grid(b= True)\n",
    "\n",
    "    ax.plot(df[\"Maturite\"]\n",
    "            ,df[\"Taux\"]\n",
    "            , marker= '.'\n",
    "            , markerfacecolor= 'black'\n",
    "            , markersize= 9)\n",
    "\n",
    "    ax.set_xlabel(\"Maturite\", fontsize= 15)\n",
    "    ax.set_ylabel(\"Taux\", rotation= 0, fontsize= 15)\n",
    "    ax.set_title(\"Courbe des taux pour les obligations \")\n",
    "\n",
    "    plt.show()\n",
    "    \n",
    "courbe_taux_print(df_final)"
   ]
  },
  {
   "cell_type": "code",
   "execution_count": 15,
   "metadata": {},
   "outputs": [
    {
     "data": {
      "image/png": "[encoded data removed]",
      "text/plain": [
       "<Figure size 432x288 with 1 Axes>"
      ]
     },
     "metadata": {
      "needs_background": "light"
     },
     "output_type": "display_data"
    }
   ],
   "source": [
    "courbe_taux_print(df1_final)"
   ]
  },
  {
   "cell_type": "code",
   "execution_count": null,
   "metadata": {},
   "outputs": [],
   "source": []
  }
 ],
 "metadata": {
  "kernelspec": {
   "display_name": "Python 3",
   "language": "python",
   "name": "python3"
  },
  "language_info": {
   "codemirror_mode": {
    "name": "ipython",
    "version": 3
   },
   "file_extension": ".py",
   "mimetype": "text/x-python",
   "name": "python",
   "nbconvert_exporter": "python",
   "pygments_lexer": "ipython3",
   "version": "3.7.4"
  }
 },
 "nbformat": 4,
 "nbformat_minor": 2
}
