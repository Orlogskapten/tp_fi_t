{
 "cells": [
  {
   "cell_type": "markdown",
   "metadata": {},
   "source": [
    "# Rendement Risques"
   ]
  },
  {
   "cell_type": "code",
   "execution_count": 1,
   "metadata": {},
   "outputs": [],
   "source": [
    "import pandas as pd\n",
    "import numpy as np\n",
    "\n",
    "from scipy.optimize import newton\n",
    "#fonction newton scipy\n"
   ]
  },
  {
   "cell_type": "code",
   "execution_count": 2,
   "metadata": {},
   "outputs": [
    {
     "data": {
      "text/html": [
       "<div>\n",
       "<style scoped>\n",
       "    .dataframe tbody tr th:only-of-type {\n",
       "        vertical-align: middle;\n",
       "    }\n",
       "\n",
       "    .dataframe tbody tr th {\n",
       "        vertical-align: top;\n",
       "    }\n",
       "\n",
       "    .dataframe thead th {\n",
       "        text-align: right;\n",
       "    }\n",
       "</style>\n",
       "<table border=\"1\" class=\"dataframe\">\n",
       "  <thead>\n",
       "    <tr style=\"text-align: right;\">\n",
       "      <th></th>\n",
       "      <th>Coupon</th>\n",
       "      <th>Maturite</th>\n",
       "      <th>Prix</th>\n",
       "    </tr>\n",
       "  </thead>\n",
       "  <tbody>\n",
       "    <tr>\n",
       "      <td>0</td>\n",
       "      <td>0.000</td>\n",
       "      <td>0.50</td>\n",
       "      <td>99.05</td>\n",
       "    </tr>\n",
       "    <tr>\n",
       "      <td>1</td>\n",
       "      <td>0.000</td>\n",
       "      <td>0.75</td>\n",
       "      <td>98.45</td>\n",
       "    </tr>\n",
       "    <tr>\n",
       "      <td>2</td>\n",
       "      <td>0.000</td>\n",
       "      <td>1.00</td>\n",
       "      <td>97.85</td>\n",
       "    </tr>\n",
       "    <tr>\n",
       "      <td>3</td>\n",
       "      <td>0.035</td>\n",
       "      <td>2.00</td>\n",
       "      <td>101.40</td>\n",
       "    </tr>\n",
       "    <tr>\n",
       "      <td>4</td>\n",
       "      <td>0.040</td>\n",
       "      <td>3.00</td>\n",
       "      <td>102.20</td>\n",
       "    </tr>\n",
       "  </tbody>\n",
       "</table>\n",
       "</div>"
      ],
      "text/plain": [
       "   Coupon  Maturite    Prix\n",
       "0   0.000      0.50   99.05\n",
       "1   0.000      0.75   98.45\n",
       "2   0.000      1.00   97.85\n",
       "3   0.035      2.00  101.40\n",
       "4   0.040      3.00  102.20"
      ]
     },
     "execution_count": 2,
     "metadata": {},
     "output_type": "execute_result"
    }
   ],
   "source": [
    "df1 = pd.DataFrame(\n",
    "{\n",
    "    \"Coupon\": [0, 0, 0, 0.035, 0.04]\n",
    "    , \"Maturite\": [6, 9, 12, 24, 36]\n",
    "    , \"Prix\": [99.05, 98.45, 97.85, 101.4, 102.2]\n",
    "})\n",
    "df1[\"Maturite\"]= df1[\"Maturite\"]/12\n",
    "df1"
   ]
  },
  {
   "cell_type": "code",
   "execution_count": 3,
   "metadata": {},
   "outputs": [
    {
     "data": {
      "text/html": [
       "<div>\n",
       "<style scoped>\n",
       "    .dataframe tbody tr th:only-of-type {\n",
       "        vertical-align: middle;\n",
       "    }\n",
       "\n",
       "    .dataframe tbody tr th {\n",
       "        vertical-align: top;\n",
       "    }\n",
       "\n",
       "    .dataframe thead th {\n",
       "        text-align: right;\n",
       "    }\n",
       "</style>\n",
       "<table border=\"1\" class=\"dataframe\">\n",
       "  <thead>\n",
       "    <tr style=\"text-align: right;\">\n",
       "      <th></th>\n",
       "      <th>Coupon</th>\n",
       "      <th>Maturite</th>\n",
       "      <th>Prix</th>\n",
       "    </tr>\n",
       "  </thead>\n",
       "  <tbody>\n",
       "    <tr>\n",
       "      <td>0</td>\n",
       "      <td>0.0000</td>\n",
       "      <td>0.25</td>\n",
       "      <td>100.616</td>\n",
       "    </tr>\n",
       "    <tr>\n",
       "      <td>1</td>\n",
       "      <td>0.0000</td>\n",
       "      <td>0.50</td>\n",
       "      <td>100.362</td>\n",
       "    </tr>\n",
       "    <tr>\n",
       "      <td>2</td>\n",
       "      <td>0.0000</td>\n",
       "      <td>1.00</td>\n",
       "      <td>100.180</td>\n",
       "    </tr>\n",
       "    <tr>\n",
       "      <td>3</td>\n",
       "      <td>0.0325</td>\n",
       "      <td>2.00</td>\n",
       "      <td>108.294</td>\n",
       "    </tr>\n",
       "    <tr>\n",
       "      <td>4</td>\n",
       "      <td>0.0000</td>\n",
       "      <td>3.00</td>\n",
       "      <td>101.792</td>\n",
       "    </tr>\n",
       "    <tr>\n",
       "      <td>5</td>\n",
       "      <td>0.0000</td>\n",
       "      <td>5.00</td>\n",
       "      <td>102.909</td>\n",
       "    </tr>\n",
       "    <tr>\n",
       "      <td>6</td>\n",
       "      <td>0.0000</td>\n",
       "      <td>6.00</td>\n",
       "      <td>102.472</td>\n",
       "    </tr>\n",
       "  </tbody>\n",
       "</table>\n",
       "</div>"
      ],
      "text/plain": [
       "   Coupon  Maturite     Prix\n",
       "0  0.0000      0.25  100.616\n",
       "1  0.0000      0.50  100.362\n",
       "2  0.0000      1.00  100.180\n",
       "3  0.0325      2.00  108.294\n",
       "4  0.0000      3.00  101.792\n",
       "5  0.0000      5.00  102.909\n",
       "6  0.0000      6.00  102.472"
      ]
     },
     "execution_count": 3,
     "metadata": {},
     "output_type": "execute_result"
    }
   ],
   "source": [
    "df2= pd.DataFrame(\n",
    "{\n",
    "    \"Coupon\": [0, 0, 0, 0.0325, 0, 0, 0]\n",
    "    , \"Maturite\": [3, 6, 12, 24, 36, 60, 72]\n",
    "    , \"Prix\": [100.616, 100.362, 100.18, 108.294, 101.792, 102.909, 102.472]\n",
    "})\n",
    "df2[\"Maturite\"]= df2[\"Maturite\"]/12\n",
    "df2"
   ]
  },
  {
   "cell_type": "markdown",
   "metadata": {},
   "source": [
    "## 1)."
   ]
  },
  {
   "cell_type": "code",
   "execution_count": 4,
   "metadata": {},
   "outputs": [],
   "source": [
    "#a.\n",
    "def f(x, p, c, m, n=100):\n",
    "    C= c*n\n",
    "    somme= 0\n",
    "    for i in range(1, int(m)):\n",
    "        somme += C*pow(x, i)\n",
    "    return p - somme - (n+C)*pow(x, m)\n",
    "\n",
    "# def f(x, p, c, m, n=100):\n",
    "#     C= c*n\n",
    "#     somme= 0\n",
    "#     if m <= 1 or c == 0:\n",
    "#         return p - (n+C)*pow(x,m)\n",
    "#     else:\n",
    "#         for i in range(1, m):\n",
    "#             somme += C*pow(x, i)\n",
    "#         return p - somme - (n+C)*pow(x, m)\n",
    "\n",
    "\n",
    "def fprime(x, p, c, m, n=100):\n",
    "    C= c*n\n",
    "    somme= 0\n",
    "    for i in range(1, int(m)):\n",
    "            somme += i*C*pow(x, i-1)\n",
    "    return - somme - (n+C)*m*pow(x, m-1)"
   ]
  },
  {
   "cell_type": "code",
   "execution_count": 5,
   "metadata": {},
   "outputs": [
    {
     "data": {
      "text/plain": [
       "-31.6672"
      ]
     },
     "execution_count": 5,
     "metadata": {},
     "output_type": "execute_result"
    }
   ],
   "source": [
    "f(x= 2, p=0.9528, c= 0.01, m=5, n=1)"
   ]
  },
  {
   "cell_type": "code",
   "execution_count": 6,
   "metadata": {},
   "outputs": [
    {
     "data": {
      "text/plain": [
       "-81.28999999999999"
      ]
     },
     "execution_count": 6,
     "metadata": {},
     "output_type": "execute_result"
    }
   ],
   "source": [
    "fprime(x= 2, p=0.9528, c= 0.01, m=5, n=1)"
   ]
  },
  {
   "cell_type": "code",
   "execution_count": 7,
   "metadata": {},
   "outputs": [
    {
     "data": {
      "text/plain": [
       "0.02001429157313739"
      ]
     },
     "execution_count": 7,
     "metadata": {},
     "output_type": "execute_result"
    }
   ],
   "source": [
    "#Partie Newton\n",
    "def yield_to_mat(f, x0, fprime, args):\n",
    "    new= newton(func= f,x0=x0, fprime=fprime, args= args)\n",
    "    return (1/new) - 1\n",
    "\n",
    "newton(func= f\n",
    "      ,x0=1.5\n",
    "      ,fprime= fprime\n",
    "      ,args= (0.9528, 0.01, 5, 1))\n",
    "\n",
    "yield_to_mat(f,2,fprime,(0.9528, 0.01, 5, 1))"
   ]
  },
  {
   "cell_type": "code",
   "execution_count": 8,
   "metadata": {},
   "outputs": [
    {
     "data": {
      "text/html": [
       "<div>\n",
       "<style scoped>\n",
       "    .dataframe tbody tr th:only-of-type {\n",
       "        vertical-align: middle;\n",
       "    }\n",
       "\n",
       "    .dataframe tbody tr th {\n",
       "        vertical-align: top;\n",
       "    }\n",
       "\n",
       "    .dataframe thead th {\n",
       "        text-align: right;\n",
       "    }\n",
       "</style>\n",
       "<table border=\"1\" class=\"dataframe\">\n",
       "  <thead>\n",
       "    <tr style=\"text-align: right;\">\n",
       "      <th></th>\n",
       "      <th>Coupon</th>\n",
       "      <th>Maturite</th>\n",
       "      <th>Prix</th>\n",
       "    </tr>\n",
       "  </thead>\n",
       "  <tbody>\n",
       "    <tr>\n",
       "      <td>0</td>\n",
       "      <td>0.000</td>\n",
       "      <td>0.50</td>\n",
       "      <td>99.05</td>\n",
       "    </tr>\n",
       "    <tr>\n",
       "      <td>1</td>\n",
       "      <td>0.000</td>\n",
       "      <td>0.75</td>\n",
       "      <td>98.45</td>\n",
       "    </tr>\n",
       "    <tr>\n",
       "      <td>2</td>\n",
       "      <td>0.000</td>\n",
       "      <td>1.00</td>\n",
       "      <td>97.85</td>\n",
       "    </tr>\n",
       "    <tr>\n",
       "      <td>3</td>\n",
       "      <td>0.035</td>\n",
       "      <td>2.00</td>\n",
       "      <td>101.40</td>\n",
       "    </tr>\n",
       "    <tr>\n",
       "      <td>4</td>\n",
       "      <td>0.040</td>\n",
       "      <td>3.00</td>\n",
       "      <td>102.20</td>\n",
       "    </tr>\n",
       "  </tbody>\n",
       "</table>\n",
       "</div>"
      ],
      "text/plain": [
       "   Coupon  Maturite    Prix\n",
       "0   0.000      0.50   99.05\n",
       "1   0.000      0.75   98.45\n",
       "2   0.000      1.00   97.85\n",
       "3   0.035      2.00  101.40\n",
       "4   0.040      3.00  102.20"
      ]
     },
     "execution_count": 8,
     "metadata": {},
     "output_type": "execute_result"
    }
   ],
   "source": [
    "df1_cop= pd.DataFrame()\n",
    "df1_cop= df1.copy()\n",
    "df1_cop"
   ]
  },
  {
   "cell_type": "code",
   "execution_count": 9,
   "metadata": {},
   "outputs": [
    {
     "data": {
      "text/html": [
       "<div>\n",
       "<style scoped>\n",
       "    .dataframe tbody tr th:only-of-type {\n",
       "        vertical-align: middle;\n",
       "    }\n",
       "\n",
       "    .dataframe tbody tr th {\n",
       "        vertical-align: top;\n",
       "    }\n",
       "\n",
       "    .dataframe thead th {\n",
       "        text-align: right;\n",
       "    }\n",
       "</style>\n",
       "<table border=\"1\" class=\"dataframe\">\n",
       "  <thead>\n",
       "    <tr style=\"text-align: right;\">\n",
       "      <th></th>\n",
       "      <th>Coupon</th>\n",
       "      <th>Maturite</th>\n",
       "      <th>Prix</th>\n",
       "      <th>Yield</th>\n",
       "    </tr>\n",
       "  </thead>\n",
       "  <tbody>\n",
       "    <tr>\n",
       "      <td>0</td>\n",
       "      <td>0.000</td>\n",
       "      <td>0.50</td>\n",
       "      <td>99.05</td>\n",
       "      <td>0.019274</td>\n",
       "    </tr>\n",
       "    <tr>\n",
       "      <td>1</td>\n",
       "      <td>0.000</td>\n",
       "      <td>0.75</td>\n",
       "      <td>98.45</td>\n",
       "      <td>0.021047</td>\n",
       "    </tr>\n",
       "    <tr>\n",
       "      <td>2</td>\n",
       "      <td>0.000</td>\n",
       "      <td>1.00</td>\n",
       "      <td>97.85</td>\n",
       "      <td>0.021972</td>\n",
       "    </tr>\n",
       "    <tr>\n",
       "      <td>3</td>\n",
       "      <td>0.035</td>\n",
       "      <td>2.00</td>\n",
       "      <td>101.40</td>\n",
       "      <td>0.027708</td>\n",
       "    </tr>\n",
       "    <tr>\n",
       "      <td>4</td>\n",
       "      <td>0.040</td>\n",
       "      <td>3.00</td>\n",
       "      <td>102.20</td>\n",
       "      <td>0.032190</td>\n",
       "    </tr>\n",
       "  </tbody>\n",
       "</table>\n",
       "</div>"
      ],
      "text/plain": [
       "   Coupon  Maturite    Prix     Yield\n",
       "0   0.000      0.50   99.05  0.019274\n",
       "1   0.000      0.75   98.45  0.021047\n",
       "2   0.000      1.00   97.85  0.021972\n",
       "3   0.035      2.00  101.40  0.027708\n",
       "4   0.040      3.00  102.20  0.032190"
      ]
     },
     "execution_count": 9,
     "metadata": {},
     "output_type": "execute_result"
    }
   ],
   "source": [
    "# df1_cop[\"Yield\"]= df1_cop.apply(lambda row: yield_to_mat(f, 2, fprime\n",
    "#                                                       , args=\n",
    "#                                                       (row[0], row[\"Coupon\"], row[\"Maturite\"], 100\n",
    "#                                                       )), axis= 1)\n",
    "# df1_cop[\"Maturite\"]= df1_cop[\"Maturite\"].apply(int)\n",
    "\n",
    "\n",
    "df1_cop[\"Yield\"]= df1_cop.apply(lambda row: yield_to_mat(f, 2, fprime,\n",
    "                                                        args= (row[2],row[0],row[1], 100)), axis=1)\n",
    "df1_cop"
   ]
  },
  {
   "cell_type": "code",
   "execution_count": 10,
   "metadata": {},
   "outputs": [
    {
     "data": {
      "text/html": [
       "<div>\n",
       "<style scoped>\n",
       "    .dataframe tbody tr th:only-of-type {\n",
       "        vertical-align: middle;\n",
       "    }\n",
       "\n",
       "    .dataframe tbody tr th {\n",
       "        vertical-align: top;\n",
       "    }\n",
       "\n",
       "    .dataframe thead th {\n",
       "        text-align: right;\n",
       "    }\n",
       "</style>\n",
       "<table border=\"1\" class=\"dataframe\">\n",
       "  <thead>\n",
       "    <tr style=\"text-align: right;\">\n",
       "      <th></th>\n",
       "      <th>Coupon</th>\n",
       "      <th>Maturite</th>\n",
       "      <th>Prix</th>\n",
       "    </tr>\n",
       "  </thead>\n",
       "  <tbody>\n",
       "    <tr>\n",
       "      <td>0</td>\n",
       "      <td>0.0000</td>\n",
       "      <td>0.25</td>\n",
       "      <td>100.616</td>\n",
       "    </tr>\n",
       "    <tr>\n",
       "      <td>1</td>\n",
       "      <td>0.0000</td>\n",
       "      <td>0.50</td>\n",
       "      <td>100.362</td>\n",
       "    </tr>\n",
       "    <tr>\n",
       "      <td>2</td>\n",
       "      <td>0.0000</td>\n",
       "      <td>1.00</td>\n",
       "      <td>100.180</td>\n",
       "    </tr>\n",
       "    <tr>\n",
       "      <td>3</td>\n",
       "      <td>0.0325</td>\n",
       "      <td>2.00</td>\n",
       "      <td>108.294</td>\n",
       "    </tr>\n",
       "    <tr>\n",
       "      <td>4</td>\n",
       "      <td>0.0000</td>\n",
       "      <td>3.00</td>\n",
       "      <td>101.792</td>\n",
       "    </tr>\n",
       "    <tr>\n",
       "      <td>5</td>\n",
       "      <td>0.0000</td>\n",
       "      <td>5.00</td>\n",
       "      <td>102.909</td>\n",
       "    </tr>\n",
       "    <tr>\n",
       "      <td>6</td>\n",
       "      <td>0.0000</td>\n",
       "      <td>6.00</td>\n",
       "      <td>102.472</td>\n",
       "    </tr>\n",
       "  </tbody>\n",
       "</table>\n",
       "</div>"
      ],
      "text/plain": [
       "   Coupon  Maturite     Prix\n",
       "0  0.0000      0.25  100.616\n",
       "1  0.0000      0.50  100.362\n",
       "2  0.0000      1.00  100.180\n",
       "3  0.0325      2.00  108.294\n",
       "4  0.0000      3.00  101.792\n",
       "5  0.0000      5.00  102.909\n",
       "6  0.0000      6.00  102.472"
      ]
     },
     "execution_count": 10,
     "metadata": {},
     "output_type": "execute_result"
    }
   ],
   "source": [
    "df2_cop= pd.DataFrame()\n",
    "df2_cop= df2.copy()\n",
    "df2_cop"
   ]
  },
  {
   "cell_type": "code",
   "execution_count": 11,
   "metadata": {},
   "outputs": [
    {
     "data": {
      "text/html": [
       "<div>\n",
       "<style scoped>\n",
       "    .dataframe tbody tr th:only-of-type {\n",
       "        vertical-align: middle;\n",
       "    }\n",
       "\n",
       "    .dataframe tbody tr th {\n",
       "        vertical-align: top;\n",
       "    }\n",
       "\n",
       "    .dataframe thead th {\n",
       "        text-align: right;\n",
       "    }\n",
       "</style>\n",
       "<table border=\"1\" class=\"dataframe\">\n",
       "  <thead>\n",
       "    <tr style=\"text-align: right;\">\n",
       "      <th></th>\n",
       "      <th>Coupon</th>\n",
       "      <th>Maturite</th>\n",
       "      <th>Prix</th>\n",
       "      <th>Yield</th>\n",
       "    </tr>\n",
       "  </thead>\n",
       "  <tbody>\n",
       "    <tr>\n",
       "      <td>0</td>\n",
       "      <td>0.0000</td>\n",
       "      <td>0.25</td>\n",
       "      <td>100.616</td>\n",
       "      <td>-0.024265</td>\n",
       "    </tr>\n",
       "    <tr>\n",
       "      <td>1</td>\n",
       "      <td>0.0000</td>\n",
       "      <td>0.50</td>\n",
       "      <td>100.362</td>\n",
       "      <td>-0.007201</td>\n",
       "    </tr>\n",
       "    <tr>\n",
       "      <td>2</td>\n",
       "      <td>0.0000</td>\n",
       "      <td>1.00</td>\n",
       "      <td>100.180</td>\n",
       "      <td>-0.001797</td>\n",
       "    </tr>\n",
       "    <tr>\n",
       "      <td>3</td>\n",
       "      <td>0.0325</td>\n",
       "      <td>2.00</td>\n",
       "      <td>108.294</td>\n",
       "      <td>-0.008445</td>\n",
       "    </tr>\n",
       "    <tr>\n",
       "      <td>4</td>\n",
       "      <td>0.0000</td>\n",
       "      <td>3.00</td>\n",
       "      <td>101.792</td>\n",
       "      <td>-0.005903</td>\n",
       "    </tr>\n",
       "    <tr>\n",
       "      <td>5</td>\n",
       "      <td>0.0000</td>\n",
       "      <td>5.00</td>\n",
       "      <td>102.909</td>\n",
       "      <td>-0.005719</td>\n",
       "    </tr>\n",
       "    <tr>\n",
       "      <td>6</td>\n",
       "      <td>0.0000</td>\n",
       "      <td>6.00</td>\n",
       "      <td>102.472</td>\n",
       "      <td>-0.004062</td>\n",
       "    </tr>\n",
       "  </tbody>\n",
       "</table>\n",
       "</div>"
      ],
      "text/plain": [
       "   Coupon  Maturite     Prix     Yield\n",
       "0  0.0000      0.25  100.616 -0.024265\n",
       "1  0.0000      0.50  100.362 -0.007201\n",
       "2  0.0000      1.00  100.180 -0.001797\n",
       "3  0.0325      2.00  108.294 -0.008445\n",
       "4  0.0000      3.00  101.792 -0.005903\n",
       "5  0.0000      5.00  102.909 -0.005719\n",
       "6  0.0000      6.00  102.472 -0.004062"
      ]
     },
     "execution_count": 11,
     "metadata": {},
     "output_type": "execute_result"
    }
   ],
   "source": [
    "df2_cop[\"Yield\"]= df2_cop.apply(lambda row: yield_to_mat(f, 2, fprime,\n",
    "                                                        args= (row[2],row[0],row[1], 100))\n",
    "                               , axis= 1)\n",
    "df2_cop"
   ]
  },
  {
   "cell_type": "code",
   "execution_count": 12,
   "metadata": {},
   "outputs": [],
   "source": [
    "def prime(y, c):\n",
    "    if y < c:\n",
    "        return \"Discount\"\n",
    "    elif y > c:\n",
    "        return \"Premium\"\n",
    "    else:\n",
    "        return \"Pair\""
   ]
  },
  {
   "cell_type": "code",
   "execution_count": 13,
   "metadata": {},
   "outputs": [
    {
     "data": {
      "text/html": [
       "<div>\n",
       "<style scoped>\n",
       "    .dataframe tbody tr th:only-of-type {\n",
       "        vertical-align: middle;\n",
       "    }\n",
       "\n",
       "    .dataframe tbody tr th {\n",
       "        vertical-align: top;\n",
       "    }\n",
       "\n",
       "    .dataframe thead th {\n",
       "        text-align: right;\n",
       "    }\n",
       "</style>\n",
       "<table border=\"1\" class=\"dataframe\">\n",
       "  <thead>\n",
       "    <tr style=\"text-align: right;\">\n",
       "      <th></th>\n",
       "      <th>Coupon</th>\n",
       "      <th>Maturite</th>\n",
       "      <th>Prix</th>\n",
       "      <th>Yield</th>\n",
       "      <th>Comparaison</th>\n",
       "    </tr>\n",
       "  </thead>\n",
       "  <tbody>\n",
       "    <tr>\n",
       "      <td>0</td>\n",
       "      <td>0.000</td>\n",
       "      <td>0.50</td>\n",
       "      <td>99.05</td>\n",
       "      <td>0.019274</td>\n",
       "      <td>Premium</td>\n",
       "    </tr>\n",
       "    <tr>\n",
       "      <td>1</td>\n",
       "      <td>0.000</td>\n",
       "      <td>0.75</td>\n",
       "      <td>98.45</td>\n",
       "      <td>0.021047</td>\n",
       "      <td>Premium</td>\n",
       "    </tr>\n",
       "    <tr>\n",
       "      <td>2</td>\n",
       "      <td>0.000</td>\n",
       "      <td>1.00</td>\n",
       "      <td>97.85</td>\n",
       "      <td>0.021972</td>\n",
       "      <td>Premium</td>\n",
       "    </tr>\n",
       "    <tr>\n",
       "      <td>3</td>\n",
       "      <td>0.035</td>\n",
       "      <td>2.00</td>\n",
       "      <td>101.40</td>\n",
       "      <td>0.027708</td>\n",
       "      <td>Discount</td>\n",
       "    </tr>\n",
       "    <tr>\n",
       "      <td>4</td>\n",
       "      <td>0.040</td>\n",
       "      <td>3.00</td>\n",
       "      <td>102.20</td>\n",
       "      <td>0.032190</td>\n",
       "      <td>Discount</td>\n",
       "    </tr>\n",
       "  </tbody>\n",
       "</table>\n",
       "</div>"
      ],
      "text/plain": [
       "   Coupon  Maturite    Prix     Yield Comparaison\n",
       "0   0.000      0.50   99.05  0.019274     Premium\n",
       "1   0.000      0.75   98.45  0.021047     Premium\n",
       "2   0.000      1.00   97.85  0.021972     Premium\n",
       "3   0.035      2.00  101.40  0.027708    Discount\n",
       "4   0.040      3.00  102.20  0.032190    Discount"
      ]
     },
     "execution_count": 13,
     "metadata": {},
     "output_type": "execute_result"
    }
   ],
   "source": [
    "df1_cop[\"Comparaison\"]= df1_cop.apply(lambda row: prime(row[3], row[0])\n",
    "                                     ,axis= 1)\n",
    "df1_cop"
   ]
  },
  {
   "cell_type": "code",
   "execution_count": 14,
   "metadata": {
    "scrolled": true
   },
   "outputs": [
    {
     "data": {
      "text/html": [
       "<div>\n",
       "<style scoped>\n",
       "    .dataframe tbody tr th:only-of-type {\n",
       "        vertical-align: middle;\n",
       "    }\n",
       "\n",
       "    .dataframe tbody tr th {\n",
       "        vertical-align: top;\n",
       "    }\n",
       "\n",
       "    .dataframe thead th {\n",
       "        text-align: right;\n",
       "    }\n",
       "</style>\n",
       "<table border=\"1\" class=\"dataframe\">\n",
       "  <thead>\n",
       "    <tr style=\"text-align: right;\">\n",
       "      <th></th>\n",
       "      <th>Coupon</th>\n",
       "      <th>Maturite</th>\n",
       "      <th>Prix</th>\n",
       "      <th>Yield</th>\n",
       "      <th>Comparaison</th>\n",
       "    </tr>\n",
       "  </thead>\n",
       "  <tbody>\n",
       "    <tr>\n",
       "      <td>0</td>\n",
       "      <td>0.0000</td>\n",
       "      <td>0.25</td>\n",
       "      <td>100.616</td>\n",
       "      <td>-0.024265</td>\n",
       "      <td>Discount</td>\n",
       "    </tr>\n",
       "    <tr>\n",
       "      <td>1</td>\n",
       "      <td>0.0000</td>\n",
       "      <td>0.50</td>\n",
       "      <td>100.362</td>\n",
       "      <td>-0.007201</td>\n",
       "      <td>Discount</td>\n",
       "    </tr>\n",
       "    <tr>\n",
       "      <td>2</td>\n",
       "      <td>0.0000</td>\n",
       "      <td>1.00</td>\n",
       "      <td>100.180</td>\n",
       "      <td>-0.001797</td>\n",
       "      <td>Discount</td>\n",
       "    </tr>\n",
       "    <tr>\n",
       "      <td>3</td>\n",
       "      <td>0.0325</td>\n",
       "      <td>2.00</td>\n",
       "      <td>108.294</td>\n",
       "      <td>-0.008445</td>\n",
       "      <td>Discount</td>\n",
       "    </tr>\n",
       "    <tr>\n",
       "      <td>4</td>\n",
       "      <td>0.0000</td>\n",
       "      <td>3.00</td>\n",
       "      <td>101.792</td>\n",
       "      <td>-0.005903</td>\n",
       "      <td>Discount</td>\n",
       "    </tr>\n",
       "    <tr>\n",
       "      <td>5</td>\n",
       "      <td>0.0000</td>\n",
       "      <td>5.00</td>\n",
       "      <td>102.909</td>\n",
       "      <td>-0.005719</td>\n",
       "      <td>Discount</td>\n",
       "    </tr>\n",
       "    <tr>\n",
       "      <td>6</td>\n",
       "      <td>0.0000</td>\n",
       "      <td>6.00</td>\n",
       "      <td>102.472</td>\n",
       "      <td>-0.004062</td>\n",
       "      <td>Discount</td>\n",
       "    </tr>\n",
       "  </tbody>\n",
       "</table>\n",
       "</div>"
      ],
      "text/plain": [
       "   Coupon  Maturite     Prix     Yield Comparaison\n",
       "0  0.0000      0.25  100.616 -0.024265    Discount\n",
       "1  0.0000      0.50  100.362 -0.007201    Discount\n",
       "2  0.0000      1.00  100.180 -0.001797    Discount\n",
       "3  0.0325      2.00  108.294 -0.008445    Discount\n",
       "4  0.0000      3.00  101.792 -0.005903    Discount\n",
       "5  0.0000      5.00  102.909 -0.005719    Discount\n",
       "6  0.0000      6.00  102.472 -0.004062    Discount"
      ]
     },
     "execution_count": 14,
     "metadata": {},
     "output_type": "execute_result"
    }
   ],
   "source": [
    "df2_cop[\"Comparaison\"]= df2_cop.apply(lambda row: prime(row[3], row[0])\n",
    "                                     ,axis= 1)\n",
    "df2_cop"
   ]
  },
  {
   "cell_type": "markdown",
   "metadata": {},
   "source": [
    "# Gestion du risque\n",
    "\n",
    "D'un portefeuille obligataire"
   ]
  },
  {
   "cell_type": "code",
   "execution_count": 15,
   "metadata": {},
   "outputs": [],
   "source": [
    "# somme (-i*C)/(1+y)^^(i+1) +  T(N + C)/((1+y)^^(T+1))\n",
    "def macaulay_duration(p, y, c, m, n=100):\n",
    "    C= c*n\n",
    "    somme1, somme2= 0, 0\n",
    "    for i in range(1, int(m)):\n",
    "        somme1 += i*C/pow(1+y, i)\n",
    "        somme2 += C/pow(1+y, i)\n",
    "    return (somme1 + m*(C+n)/pow(1+y,m))/(somme2 +(C+n)/pow(1+y,m))"
   ]
  },
  {
   "cell_type": "code",
   "execution_count": 16,
   "metadata": {},
   "outputs": [
    {
     "data": {
      "text/plain": [
       "4.999999999999999"
      ]
     },
     "execution_count": 16,
     "metadata": {},
     "output_type": "execute_result"
    }
   ],
   "source": [
    "macaulay_duration(0.9585, 0.0200, 0.0, 5, 1)"
   ]
  },
  {
   "cell_type": "code",
   "execution_count": 17,
   "metadata": {},
   "outputs": [],
   "source": [
    "def duration(p, y, c, m, n=100):\n",
    "    return -(1/(1+y))*macaulay_duration(p, y, c, m, n)*p"
   ]
  },
  {
   "cell_type": "code",
   "execution_count": 18,
   "metadata": {
    "scrolled": true
   },
   "outputs": [
    {
     "data": {
      "text/plain": [
       "-4.368229122463465"
      ]
     },
     "execution_count": 18,
     "metadata": {},
     "output_type": "execute_result"
    }
   ],
   "source": [
    "duration(0.9585, 0.02001429157313739, 0.04, 5, 1)"
   ]
  },
  {
   "cell_type": "code",
   "execution_count": 19,
   "metadata": {},
   "outputs": [],
   "source": [
    "def duration_modif(p, y, c, m, n=100):\n",
    "    return duration(p, y, c, m, n)/p"
   ]
  },
  {
   "cell_type": "code",
   "execution_count": 20,
   "metadata": {},
   "outputs": [
    {
     "data": {
      "text/plain": [
       "-4.557359543519524"
      ]
     },
     "execution_count": 20,
     "metadata": {},
     "output_type": "execute_result"
    }
   ],
   "source": [
    "duration_modif(0.9585, 0.02001429157313739, 0.04, 5, 1)"
   ]
  },
  {
   "cell_type": "code",
   "execution_count": 21,
   "metadata": {},
   "outputs": [],
   "source": [
    "def duration_prof(p, y, c, m, n=100):\n",
    "    C= c*n\n",
    "    somme= 0\n",
    "    for i in range(1, int(m)):\n",
    "        somme -= i*C/pow(1+y, i+1)\n",
    "    return somme - m*(C+n)/pow(1+y, m+1)"
   ]
  },
  {
   "cell_type": "code",
   "execution_count": 22,
   "metadata": {},
   "outputs": [
    {
     "data": {
      "text/plain": [
       "-4.9866533337959265"
      ]
     },
     "execution_count": 22,
     "metadata": {},
     "output_type": "execute_result"
    }
   ],
   "source": [
    "duration_prof(0.9585, 0.02001429157313739, 0.04, 5, 1)"
   ]
  },
  {
   "cell_type": "code",
   "execution_count": 23,
   "metadata": {},
   "outputs": [
    {
     "data": {
      "text/html": [
       "<div>\n",
       "<style scoped>\n",
       "    .dataframe tbody tr th:only-of-type {\n",
       "        vertical-align: middle;\n",
       "    }\n",
       "\n",
       "    .dataframe tbody tr th {\n",
       "        vertical-align: top;\n",
       "    }\n",
       "\n",
       "    .dataframe thead th {\n",
       "        text-align: right;\n",
       "    }\n",
       "</style>\n",
       "<table border=\"1\" class=\"dataframe\">\n",
       "  <thead>\n",
       "    <tr style=\"text-align: right;\">\n",
       "      <th></th>\n",
       "      <th>Coupon</th>\n",
       "      <th>Maturite</th>\n",
       "      <th>Prix</th>\n",
       "      <th>Yield</th>\n",
       "      <th>Comparaison</th>\n",
       "      <th>D</th>\n",
       "      <th>DM</th>\n",
       "      <th>MC</th>\n",
       "    </tr>\n",
       "  </thead>\n",
       "  <tbody>\n",
       "    <tr>\n",
       "      <td>0</td>\n",
       "      <td>0.000</td>\n",
       "      <td>0.50</td>\n",
       "      <td>99.05</td>\n",
       "      <td>0.019274</td>\n",
       "      <td>Premium</td>\n",
       "      <td>-48.588495</td>\n",
       "      <td>-0.490545</td>\n",
       "      <td>0.500000</td>\n",
       "    </tr>\n",
       "    <tr>\n",
       "      <td>1</td>\n",
       "      <td>0.000</td>\n",
       "      <td>0.75</td>\n",
       "      <td>98.45</td>\n",
       "      <td>0.021047</td>\n",
       "      <td>Premium</td>\n",
       "      <td>-72.315481</td>\n",
       "      <td>-0.734540</td>\n",
       "      <td>0.750000</td>\n",
       "    </tr>\n",
       "    <tr>\n",
       "      <td>2</td>\n",
       "      <td>0.000</td>\n",
       "      <td>1.00</td>\n",
       "      <td>97.85</td>\n",
       "      <td>0.021972</td>\n",
       "      <td>Premium</td>\n",
       "      <td>-95.746225</td>\n",
       "      <td>-0.978500</td>\n",
       "      <td>1.000000</td>\n",
       "    </tr>\n",
       "    <tr>\n",
       "      <td>3</td>\n",
       "      <td>0.035</td>\n",
       "      <td>2.00</td>\n",
       "      <td>101.40</td>\n",
       "      <td>0.027708</td>\n",
       "      <td>Discount</td>\n",
       "      <td>-194.018546</td>\n",
       "      <td>-1.913398</td>\n",
       "      <td>1.966414</td>\n",
       "    </tr>\n",
       "    <tr>\n",
       "      <td>4</td>\n",
       "      <td>0.040</td>\n",
       "      <td>3.00</td>\n",
       "      <td>102.20</td>\n",
       "      <td>0.032190</td>\n",
       "      <td>Discount</td>\n",
       "      <td>-285.892331</td>\n",
       "      <td>-2.797381</td>\n",
       "      <td>2.887427</td>\n",
       "    </tr>\n",
       "  </tbody>\n",
       "</table>\n",
       "</div>"
      ],
      "text/plain": [
       "   Coupon  Maturite    Prix     Yield Comparaison           D        DM  \\\n",
       "0   0.000      0.50   99.05  0.019274     Premium  -48.588495 -0.490545   \n",
       "1   0.000      0.75   98.45  0.021047     Premium  -72.315481 -0.734540   \n",
       "2   0.000      1.00   97.85  0.021972     Premium  -95.746225 -0.978500   \n",
       "3   0.035      2.00  101.40  0.027708    Discount -194.018546 -1.913398   \n",
       "4   0.040      3.00  102.20  0.032190    Discount -285.892331 -2.797381   \n",
       "\n",
       "         MC  \n",
       "0  0.500000  \n",
       "1  0.750000  \n",
       "2  1.000000  \n",
       "3  1.966414  \n",
       "4  2.887427  "
      ]
     },
     "execution_count": 23,
     "metadata": {},
     "output_type": "execute_result"
    }
   ],
   "source": [
    "\n",
    "#CE N EST PAS A METTRE DANS LE .PY DU PROF\n",
    "df1_cop[\"D\"]= df1_cop.apply(lambda row: duration(row[2],y=row[3], c=row[0], m=row[1], n=100)\n",
    "                            , axis= 1)\n",
    "\n",
    "df1_cop[\"DM\"]= df1_cop.apply(lambda row:\\\n",
    "                            duration_modif(row[2], row[3], row[0], row[1], 100)\n",
    "                            ,axis= 1)\n",
    "\n",
    "df1_cop[\"MC\"]= df1_cop.apply(lambda row:\\\n",
    "                             macaulay_duration(row[2], row[3], row[0], row[1], 100) \n",
    "                            ,axis= 1)\n",
    "df1_cop"
   ]
  },
  {
   "cell_type": "code",
   "execution_count": 24,
   "metadata": {},
   "outputs": [
    {
     "data": {
      "text/html": [
       "<div>\n",
       "<style scoped>\n",
       "    .dataframe tbody tr th:only-of-type {\n",
       "        vertical-align: middle;\n",
       "    }\n",
       "\n",
       "    .dataframe tbody tr th {\n",
       "        vertical-align: top;\n",
       "    }\n",
       "\n",
       "    .dataframe thead th {\n",
       "        text-align: right;\n",
       "    }\n",
       "</style>\n",
       "<table border=\"1\" class=\"dataframe\">\n",
       "  <thead>\n",
       "    <tr style=\"text-align: right;\">\n",
       "      <th></th>\n",
       "      <th>Coupon</th>\n",
       "      <th>Maturite</th>\n",
       "      <th>Prix</th>\n",
       "      <th>Yield</th>\n",
       "      <th>Comparaison</th>\n",
       "      <th>D</th>\n",
       "      <th>DM</th>\n",
       "      <th>MC</th>\n",
       "    </tr>\n",
       "  </thead>\n",
       "  <tbody>\n",
       "    <tr>\n",
       "      <td>0</td>\n",
       "      <td>0.0000</td>\n",
       "      <td>0.25</td>\n",
       "      <td>100.616</td>\n",
       "      <td>-0.024265</td>\n",
       "      <td>Discount</td>\n",
       "      <td>-25.779545</td>\n",
       "      <td>-0.256217</td>\n",
       "      <td>0.250000</td>\n",
       "    </tr>\n",
       "    <tr>\n",
       "      <td>1</td>\n",
       "      <td>0.0000</td>\n",
       "      <td>0.50</td>\n",
       "      <td>100.362</td>\n",
       "      <td>-0.007201</td>\n",
       "      <td>Discount</td>\n",
       "      <td>-50.544968</td>\n",
       "      <td>-0.503627</td>\n",
       "      <td>0.500000</td>\n",
       "    </tr>\n",
       "    <tr>\n",
       "      <td>2</td>\n",
       "      <td>0.0000</td>\n",
       "      <td>1.00</td>\n",
       "      <td>100.180</td>\n",
       "      <td>-0.001797</td>\n",
       "      <td>Discount</td>\n",
       "      <td>-100.360324</td>\n",
       "      <td>-1.001800</td>\n",
       "      <td>1.000000</td>\n",
       "    </tr>\n",
       "    <tr>\n",
       "      <td>3</td>\n",
       "      <td>0.0325</td>\n",
       "      <td>2.00</td>\n",
       "      <td>108.294</td>\n",
       "      <td>-0.008445</td>\n",
       "      <td>Discount</td>\n",
       "      <td>-215.127153</td>\n",
       "      <td>-1.986510</td>\n",
       "      <td>1.969733</td>\n",
       "    </tr>\n",
       "    <tr>\n",
       "      <td>4</td>\n",
       "      <td>0.0000</td>\n",
       "      <td>3.00</td>\n",
       "      <td>101.792</td>\n",
       "      <td>-0.005903</td>\n",
       "      <td>Discount</td>\n",
       "      <td>-307.189324</td>\n",
       "      <td>-3.017814</td>\n",
       "      <td>3.000000</td>\n",
       "    </tr>\n",
       "    <tr>\n",
       "      <td>5</td>\n",
       "      <td>0.0000</td>\n",
       "      <td>5.00</td>\n",
       "      <td>102.909</td>\n",
       "      <td>-0.005719</td>\n",
       "      <td>Discount</td>\n",
       "      <td>-517.504385</td>\n",
       "      <td>-5.028757</td>\n",
       "      <td>5.000000</td>\n",
       "    </tr>\n",
       "    <tr>\n",
       "      <td>6</td>\n",
       "      <td>0.0000</td>\n",
       "      <td>6.00</td>\n",
       "      <td>102.472</td>\n",
       "      <td>-0.004062</td>\n",
       "      <td>Discount</td>\n",
       "      <td>-617.339404</td>\n",
       "      <td>-6.024469</td>\n",
       "      <td>6.000000</td>\n",
       "    </tr>\n",
       "  </tbody>\n",
       "</table>\n",
       "</div>"
      ],
      "text/plain": [
       "   Coupon  Maturite     Prix     Yield Comparaison           D        DM  \\\n",
       "0  0.0000      0.25  100.616 -0.024265    Discount  -25.779545 -0.256217   \n",
       "1  0.0000      0.50  100.362 -0.007201    Discount  -50.544968 -0.503627   \n",
       "2  0.0000      1.00  100.180 -0.001797    Discount -100.360324 -1.001800   \n",
       "3  0.0325      2.00  108.294 -0.008445    Discount -215.127153 -1.986510   \n",
       "4  0.0000      3.00  101.792 -0.005903    Discount -307.189324 -3.017814   \n",
       "5  0.0000      5.00  102.909 -0.005719    Discount -517.504385 -5.028757   \n",
       "6  0.0000      6.00  102.472 -0.004062    Discount -617.339404 -6.024469   \n",
       "\n",
       "         MC  \n",
       "0  0.250000  \n",
       "1  0.500000  \n",
       "2  1.000000  \n",
       "3  1.969733  \n",
       "4  3.000000  \n",
       "5  5.000000  \n",
       "6  6.000000  "
      ]
     },
     "execution_count": 24,
     "metadata": {},
     "output_type": "execute_result"
    }
   ],
   "source": [
    "df2_cop[\"D\"]= df2_cop.apply(lambda row: duration(row[2],y=row[3], c=row[0], m=row[1], n=100)\n",
    "                            , axis= 1)\n",
    "\n",
    "df2_cop[\"DM\"]= df2_cop.apply(lambda row:\\\n",
    "                            duration_modif(row[2], row[3], row[0], row[1], 100)\n",
    "                            ,axis= 1)\n",
    "\n",
    "df2_cop[\"MC\"]= df2_cop.apply(lambda row:\\\n",
    "                             macaulay_duration(row[2], row[3], row[0], row[1], 100) \n",
    "                            ,axis= 1)\n",
    "df2_cop"
   ]
  },
  {
   "cell_type": "markdown",
   "metadata": {},
   "source": [
    "Soit un portefeuille composé de tous les actifs du df2 en même proportion.\n",
    "\n",
    "La duration est un opérateur linéaire, ainsi pour mesurer la duration de notre portefeuille équipondéré, nous allons sommer les durations de toutes les obligations au prorata de leur poids (soit ici 1/7)"
   ]
  },
  {
   "cell_type": "code",
   "execution_count": 25,
   "metadata": {},
   "outputs": [
    {
     "data": {
      "text/plain": [
       "2.5313904987230877"
      ]
     },
     "execution_count": 25,
     "metadata": {},
     "output_type": "execute_result"
    }
   ],
   "source": [
    "portefeuille_mc= sum(df2_cop[\"MC\"]/df2_cop.shape[0])\n",
    "portefeuille_mc"
   ]
  },
  {
   "cell_type": "code",
   "execution_count": 26,
   "metadata": {},
   "outputs": [
    {
     "data": {
      "text/plain": [
       "-261.977871824832"
      ]
     },
     "execution_count": 26,
     "metadata": {},
     "output_type": "execute_result"
    }
   ],
   "source": [
    "portefeuille_d= sum(df2_cop[\"D\"]/df2_cop.shape[0])\n",
    "portefeuille_d"
   ]
  },
  {
   "cell_type": "code",
   "execution_count": 27,
   "metadata": {},
   "outputs": [
    {
     "data": {
      "text/plain": [
       "-2.5455992197327912"
      ]
     },
     "execution_count": 27,
     "metadata": {},
     "output_type": "execute_result"
    }
   ],
   "source": [
    "portefeuille_dm= sum(df2_cop[\"DM\"]/df2_cop.shape[0])\n",
    "portefeuille_dm"
   ]
  },
  {
   "cell_type": "markdown",
   "metadata": {},
   "source": [
    "## Calcul de la sensibilité"
   ]
  },
  {
   "cell_type": "code",
   "execution_count": 28,
   "metadata": {},
   "outputs": [],
   "source": [
    "def derive1(y, c, m, n=100):\n",
    "    \"\"\"\n",
    "    \"\"\"\n",
    "    C= c*n\n",
    "    somme= 0\n",
    "    for i in range(1, int(m)):\n",
    "        somme -= i*(C)/pow(1+y, i+1)\n",
    "    return somme - m*(n+C)/pow(1+y, m+1)\n",
    "\n",
    "def derive2(y, c, m, n=100):\n",
    "    \"\"\"\n",
    "    \"\"\"\n",
    "    C= c*n\n",
    "    somme= 0\n",
    "    for i in range(1, int(m)):\n",
    "        somme += i*(i+1)*(C)/pow(1+y, i+2)\n",
    "    return somme + m*(m+1)*(C+n)/pow(1+y, m+2)\n",
    "\n",
    "def sensibilite(deltar, y, c, m, n=100):\n",
    "    \"\"\"\n",
    "    \"\"\"\n",
    "    return derive1(y, c, m, n)*deltar + (1/2)*derive2(y, c, m, n)*pow(deltar,2)\n",
    "\n",
    "# def sensibilite_modif(p, deltar, y, c, m, n=100):\n",
    "#     \"\"\"\n",
    "#     \"\"\"\n",
    "#     return sensibilite(y, c, m, n)/p\n",
    "\n",
    "def sensibilite_vrai(p, y, c, m, n=100):\n",
    "    return - macaulay_duration(p, y, c, m, n)/(1+y)"
   ]
  },
  {
   "cell_type": "code",
   "execution_count": 29,
   "metadata": {},
   "outputs": [
    {
     "name": "stdout",
     "output_type": "stream",
     "text": [
      "-2.118891779607947\n",
      "-1.9865095524900913\n"
     ]
    }
   ],
   "source": [
    "#test\n",
    "print(sensibilite(0.01, -0.008445, 0.0325, 2.00))\n",
    "# 0.035\t2.00\t101.40\t0.027708\n",
    "# 0.0325\t2.00\t108.294\t-0.008445\n",
    "print(sensibilite_vrai(108.294, -0.008445, 0.0325, 2.00))"
   ]
  },
  {
   "cell_type": "code",
   "execution_count": 32,
   "metadata": {},
   "outputs": [
    {
     "data": {
      "text/html": [
       "<div>\n",
       "<style scoped>\n",
       "    .dataframe tbody tr th:only-of-type {\n",
       "        vertical-align: middle;\n",
       "    }\n",
       "\n",
       "    .dataframe tbody tr th {\n",
       "        vertical-align: top;\n",
       "    }\n",
       "\n",
       "    .dataframe thead th {\n",
       "        text-align: right;\n",
       "    }\n",
       "</style>\n",
       "<table border=\"1\" class=\"dataframe\">\n",
       "  <thead>\n",
       "    <tr style=\"text-align: right;\">\n",
       "      <th></th>\n",
       "      <th>Coupon</th>\n",
       "      <th>Maturite</th>\n",
       "      <th>Yield</th>\n",
       "    </tr>\n",
       "  </thead>\n",
       "  <tbody>\n",
       "    <tr>\n",
       "      <td>0</td>\n",
       "      <td>0.0325</td>\n",
       "      <td>1</td>\n",
       "      <td>0.025</td>\n",
       "    </tr>\n",
       "    <tr>\n",
       "      <td>1</td>\n",
       "      <td>0.0325</td>\n",
       "      <td>2</td>\n",
       "      <td>0.025</td>\n",
       "    </tr>\n",
       "    <tr>\n",
       "      <td>2</td>\n",
       "      <td>0.0325</td>\n",
       "      <td>3</td>\n",
       "      <td>0.025</td>\n",
       "    </tr>\n",
       "    <tr>\n",
       "      <td>3</td>\n",
       "      <td>0.0325</td>\n",
       "      <td>4</td>\n",
       "      <td>0.025</td>\n",
       "    </tr>\n",
       "    <tr>\n",
       "      <td>4</td>\n",
       "      <td>0.0325</td>\n",
       "      <td>5</td>\n",
       "      <td>0.025</td>\n",
       "    </tr>\n",
       "    <tr>\n",
       "      <td>5</td>\n",
       "      <td>0.0325</td>\n",
       "      <td>6</td>\n",
       "      <td>0.025</td>\n",
       "    </tr>\n",
       "    <tr>\n",
       "      <td>6</td>\n",
       "      <td>0.0325</td>\n",
       "      <td>7</td>\n",
       "      <td>0.025</td>\n",
       "    </tr>\n",
       "    <tr>\n",
       "      <td>7</td>\n",
       "      <td>0.0325</td>\n",
       "      <td>8</td>\n",
       "      <td>0.025</td>\n",
       "    </tr>\n",
       "    <tr>\n",
       "      <td>8</td>\n",
       "      <td>0.0325</td>\n",
       "      <td>9</td>\n",
       "      <td>0.025</td>\n",
       "    </tr>\n",
       "    <tr>\n",
       "      <td>9</td>\n",
       "      <td>0.0325</td>\n",
       "      <td>10</td>\n",
       "      <td>0.025</td>\n",
       "    </tr>\n",
       "  </tbody>\n",
       "</table>\n",
       "</div>"
      ],
      "text/plain": [
       "   Coupon  Maturite  Yield\n",
       "0  0.0325         1  0.025\n",
       "1  0.0325         2  0.025\n",
       "2  0.0325         3  0.025\n",
       "3  0.0325         4  0.025\n",
       "4  0.0325         5  0.025\n",
       "5  0.0325         6  0.025\n",
       "6  0.0325         7  0.025\n",
       "7  0.0325         8  0.025\n",
       "8  0.0325         9  0.025\n",
       "9  0.0325        10  0.025"
      ]
     },
     "execution_count": 32,
     "metadata": {},
     "output_type": "execute_result"
    }
   ],
   "source": [
    "#construction df pour des maturite de 1 à 10 ans\n",
    "# pour n =100\n",
    "df3= pd.DataFrame(\n",
    "{\n",
    "    \"Coupon\": np.zeros(10)+0.0325,\n",
    "    \"Maturite\": np.arange(1, 11, 1),\n",
    "    \"Yield\": np.zeros(10)+0.025\n",
    "})\n",
    "df3"
   ]
  },
  {
   "cell_type": "code",
   "execution_count": null,
   "metadata": {},
   "outputs": [],
   "source": []
  }
 ],
 "metadata": {
  "kernelspec": {
   "display_name": "Python 3",
   "language": "python",
   "name": "python3"
  },
  "language_info": {
   "codemirror_mode": {
    "name": "ipython",
    "version": 3
   },
   "file_extension": ".py",
   "mimetype": "text/x-python",
   "name": "python",
   "nbconvert_exporter": "python",
   "pygments_lexer": "ipython3",
   "version": "3.7.4"
  }
 },
 "nbformat": 4,
 "nbformat_minor": 2
}
